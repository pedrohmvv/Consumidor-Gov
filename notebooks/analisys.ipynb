{
 "cells": [
  {
   "cell_type": "code",
   "execution_count": 1,
   "id": "61cdfbb6",
   "metadata": {},
   "outputs": [],
   "source": [
    "import sys\n",
    "import os\n",
    "\n",
    "# Adiciona o diretório raiz do projeto ao sys.path\n",
    "sys.path.append(os.path.abspath(os.path.join(os.getcwd(), '..')))"
   ]
  },
  {
   "cell_type": "markdown",
   "id": "f38391ab",
   "metadata": {},
   "source": [
    "# **Aprendizagem Supervisionada - Projeto Final**\n",
    "\n",
    "## **Ranqueamento de Urgência das Reclamações do Consumidor.gov**\n",
    "\n",
    "Professor: Aléssio Tony <br>\n",
    "Aluno: Pedro Henrique Medeiros Vieira - 20220092900\n",
    "\n",
    "### **Objetivo**\n",
    "\n",
    "O objetivo **principal** será calcular a probabilidade de uma reclamação não ser resolvida e criar um ranquemento de reclamações prioritárias.\n",
    "\n",
    "Outras ideias:\n",
    "\n",
    "- **Classificação de tipo de problema mais frequente**<br>\n",
    "    **Objetivo:** Classificar automaticamente as reclamações em categorias de problemas (ex: cobrança indevida, produto com defeito etc.), mesmo quando o usuário escreve de forma livre.\n",
    "\n",
    "  - **Técnica:** NLP + Classificação Multiclasse (ex: Logistic Regression, Random Forest, BERT)\n",
    "  - **Uso:** Facilita o direcionamento da demanda para a equipe correta.\n",
    "  \n",
    "- **Previsão de tempo de resposta ou resolução**<br>\n",
    "    **Objetivo:** Estimar em quantos dias uma reclamação será respondida ou resolvida.\n",
    "\n",
    "  - **Técnica:** Regressão (ex: XGBoost, SVR)\n",
    "  - **Variáveis úteis:** Data da reclamação, empresa, tipo de produto, canal, localização.\n",
    "\n",
    "- **Sistema de recomendação de ações para o consumidor**<br>\n",
    "    **Objetivo:** Dado o conteúdo da reclamação e outras variáveis, sugerir o que o consumidor pode fazer (ex: entrar em contato com PROCON, abrir processo no Juizado, aguardar prazo médio, etc.)\n",
    "\n",
    "  - **Técnica:** Regras + Classificação baseada em casos anteriores (similaridade)"
   ]
  },
  {
   "cell_type": "markdown",
   "id": "3ecf4ca1",
   "metadata": {},
   "source": [
    "---"
   ]
  },
  {
   "cell_type": "markdown",
   "id": "90683088",
   "metadata": {},
   "source": [
    "### **Análise Exploratória de Dados e Preparação**\n",
    "\n",
    "O presente notebook contém as análises de dados exploratórias desenvolvidas para extrair insights para a preparação e modelagem do projeto.\n",
    "\n",
    "Os dados foram extraídos do site: [Consumidor.gov](https://consumidor.gov.br/pages/indicador/relatos/abrir), um site em que consumidores e empresas resolvem conflitos de consumo por meio da internet, sem precisar de um processo judicial.\n",
    "\n",
    "A extração foi automatizada por WebScrapping, com Selenium e BeatifulSoup."
   ]
  },
  {
   "cell_type": "code",
   "execution_count": 2,
   "id": "c53dfbf7",
   "metadata": {},
   "outputs": [],
   "source": [
    "# Import modules\n",
    "from pandas import read_csv\n",
    "import os"
   ]
  },
  {
   "cell_type": "code",
   "execution_count": 3,
   "id": "140feca9",
   "metadata": {},
   "outputs": [],
   "source": [
    "# Files vars\n",
    "data_dir = 'data'\n",
    "staging_dir = 'staging_area'\n",
    "ml_dir = 'ml'\n",
    "staging_data_name = 'consumidor_gov_brasil.csv'\n",
    "ml_data_name = 'consumidor_gov_brasil_ml.csv'\n",
    "\n",
    "root_path = os.path.dirname(os.getcwd())\n",
    "\n",
    "staging_path = os.path.join(root_path, data_dir, staging_dir)\n",
    "ml_path = os.path.join(root_path, data_dir, ml_dir)\n",
    "\n",
    "staging_file_path = os.path.join(staging_path, staging_data_name)\n",
    "ml_file_path = os.path.join(ml_path, ml_data_name)"
   ]
  },
  {
   "cell_type": "code",
   "execution_count": 4,
   "id": "dd733333",
   "metadata": {},
   "outputs": [
    {
     "data": {
      "text/html": [
       "<div>\n",
       "<style scoped>\n",
       "    .dataframe tbody tr th:only-of-type {\n",
       "        vertical-align: middle;\n",
       "    }\n",
       "\n",
       "    .dataframe tbody tr th {\n",
       "        vertical-align: top;\n",
       "    }\n",
       "\n",
       "    .dataframe thead th {\n",
       "        text-align: right;\n",
       "    }\n",
       "</style>\n",
       "<table border=\"1\" class=\"dataframe\">\n",
       "  <thead>\n",
       "    <tr style=\"text-align: right;\">\n",
       "      <th></th>\n",
       "      <th>company_name</th>\n",
       "      <th>status</th>\n",
       "      <th>date</th>\n",
       "      <th>report</th>\n",
       "      <th>company_response</th>\n",
       "      <th>response_date</th>\n",
       "      <th>rating_score</th>\n",
       "      <th>consumer_written_evaluation</th>\n",
       "    </tr>\n",
       "  </thead>\n",
       "  <tbody>\n",
       "    <tr>\n",
       "      <th>0</th>\n",
       "      <td>Serasa Experian</td>\n",
       "      <td>Não Resolvido</td>\n",
       "      <td>25/04/2025, Santa Maria - RS</td>\n",
       "      <td>Solicito a imediata retirada da negativação in...</td>\n",
       "      <td>Oi, FLAVIA. Tudo bem?\\r\\n\\r\\n\\r\\nAcabamos de r...</td>\n",
       "      <td>(no mesmo dia)</td>\n",
       "      <td>Nota 2</td>\n",
       "      <td>&lt;não há comentários do consumidor&gt;</td>\n",
       "    </tr>\n",
       "    <tr>\n",
       "      <th>1</th>\n",
       "      <td>Serasa Experian</td>\n",
       "      <td>Não Resolvido</td>\n",
       "      <td>25/04/2025, Santa Tereza do Oeste - PR</td>\n",
       "      <td>“Solicito a retirada imediata da dívida prescr...</td>\n",
       "      <td>Oi, KARINA. Tudo bem?\\r\\n\\r\\n\\r\\nAcabamos de r...</td>\n",
       "      <td>(no mesmo dia)</td>\n",
       "      <td>Nota 1</td>\n",
       "      <td>&lt;não há comentários do consumidor&gt;</td>\n",
       "    </tr>\n",
       "    <tr>\n",
       "      <th>2</th>\n",
       "      <td>Serasa Experian</td>\n",
       "      <td>Resolvido</td>\n",
       "      <td>25/04/2025, Manaus - AM</td>\n",
       "      <td>Solicito a imediata retirada da negativacão in...</td>\n",
       "      <td>Oi, EMERSON. Tudo bem?\\r\\n\\r\\n\\r\\nAcabamos de ...</td>\n",
       "      <td>(no mesmo dia)</td>\n",
       "      <td>Nota 1</td>\n",
       "      <td>&lt;não há comentários do consumidor&gt;</td>\n",
       "    </tr>\n",
       "    <tr>\n",
       "      <th>3</th>\n",
       "      <td>Serasa Experian</td>\n",
       "      <td>Não Resolvido</td>\n",
       "      <td>25/04/2025, Macapá - AP</td>\n",
       "      <td>Solicito a retirada imediata de cobrança de dí...</td>\n",
       "      <td>Oi, Washington. Tudo bem?\\r\\n\\r\\n\\r\\nAcabamos ...</td>\n",
       "      <td>(no mesmo dia)</td>\n",
       "      <td>Nota 3</td>\n",
       "      <td>&lt;não há comentários do consumidor&gt;</td>\n",
       "    </tr>\n",
       "    <tr>\n",
       "      <th>4</th>\n",
       "      <td>Cartões Renner (Realize CFI)</td>\n",
       "      <td>Resolvido</td>\n",
       "      <td>25/04/2025, Rio Grande da Serra - SP</td>\n",
       "      <td>Realizei o pagamento de um acordo para quitar ...</td>\n",
       "      <td>Olá, tudo bem?\\r\\n\\r\\nInformamos que sua manif...</td>\n",
       "      <td>(no mesmo dia)</td>\n",
       "      <td>Nota 1</td>\n",
       "      <td>&lt;não há comentários do consumidor&gt;</td>\n",
       "    </tr>\n",
       "  </tbody>\n",
       "</table>\n",
       "</div>"
      ],
      "text/plain": [
       "                   company_name         status  \\\n",
       "0               Serasa Experian  Não Resolvido   \n",
       "1               Serasa Experian  Não Resolvido   \n",
       "2               Serasa Experian      Resolvido   \n",
       "3               Serasa Experian  Não Resolvido   \n",
       "4  Cartões Renner (Realize CFI)      Resolvido   \n",
       "\n",
       "                                     date  \\\n",
       "0            25/04/2025, Santa Maria - RS   \n",
       "1  25/04/2025, Santa Tereza do Oeste - PR   \n",
       "2                 25/04/2025, Manaus - AM   \n",
       "3                 25/04/2025, Macapá - AP   \n",
       "4    25/04/2025, Rio Grande da Serra - SP   \n",
       "\n",
       "                                              report  \\\n",
       "0  Solicito a imediata retirada da negativação in...   \n",
       "1  “Solicito a retirada imediata da dívida prescr...   \n",
       "2  Solicito a imediata retirada da negativacão in...   \n",
       "3  Solicito a retirada imediata de cobrança de dí...   \n",
       "4  Realizei o pagamento de um acordo para quitar ...   \n",
       "\n",
       "                                    company_response   response_date  \\\n",
       "0  Oi, FLAVIA. Tudo bem?\\r\\n\\r\\n\\r\\nAcabamos de r...  (no mesmo dia)   \n",
       "1  Oi, KARINA. Tudo bem?\\r\\n\\r\\n\\r\\nAcabamos de r...  (no mesmo dia)   \n",
       "2  Oi, EMERSON. Tudo bem?\\r\\n\\r\\n\\r\\nAcabamos de ...  (no mesmo dia)   \n",
       "3  Oi, Washington. Tudo bem?\\r\\n\\r\\n\\r\\nAcabamos ...  (no mesmo dia)   \n",
       "4  Olá, tudo bem?\\r\\n\\r\\nInformamos que sua manif...  (no mesmo dia)   \n",
       "\n",
       "  rating_score         consumer_written_evaluation  \n",
       "0       Nota 2  <não há comentários do consumidor>  \n",
       "1       Nota 1  <não há comentários do consumidor>  \n",
       "2       Nota 1  <não há comentários do consumidor>  \n",
       "3       Nota 3  <não há comentários do consumidor>  \n",
       "4       Nota 1  <não há comentários do consumidor>  "
      ]
     },
     "execution_count": 4,
     "metadata": {},
     "output_type": "execute_result"
    }
   ],
   "source": [
    "# Data reading\n",
    "data = read_csv(staging_file_path, sep='|', encoding='utf-8')\n",
    "data.head()"
   ]
  },
  {
   "cell_type": "code",
   "execution_count": 5,
   "id": "7541a179",
   "metadata": {},
   "outputs": [
    {
     "name": "stdout",
     "output_type": "stream",
     "text": [
      "<class 'pandas.core.frame.DataFrame'>\n",
      "RangeIndex: 50000 entries, 0 to 49999\n",
      "Data columns (total 8 columns):\n",
      " #   Column                       Non-Null Count  Dtype \n",
      "---  ------                       --------------  ----- \n",
      " 0   company_name                 50000 non-null  object\n",
      " 1   status                       50000 non-null  object\n",
      " 2   date                         50000 non-null  object\n",
      " 3   report                       50000 non-null  object\n",
      " 4   company_response             50000 non-null  object\n",
      " 5   response_date                49505 non-null  object\n",
      " 6   rating_score                 50000 non-null  object\n",
      " 7   consumer_written_evaluation  31675 non-null  object\n",
      "dtypes: object(8)\n",
      "memory usage: 3.1+ MB\n"
     ]
    }
   ],
   "source": [
    "# Info\n",
    "data.info()"
   ]
  },
  {
   "cell_type": "markdown",
   "id": "32b4d200",
   "metadata": {},
   "source": [
    "Dados em formatos errados:\n",
    "\n",
    "- Date: Possui local e data\n",
    "- Response_Date: Possui texto\n",
    "- Rating_Score: Em texto"
   ]
  },
  {
   "cell_type": "code",
   "execution_count": 6,
   "id": "0f1516c9",
   "metadata": {},
   "outputs": [
    {
     "data": {
      "text/plain": [
       "company_name                       0\n",
       "status                             0\n",
       "date                               0\n",
       "report                             0\n",
       "company_response                   0\n",
       "response_date                    495\n",
       "rating_score                       0\n",
       "consumer_written_evaluation    18325\n",
       "dtype: int64"
      ]
     },
     "execution_count": 6,
     "metadata": {},
     "output_type": "execute_result"
    }
   ],
   "source": [
    "# Dados nulos\n",
    "data.isna().sum()"
   ]
  },
  {
   "cell_type": "code",
   "execution_count": 7,
   "id": "71979f5c",
   "metadata": {},
   "outputs": [
    {
     "data": {
      "text/html": [
       "<div>\n",
       "<style scoped>\n",
       "    .dataframe tbody tr th:only-of-type {\n",
       "        vertical-align: middle;\n",
       "    }\n",
       "\n",
       "    .dataframe tbody tr th {\n",
       "        vertical-align: top;\n",
       "    }\n",
       "\n",
       "    .dataframe thead th {\n",
       "        text-align: right;\n",
       "    }\n",
       "</style>\n",
       "<table border=\"1\" class=\"dataframe\">\n",
       "  <thead>\n",
       "    <tr style=\"text-align: right;\">\n",
       "      <th></th>\n",
       "      <th>company_name</th>\n",
       "      <th>status</th>\n",
       "      <th>date</th>\n",
       "      <th>report</th>\n",
       "      <th>company_response</th>\n",
       "      <th>response_date</th>\n",
       "      <th>rating_score</th>\n",
       "      <th>consumer_written_evaluation</th>\n",
       "    </tr>\n",
       "  </thead>\n",
       "  <tbody>\n",
       "    <tr>\n",
       "      <th>944</th>\n",
       "      <td>Serasa Experian</td>\n",
       "      <td>Resolvido</td>\n",
       "      <td>21/04/2025, Belém - PA</td>\n",
       "      <td>Serasa vem mantendo cobrança, mesmos depois do...</td>\n",
       "      <td>&lt;não respondido pela empresa&gt;</td>\n",
       "      <td>NaN</td>\n",
       "      <td>Nota 5</td>\n",
       "      <td>foi rapido e bem satisfeitoo</td>\n",
       "    </tr>\n",
       "    <tr>\n",
       "      <th>4171</th>\n",
       "      <td>KaBuM!</td>\n",
       "      <td>Não Resolvido</td>\n",
       "      <td>14/04/2025, Guarapari - ES</td>\n",
       "      <td>o pedido 43742339 feito ontem, 13/04 não aprov...</td>\n",
       "      <td>&lt;não respondido pela empresa&gt;</td>\n",
       "      <td>NaN</td>\n",
       "      <td>Nota 1</td>\n",
       "      <td>a empresa tem problemas sérios com cartão e pa...</td>\n",
       "    </tr>\n",
       "    <tr>\n",
       "      <th>4217</th>\n",
       "      <td>Usebens Seguradora</td>\n",
       "      <td>Não Resolvido</td>\n",
       "      <td>14/04/2025, Itanhaém - SP</td>\n",
       "      <td>Copia apolice seguros emitidos</td>\n",
       "      <td>&lt;não respondido pela empresa&gt;</td>\n",
       "      <td>NaN</td>\n",
       "      <td>Nota 1</td>\n",
       "      <td>nem respondeu, vou solciitar novamente</td>\n",
       "    </tr>\n",
       "    <tr>\n",
       "      <th>4226</th>\n",
       "      <td>Hurb - Hotel Urbano</td>\n",
       "      <td>Não Resolvido</td>\n",
       "      <td>14/04/2025, Brumado - BA</td>\n",
       "      <td>No dia 25/02/2025 fiz uma reserva pela Hurb no...</td>\n",
       "      <td>&lt;não respondido pela empresa&gt;</td>\n",
       "      <td>NaN</td>\n",
       "      <td>Nota 1</td>\n",
       "      <td>A empresa não forneceu nenhuma resposta.</td>\n",
       "    </tr>\n",
       "    <tr>\n",
       "      <th>4228</th>\n",
       "      <td>Hurb - Hotel Urbano</td>\n",
       "      <td>Não Resolvido</td>\n",
       "      <td>14/04/2025, Vitória - ES</td>\n",
       "      <td>Comprei um Pacote de Viagem - Roma + Paris + A...</td>\n",
       "      <td>&lt;não respondido pela empresa&gt;</td>\n",
       "      <td>NaN</td>\n",
       "      <td>Nota 1</td>\n",
       "      <td>Solicitação sem qualquer resposta do fornecedo...</td>\n",
       "    </tr>\n",
       "    <tr>\n",
       "      <th>...</th>\n",
       "      <td>...</td>\n",
       "      <td>...</td>\n",
       "      <td>...</td>\n",
       "      <td>...</td>\n",
       "      <td>...</td>\n",
       "      <td>...</td>\n",
       "      <td>...</td>\n",
       "      <td>...</td>\n",
       "    </tr>\n",
       "    <tr>\n",
       "      <th>49995</th>\n",
       "      <td>Caixa Econômica Federal</td>\n",
       "      <td>Não avaliado pelo consumidor</td>\n",
       "      <td>27/03/2025, Natal - RN</td>\n",
       "      <td>Em (data) verifiquei a o extrato ( cartão de c...</td>\n",
       "      <td>Olá, Ivair!\\r\\n\\r\\nAnalisamos sua solicitação ...</td>\n",
       "      <td>(5 dia(s) depois)</td>\n",
       "      <td>&lt;não há comentários do consumidor&gt;</td>\n",
       "      <td>NaN</td>\n",
       "    </tr>\n",
       "    <tr>\n",
       "      <th>49996</th>\n",
       "      <td>Banco Santander</td>\n",
       "      <td>Não avaliado pelo consumidor</td>\n",
       "      <td>27/03/2025, Juiz de Fora - MG</td>\n",
       "      <td>Em (data) verifiquei a o extrato ( cartão de c...</td>\n",
       "      <td>Olá, boa tarde!\\r\\n \\r\\nSeu atendimento foi re...</td>\n",
       "      <td>(4 dia(s) depois)</td>\n",
       "      <td>&lt;não há comentários do consumidor&gt;</td>\n",
       "      <td>NaN</td>\n",
       "    </tr>\n",
       "    <tr>\n",
       "      <th>49997</th>\n",
       "      <td>Banco do Brasil</td>\n",
       "      <td>Não avaliado pelo consumidor</td>\n",
       "      <td>27/03/2025, São Paulo - SP</td>\n",
       "      <td>Fiz a renegociação via Serasa e Acordo Certo e...</td>\n",
       "      <td>Olá, Gabriel!\\r\\nPubliquei a solução no campo ...</td>\n",
       "      <td>(4 dia(s) depois)</td>\n",
       "      <td>&lt;não há comentários do consumidor&gt;</td>\n",
       "      <td>NaN</td>\n",
       "    </tr>\n",
       "    <tr>\n",
       "      <th>49998</th>\n",
       "      <td>Banco Pan</td>\n",
       "      <td>Não avaliado pelo consumidor</td>\n",
       "      <td>27/03/2025, Marabá - PA</td>\n",
       "      <td>Solicito a exclusão dos meus dados no Bacen</td>\n",
       "      <td>Olá Renan,\\r\\n \\r\\nEsperamos que esteja bem! \\...</td>\n",
       "      <td>(7 dia(s) depois)</td>\n",
       "      <td>&lt;não há comentários do consumidor&gt;</td>\n",
       "      <td>NaN</td>\n",
       "    </tr>\n",
       "    <tr>\n",
       "      <th>49999</th>\n",
       "      <td>Banco do Brasil</td>\n",
       "      <td>Não avaliado pelo consumidor</td>\n",
       "      <td>27/03/2025, São Carlos - SP</td>\n",
       "      <td>O juros foram abusivo o banco quer acordo e nã...</td>\n",
       "      <td>Olá, Clécio\\r\\nPubliquei a solução no campo \u001cA...</td>\n",
       "      <td>(4 dia(s) depois)</td>\n",
       "      <td>&lt;não há comentários do consumidor&gt;</td>\n",
       "      <td>NaN</td>\n",
       "    </tr>\n",
       "  </tbody>\n",
       "</table>\n",
       "<p>18820 rows × 8 columns</p>\n",
       "</div>"
      ],
      "text/plain": [
       "                  company_name                        status  \\\n",
       "944            Serasa Experian                     Resolvido   \n",
       "4171                    KaBuM!                 Não Resolvido   \n",
       "4217        Usebens Seguradora                 Não Resolvido   \n",
       "4226       Hurb - Hotel Urbano                 Não Resolvido   \n",
       "4228       Hurb - Hotel Urbano                 Não Resolvido   \n",
       "...                        ...                           ...   \n",
       "49995  Caixa Econômica Federal  Não avaliado pelo consumidor   \n",
       "49996          Banco Santander  Não avaliado pelo consumidor   \n",
       "49997          Banco do Brasil  Não avaliado pelo consumidor   \n",
       "49998                Banco Pan  Não avaliado pelo consumidor   \n",
       "49999          Banco do Brasil  Não avaliado pelo consumidor   \n",
       "\n",
       "                                date  \\\n",
       "944           21/04/2025, Belém - PA   \n",
       "4171      14/04/2025, Guarapari - ES   \n",
       "4217       14/04/2025, Itanhaém - SP   \n",
       "4226        14/04/2025, Brumado - BA   \n",
       "4228        14/04/2025, Vitória - ES   \n",
       "...                              ...   \n",
       "49995         27/03/2025, Natal - RN   \n",
       "49996  27/03/2025, Juiz de Fora - MG   \n",
       "49997     27/03/2025, São Paulo - SP   \n",
       "49998        27/03/2025, Marabá - PA   \n",
       "49999    27/03/2025, São Carlos - SP   \n",
       "\n",
       "                                                  report  \\\n",
       "944    Serasa vem mantendo cobrança, mesmos depois do...   \n",
       "4171   o pedido 43742339 feito ontem, 13/04 não aprov...   \n",
       "4217                      Copia apolice seguros emitidos   \n",
       "4226   No dia 25/02/2025 fiz uma reserva pela Hurb no...   \n",
       "4228   Comprei um Pacote de Viagem - Roma + Paris + A...   \n",
       "...                                                  ...   \n",
       "49995  Em (data) verifiquei a o extrato ( cartão de c...   \n",
       "49996  Em (data) verifiquei a o extrato ( cartão de c...   \n",
       "49997  Fiz a renegociação via Serasa e Acordo Certo e...   \n",
       "49998        Solicito a exclusão dos meus dados no Bacen   \n",
       "49999  O juros foram abusivo o banco quer acordo e nã...   \n",
       "\n",
       "                                        company_response      response_date  \\\n",
       "944                        <não respondido pela empresa>                NaN   \n",
       "4171                       <não respondido pela empresa>                NaN   \n",
       "4217                       <não respondido pela empresa>                NaN   \n",
       "4226                       <não respondido pela empresa>                NaN   \n",
       "4228                       <não respondido pela empresa>                NaN   \n",
       "...                                                  ...                ...   \n",
       "49995  Olá, Ivair!\\r\\n\\r\\nAnalisamos sua solicitação ...  (5 dia(s) depois)   \n",
       "49996  Olá, boa tarde!\\r\\n \\r\\nSeu atendimento foi re...  (4 dia(s) depois)   \n",
       "49997  Olá, Gabriel!\\r\\nPubliquei a solução no campo ...  (4 dia(s) depois)   \n",
       "49998  Olá Renan,\\r\\n \\r\\nEsperamos que esteja bem! \\...  (7 dia(s) depois)   \n",
       "49999  Olá, Clécio\\r\\nPubliquei a solução no campo \n",
       "A...  (4 dia(s) depois)   \n",
       "\n",
       "                             rating_score  \\\n",
       "944                                Nota 5   \n",
       "4171                               Nota 1   \n",
       "4217                               Nota 1   \n",
       "4226                               Nota 1   \n",
       "4228                               Nota 1   \n",
       "...                                   ...   \n",
       "49995  <não há comentários do consumidor>   \n",
       "49996  <não há comentários do consumidor>   \n",
       "49997  <não há comentários do consumidor>   \n",
       "49998  <não há comentários do consumidor>   \n",
       "49999  <não há comentários do consumidor>   \n",
       "\n",
       "                             consumer_written_evaluation  \n",
       "944                         foi rapido e bem satisfeitoo  \n",
       "4171   a empresa tem problemas sérios com cartão e pa...  \n",
       "4217              nem respondeu, vou solciitar novamente  \n",
       "4226            A empresa não forneceu nenhuma resposta.  \n",
       "4228   Solicitação sem qualquer resposta do fornecedo...  \n",
       "...                                                  ...  \n",
       "49995                                                NaN  \n",
       "49996                                                NaN  \n",
       "49997                                                NaN  \n",
       "49998                                                NaN  \n",
       "49999                                                NaN  \n",
       "\n",
       "[18820 rows x 8 columns]"
      ]
     },
     "execution_count": 7,
     "metadata": {},
     "output_type": "execute_result"
    }
   ],
   "source": [
    "# Visualizando dados nulos\n",
    "data[data.isna().any(axis=1)]"
   ]
  },
  {
   "cell_type": "markdown",
   "id": "a5bcc16a",
   "metadata": {},
   "source": [
    "É intuitivo dizer que a coluna de Data da Resposta da empresa é nula quando a empresa ainda não respondeu. Como são informações possivelmente úteis, vamos preservá-las."
   ]
  },
  {
   "cell_type": "markdown",
   "id": "bb95441c",
   "metadata": {},
   "source": [
    "---\n",
    "\n",
    "### **Corrigindo formatos**"
   ]
  },
  {
   "cell_type": "markdown",
   "id": "39a676b9",
   "metadata": {},
   "source": [
    "Dados em formatos errados:\n",
    "\n",
    "- Date: Possui local e data\n",
    "- Response_Date: Possui texto\n",
    "- Rating_Score: Em texto"
   ]
  },
  {
   "cell_type": "code",
   "execution_count": 8,
   "id": "04e58e25",
   "metadata": {},
   "outputs": [
    {
     "data": {
      "text/plain": [
       "0              25/04/2025, Santa Maria - RS\n",
       "1    25/04/2025, Santa Tereza do Oeste - PR\n",
       "2                   25/04/2025, Manaus - AM\n",
       "3                   25/04/2025, Macapá - AP\n",
       "4      25/04/2025, Rio Grande da Serra - SP\n",
       "5                    25/04/2025, Serra - ES\n",
       "Name: date, dtype: object"
      ]
     },
     "execution_count": 8,
     "metadata": {},
     "output_type": "execute_result"
    }
   ],
   "source": [
    "# Date\n",
    "data['date'].loc[0:5]"
   ]
  },
  {
   "cell_type": "code",
   "execution_count": 9,
   "id": "84271126",
   "metadata": {},
   "outputs": [],
   "source": [
    "from pandas import to_datetime\n",
    "\n",
    "data = (\n",
    "    data.assign(\n",
    "        data_reclamacao=lambda x: to_datetime(x.date.str.split(',').str[0], format='%d/%m/%Y'),\n",
    "        local=lambda x: x.date.str.split(',').str[1].str.strip(),\n",
    "        cidade=lambda x: x.local.str.split('-').str[0].str.strip(),\n",
    "        uf=lambda x: x.local.str.split('-').str[-1].str.strip(),\n",
    "    ).drop(columns=['date', 'local'])\n",
    ")"
   ]
  },
  {
   "cell_type": "code",
   "execution_count": 10,
   "id": "dc2f2a8c",
   "metadata": {},
   "outputs": [
    {
     "name": "stdout",
     "output_type": "stream",
     "text": [
      "Dados\n"
     ]
    },
    {
     "data": {
      "text/html": [
       "<div>\n",
       "<style scoped>\n",
       "    .dataframe tbody tr th:only-of-type {\n",
       "        vertical-align: middle;\n",
       "    }\n",
       "\n",
       "    .dataframe tbody tr th {\n",
       "        vertical-align: top;\n",
       "    }\n",
       "\n",
       "    .dataframe thead th {\n",
       "        text-align: right;\n",
       "    }\n",
       "</style>\n",
       "<table border=\"1\" class=\"dataframe\">\n",
       "  <thead>\n",
       "    <tr style=\"text-align: right;\">\n",
       "      <th></th>\n",
       "      <th>data_reclamacao</th>\n",
       "      <th>cidade</th>\n",
       "      <th>uf</th>\n",
       "    </tr>\n",
       "  </thead>\n",
       "  <tbody>\n",
       "    <tr>\n",
       "      <th>0</th>\n",
       "      <td>2025-04-25</td>\n",
       "      <td>Santa Maria</td>\n",
       "      <td>RS</td>\n",
       "    </tr>\n",
       "    <tr>\n",
       "      <th>1</th>\n",
       "      <td>2025-04-25</td>\n",
       "      <td>Santa Tereza do Oeste</td>\n",
       "      <td>PR</td>\n",
       "    </tr>\n",
       "    <tr>\n",
       "      <th>2</th>\n",
       "      <td>2025-04-25</td>\n",
       "      <td>Manaus</td>\n",
       "      <td>AM</td>\n",
       "    </tr>\n",
       "    <tr>\n",
       "      <th>3</th>\n",
       "      <td>2025-04-25</td>\n",
       "      <td>Macapá</td>\n",
       "      <td>AP</td>\n",
       "    </tr>\n",
       "    <tr>\n",
       "      <th>4</th>\n",
       "      <td>2025-04-25</td>\n",
       "      <td>Rio Grande da Serra</td>\n",
       "      <td>SP</td>\n",
       "    </tr>\n",
       "  </tbody>\n",
       "</table>\n",
       "</div>"
      ],
      "text/plain": [
       "  data_reclamacao                 cidade  uf\n",
       "0      2025-04-25            Santa Maria  RS\n",
       "1      2025-04-25  Santa Tereza do Oeste  PR\n",
       "2      2025-04-25                 Manaus  AM\n",
       "3      2025-04-25                 Macapá  AP\n",
       "4      2025-04-25    Rio Grande da Serra  SP"
      ]
     },
     "metadata": {},
     "output_type": "display_data"
    },
    {
     "name": "stdout",
     "output_type": "stream",
     "text": [
      "\n",
      "Tipos\n"
     ]
    },
    {
     "data": {
      "text/plain": [
       "data_reclamacao    datetime64[ns]\n",
       "cidade                     object\n",
       "uf                         object\n",
       "dtype: object"
      ]
     },
     "execution_count": 10,
     "metadata": {},
     "output_type": "execute_result"
    }
   ],
   "source": [
    "print('Dados')\n",
    "display(data[['data_reclamacao', 'cidade', 'uf']].head())\n",
    "\n",
    "print('\\nTipos')\n",
    "data[['data_reclamacao', 'cidade', 'uf']].dtypes"
   ]
  },
  {
   "cell_type": "markdown",
   "id": "49ea3281",
   "metadata": {},
   "source": [
    "---\n",
    "\n",
    "### **Datas**"
   ]
  },
  {
   "cell_type": "code",
   "execution_count": 11,
   "id": "342d2933",
   "metadata": {},
   "outputs": [
    {
     "data": {
      "text/plain": [
       "0    (no mesmo dia)\n",
       "1    (no mesmo dia)\n",
       "2    (no mesmo dia)\n",
       "3    (no mesmo dia)\n",
       "4    (no mesmo dia)\n",
       "5    (no mesmo dia)\n",
       "Name: response_date, dtype: object"
      ]
     },
     "execution_count": 11,
     "metadata": {},
     "output_type": "execute_result"
    }
   ],
   "source": [
    "# Response Date\n",
    "data['response_date'].loc[0:5]"
   ]
  },
  {
   "cell_type": "code",
   "execution_count": 12,
   "id": "b67c6e86",
   "metadata": {},
   "outputs": [
    {
     "data": {
      "text/plain": [
       "array(['(no mesmo dia)', '(1 dia(s) depois)', '(2 dia(s) depois)',\n",
       "       '(3 dia(s) depois)', '(4 dia(s) depois)', nan, '(5 dia(s) depois)',\n",
       "       '(6 dia(s) depois)', '(7 dia(s) depois)', '(8 dia(s) depois)',\n",
       "       '(9 dia(s) depois)', '(10 dia(s) depois)', '(14 dia(s) depois)',\n",
       "       '(12 dia(s) depois)', '(15 dia(s) depois)', '(16 dia(s) depois)',\n",
       "       '(13 dia(s) depois)', '(17 dia(s) depois)', '(18 dia(s) depois)',\n",
       "       '(11 dia(s) depois)', '(19 dia(s) depois)', '(20 dia(s) depois)',\n",
       "       '(22 dia(s) depois)', '(21 dia(s) depois)', '(23 dia(s) depois)',\n",
       "       '(24 dia(s) depois)'], dtype=object)"
      ]
     },
     "execution_count": 12,
     "metadata": {},
     "output_type": "execute_result"
    }
   ],
   "source": [
    "data['response_date'].unique()"
   ]
  },
  {
   "cell_type": "markdown",
   "id": "53242ca1",
   "metadata": {},
   "source": [
    "Vou transformar essa coluna em dia para resposta, e criar outra coluna binária 'respondido'."
   ]
  },
  {
   "cell_type": "code",
   "execution_count": 13,
   "id": "4f88393c",
   "metadata": {},
   "outputs": [],
   "source": [
    "from pandas import isnull\n",
    "from numpy import nan\n",
    "from re import search\n",
    "\n",
    "def get_days(value):\n",
    "    if isnull(value):\n",
    "        return -1\n",
    "    if value == '(no mesmo dia)':\n",
    "        return 0\n",
    "    \n",
    "    match = search(r'(\\d+)', value)\n",
    "    return int(match.group(1)) if match else nan\n",
    "\n",
    "data = (\n",
    "    data.assign(\n",
    "        respondido=lambda x: x.response_date.notnull().astype(int),\n",
    "        dias_para_resposta=lambda x: x.response_date.apply(get_days).astype(int),\n",
    "    ).drop(columns=['response_date'])\n",
    ") \n"
   ]
  },
  {
   "cell_type": "code",
   "execution_count": 14,
   "id": "f924cfa1",
   "metadata": {},
   "outputs": [
    {
     "data": {
      "text/html": [
       "<div>\n",
       "<style scoped>\n",
       "    .dataframe tbody tr th:only-of-type {\n",
       "        vertical-align: middle;\n",
       "    }\n",
       "\n",
       "    .dataframe tbody tr th {\n",
       "        vertical-align: top;\n",
       "    }\n",
       "\n",
       "    .dataframe thead th {\n",
       "        text-align: right;\n",
       "    }\n",
       "</style>\n",
       "<table border=\"1\" class=\"dataframe\">\n",
       "  <thead>\n",
       "    <tr style=\"text-align: right;\">\n",
       "      <th></th>\n",
       "      <th>company_name</th>\n",
       "      <th>status</th>\n",
       "      <th>report</th>\n",
       "      <th>company_response</th>\n",
       "      <th>rating_score</th>\n",
       "      <th>consumer_written_evaluation</th>\n",
       "      <th>data_reclamacao</th>\n",
       "      <th>cidade</th>\n",
       "      <th>uf</th>\n",
       "      <th>respondido</th>\n",
       "      <th>dias_para_resposta</th>\n",
       "    </tr>\n",
       "  </thead>\n",
       "  <tbody>\n",
       "    <tr>\n",
       "      <th>0</th>\n",
       "      <td>Serasa Experian</td>\n",
       "      <td>Não Resolvido</td>\n",
       "      <td>Solicito a imediata retirada da negativação in...</td>\n",
       "      <td>Oi, FLAVIA. Tudo bem?\\r\\n\\r\\n\\r\\nAcabamos de r...</td>\n",
       "      <td>Nota 2</td>\n",
       "      <td>&lt;não há comentários do consumidor&gt;</td>\n",
       "      <td>2025-04-25</td>\n",
       "      <td>Santa Maria</td>\n",
       "      <td>RS</td>\n",
       "      <td>1</td>\n",
       "      <td>0</td>\n",
       "    </tr>\n",
       "    <tr>\n",
       "      <th>1</th>\n",
       "      <td>Serasa Experian</td>\n",
       "      <td>Não Resolvido</td>\n",
       "      <td>“Solicito a retirada imediata da dívida prescr...</td>\n",
       "      <td>Oi, KARINA. Tudo bem?\\r\\n\\r\\n\\r\\nAcabamos de r...</td>\n",
       "      <td>Nota 1</td>\n",
       "      <td>&lt;não há comentários do consumidor&gt;</td>\n",
       "      <td>2025-04-25</td>\n",
       "      <td>Santa Tereza do Oeste</td>\n",
       "      <td>PR</td>\n",
       "      <td>1</td>\n",
       "      <td>0</td>\n",
       "    </tr>\n",
       "    <tr>\n",
       "      <th>2</th>\n",
       "      <td>Serasa Experian</td>\n",
       "      <td>Resolvido</td>\n",
       "      <td>Solicito a imediata retirada da negativacão in...</td>\n",
       "      <td>Oi, EMERSON. Tudo bem?\\r\\n\\r\\n\\r\\nAcabamos de ...</td>\n",
       "      <td>Nota 1</td>\n",
       "      <td>&lt;não há comentários do consumidor&gt;</td>\n",
       "      <td>2025-04-25</td>\n",
       "      <td>Manaus</td>\n",
       "      <td>AM</td>\n",
       "      <td>1</td>\n",
       "      <td>0</td>\n",
       "    </tr>\n",
       "    <tr>\n",
       "      <th>3</th>\n",
       "      <td>Serasa Experian</td>\n",
       "      <td>Não Resolvido</td>\n",
       "      <td>Solicito a retirada imediata de cobrança de dí...</td>\n",
       "      <td>Oi, Washington. Tudo bem?\\r\\n\\r\\n\\r\\nAcabamos ...</td>\n",
       "      <td>Nota 3</td>\n",
       "      <td>&lt;não há comentários do consumidor&gt;</td>\n",
       "      <td>2025-04-25</td>\n",
       "      <td>Macapá</td>\n",
       "      <td>AP</td>\n",
       "      <td>1</td>\n",
       "      <td>0</td>\n",
       "    </tr>\n",
       "    <tr>\n",
       "      <th>4</th>\n",
       "      <td>Cartões Renner (Realize CFI)</td>\n",
       "      <td>Resolvido</td>\n",
       "      <td>Realizei o pagamento de um acordo para quitar ...</td>\n",
       "      <td>Olá, tudo bem?\\r\\n\\r\\nInformamos que sua manif...</td>\n",
       "      <td>Nota 1</td>\n",
       "      <td>&lt;não há comentários do consumidor&gt;</td>\n",
       "      <td>2025-04-25</td>\n",
       "      <td>Rio Grande da Serra</td>\n",
       "      <td>SP</td>\n",
       "      <td>1</td>\n",
       "      <td>0</td>\n",
       "    </tr>\n",
       "  </tbody>\n",
       "</table>\n",
       "</div>"
      ],
      "text/plain": [
       "                   company_name         status  \\\n",
       "0               Serasa Experian  Não Resolvido   \n",
       "1               Serasa Experian  Não Resolvido   \n",
       "2               Serasa Experian      Resolvido   \n",
       "3               Serasa Experian  Não Resolvido   \n",
       "4  Cartões Renner (Realize CFI)      Resolvido   \n",
       "\n",
       "                                              report  \\\n",
       "0  Solicito a imediata retirada da negativação in...   \n",
       "1  “Solicito a retirada imediata da dívida prescr...   \n",
       "2  Solicito a imediata retirada da negativacão in...   \n",
       "3  Solicito a retirada imediata de cobrança de dí...   \n",
       "4  Realizei o pagamento de um acordo para quitar ...   \n",
       "\n",
       "                                    company_response rating_score  \\\n",
       "0  Oi, FLAVIA. Tudo bem?\\r\\n\\r\\n\\r\\nAcabamos de r...       Nota 2   \n",
       "1  Oi, KARINA. Tudo bem?\\r\\n\\r\\n\\r\\nAcabamos de r...       Nota 1   \n",
       "2  Oi, EMERSON. Tudo bem?\\r\\n\\r\\n\\r\\nAcabamos de ...       Nota 1   \n",
       "3  Oi, Washington. Tudo bem?\\r\\n\\r\\n\\r\\nAcabamos ...       Nota 3   \n",
       "4  Olá, tudo bem?\\r\\n\\r\\nInformamos que sua manif...       Nota 1   \n",
       "\n",
       "          consumer_written_evaluation data_reclamacao                 cidade  \\\n",
       "0  <não há comentários do consumidor>      2025-04-25            Santa Maria   \n",
       "1  <não há comentários do consumidor>      2025-04-25  Santa Tereza do Oeste   \n",
       "2  <não há comentários do consumidor>      2025-04-25                 Manaus   \n",
       "3  <não há comentários do consumidor>      2025-04-25                 Macapá   \n",
       "4  <não há comentários do consumidor>      2025-04-25    Rio Grande da Serra   \n",
       "\n",
       "   uf  respondido  dias_para_resposta  \n",
       "0  RS           1                   0  \n",
       "1  PR           1                   0  \n",
       "2  AM           1                   0  \n",
       "3  AP           1                   0  \n",
       "4  SP           1                   0  "
      ]
     },
     "execution_count": 14,
     "metadata": {},
     "output_type": "execute_result"
    }
   ],
   "source": [
    "data.head()"
   ]
  },
  {
   "cell_type": "markdown",
   "id": "ba08166b",
   "metadata": {},
   "source": [
    "---\n",
    "\n",
    "### **Notas**"
   ]
  },
  {
   "cell_type": "code",
   "execution_count": 15,
   "id": "482f0d6d",
   "metadata": {},
   "outputs": [
    {
     "data": {
      "text/plain": [
       "array(['Nota 2', 'Nota 1', 'Nota 3', 'Nota 5', 'Nota 4',\n",
       "       '<não há comentários do consumidor>'], dtype=object)"
      ]
     },
     "execution_count": 15,
     "metadata": {},
     "output_type": "execute_result"
    }
   ],
   "source": [
    "data['rating_score'].unique()"
   ]
  },
  {
   "cell_type": "code",
   "execution_count": 16,
   "id": "3e2d35b5",
   "metadata": {},
   "outputs": [
    {
     "data": {
      "text/plain": [
       "company_name                       0\n",
       "status                             0\n",
       "report                             0\n",
       "company_response                   0\n",
       "rating_score                       0\n",
       "consumer_written_evaluation    18325\n",
       "data_reclamacao                    0\n",
       "cidade                             0\n",
       "uf                                 0\n",
       "respondido                         0\n",
       "dias_para_resposta                 0\n",
       "dtype: int64"
      ]
     },
     "execution_count": 16,
     "metadata": {},
     "output_type": "execute_result"
    }
   ],
   "source": [
    "data.isna().sum()"
   ]
  },
  {
   "cell_type": "code",
   "execution_count": 17,
   "id": "5f93711e",
   "metadata": {},
   "outputs": [
    {
     "data": {
      "text/plain": [
       "array(['Nota 2', 'Nota 1', 'Nota 3', 'Nota 5', 'Nota 4',\n",
       "       '<não há comentários do consumidor>'], dtype=object)"
      ]
     },
     "execution_count": 17,
     "metadata": {},
     "output_type": "execute_result"
    }
   ],
   "source": [
    "data['rating_score'].unique()"
   ]
  },
  {
   "cell_type": "code",
   "execution_count": 18,
   "id": "efc6f288",
   "metadata": {},
   "outputs": [],
   "source": [
    "data = (\n",
    "    data.assign(\n",
    "        consumidor_respondeu=lambda x: ~x.rating_score.str.contains('não há', na=True),\n",
    "        nota_tree=lambda x: x.rating_score.str.extract(r'(\\d+)').astype('Int64'),\n",
    "        nota_logit=lambda x: x.rating_score.str.extract(r'(\\d+)').fillna(-1).astype(int)\n",
    "    )\n",
    ")"
   ]
  },
  {
   "cell_type": "code",
   "execution_count": 19,
   "id": "548a9c8c",
   "metadata": {},
   "outputs": [
    {
     "data": {
      "text/html": [
       "<div>\n",
       "<style scoped>\n",
       "    .dataframe tbody tr th:only-of-type {\n",
       "        vertical-align: middle;\n",
       "    }\n",
       "\n",
       "    .dataframe tbody tr th {\n",
       "        vertical-align: top;\n",
       "    }\n",
       "\n",
       "    .dataframe thead th {\n",
       "        text-align: right;\n",
       "    }\n",
       "</style>\n",
       "<table border=\"1\" class=\"dataframe\">\n",
       "  <thead>\n",
       "    <tr style=\"text-align: right;\">\n",
       "      <th></th>\n",
       "      <th>company_name</th>\n",
       "      <th>status</th>\n",
       "      <th>report</th>\n",
       "      <th>company_response</th>\n",
       "      <th>rating_score</th>\n",
       "      <th>consumer_written_evaluation</th>\n",
       "      <th>data_reclamacao</th>\n",
       "      <th>cidade</th>\n",
       "      <th>uf</th>\n",
       "      <th>respondido</th>\n",
       "      <th>dias_para_resposta</th>\n",
       "      <th>consumidor_respondeu</th>\n",
       "      <th>nota_tree</th>\n",
       "      <th>nota_logit</th>\n",
       "    </tr>\n",
       "  </thead>\n",
       "  <tbody>\n",
       "    <tr>\n",
       "      <th>0</th>\n",
       "      <td>Serasa Experian</td>\n",
       "      <td>Não Resolvido</td>\n",
       "      <td>Solicito a imediata retirada da negativação in...</td>\n",
       "      <td>Oi, FLAVIA. Tudo bem?\\r\\n\\r\\n\\r\\nAcabamos de r...</td>\n",
       "      <td>Nota 2</td>\n",
       "      <td>&lt;não há comentários do consumidor&gt;</td>\n",
       "      <td>2025-04-25</td>\n",
       "      <td>Santa Maria</td>\n",
       "      <td>RS</td>\n",
       "      <td>1</td>\n",
       "      <td>0</td>\n",
       "      <td>True</td>\n",
       "      <td>2</td>\n",
       "      <td>2</td>\n",
       "    </tr>\n",
       "    <tr>\n",
       "      <th>1</th>\n",
       "      <td>Serasa Experian</td>\n",
       "      <td>Não Resolvido</td>\n",
       "      <td>“Solicito a retirada imediata da dívida prescr...</td>\n",
       "      <td>Oi, KARINA. Tudo bem?\\r\\n\\r\\n\\r\\nAcabamos de r...</td>\n",
       "      <td>Nota 1</td>\n",
       "      <td>&lt;não há comentários do consumidor&gt;</td>\n",
       "      <td>2025-04-25</td>\n",
       "      <td>Santa Tereza do Oeste</td>\n",
       "      <td>PR</td>\n",
       "      <td>1</td>\n",
       "      <td>0</td>\n",
       "      <td>True</td>\n",
       "      <td>1</td>\n",
       "      <td>1</td>\n",
       "    </tr>\n",
       "    <tr>\n",
       "      <th>2</th>\n",
       "      <td>Serasa Experian</td>\n",
       "      <td>Resolvido</td>\n",
       "      <td>Solicito a imediata retirada da negativacão in...</td>\n",
       "      <td>Oi, EMERSON. Tudo bem?\\r\\n\\r\\n\\r\\nAcabamos de ...</td>\n",
       "      <td>Nota 1</td>\n",
       "      <td>&lt;não há comentários do consumidor&gt;</td>\n",
       "      <td>2025-04-25</td>\n",
       "      <td>Manaus</td>\n",
       "      <td>AM</td>\n",
       "      <td>1</td>\n",
       "      <td>0</td>\n",
       "      <td>True</td>\n",
       "      <td>1</td>\n",
       "      <td>1</td>\n",
       "    </tr>\n",
       "    <tr>\n",
       "      <th>3</th>\n",
       "      <td>Serasa Experian</td>\n",
       "      <td>Não Resolvido</td>\n",
       "      <td>Solicito a retirada imediata de cobrança de dí...</td>\n",
       "      <td>Oi, Washington. Tudo bem?\\r\\n\\r\\n\\r\\nAcabamos ...</td>\n",
       "      <td>Nota 3</td>\n",
       "      <td>&lt;não há comentários do consumidor&gt;</td>\n",
       "      <td>2025-04-25</td>\n",
       "      <td>Macapá</td>\n",
       "      <td>AP</td>\n",
       "      <td>1</td>\n",
       "      <td>0</td>\n",
       "      <td>True</td>\n",
       "      <td>3</td>\n",
       "      <td>3</td>\n",
       "    </tr>\n",
       "    <tr>\n",
       "      <th>4</th>\n",
       "      <td>Cartões Renner (Realize CFI)</td>\n",
       "      <td>Resolvido</td>\n",
       "      <td>Realizei o pagamento de um acordo para quitar ...</td>\n",
       "      <td>Olá, tudo bem?\\r\\n\\r\\nInformamos que sua manif...</td>\n",
       "      <td>Nota 1</td>\n",
       "      <td>&lt;não há comentários do consumidor&gt;</td>\n",
       "      <td>2025-04-25</td>\n",
       "      <td>Rio Grande da Serra</td>\n",
       "      <td>SP</td>\n",
       "      <td>1</td>\n",
       "      <td>0</td>\n",
       "      <td>True</td>\n",
       "      <td>1</td>\n",
       "      <td>1</td>\n",
       "    </tr>\n",
       "  </tbody>\n",
       "</table>\n",
       "</div>"
      ],
      "text/plain": [
       "                   company_name         status  \\\n",
       "0               Serasa Experian  Não Resolvido   \n",
       "1               Serasa Experian  Não Resolvido   \n",
       "2               Serasa Experian      Resolvido   \n",
       "3               Serasa Experian  Não Resolvido   \n",
       "4  Cartões Renner (Realize CFI)      Resolvido   \n",
       "\n",
       "                                              report  \\\n",
       "0  Solicito a imediata retirada da negativação in...   \n",
       "1  “Solicito a retirada imediata da dívida prescr...   \n",
       "2  Solicito a imediata retirada da negativacão in...   \n",
       "3  Solicito a retirada imediata de cobrança de dí...   \n",
       "4  Realizei o pagamento de um acordo para quitar ...   \n",
       "\n",
       "                                    company_response rating_score  \\\n",
       "0  Oi, FLAVIA. Tudo bem?\\r\\n\\r\\n\\r\\nAcabamos de r...       Nota 2   \n",
       "1  Oi, KARINA. Tudo bem?\\r\\n\\r\\n\\r\\nAcabamos de r...       Nota 1   \n",
       "2  Oi, EMERSON. Tudo bem?\\r\\n\\r\\n\\r\\nAcabamos de ...       Nota 1   \n",
       "3  Oi, Washington. Tudo bem?\\r\\n\\r\\n\\r\\nAcabamos ...       Nota 3   \n",
       "4  Olá, tudo bem?\\r\\n\\r\\nInformamos que sua manif...       Nota 1   \n",
       "\n",
       "          consumer_written_evaluation data_reclamacao                 cidade  \\\n",
       "0  <não há comentários do consumidor>      2025-04-25            Santa Maria   \n",
       "1  <não há comentários do consumidor>      2025-04-25  Santa Tereza do Oeste   \n",
       "2  <não há comentários do consumidor>      2025-04-25                 Manaus   \n",
       "3  <não há comentários do consumidor>      2025-04-25                 Macapá   \n",
       "4  <não há comentários do consumidor>      2025-04-25    Rio Grande da Serra   \n",
       "\n",
       "   uf  respondido  dias_para_resposta  consumidor_respondeu  nota_tree  \\\n",
       "0  RS           1                   0                  True          2   \n",
       "1  PR           1                   0                  True          1   \n",
       "2  AM           1                   0                  True          1   \n",
       "3  AP           1                   0                  True          3   \n",
       "4  SP           1                   0                  True          1   \n",
       "\n",
       "   nota_logit  \n",
       "0           2  \n",
       "1           1  \n",
       "2           1  \n",
       "3           3  \n",
       "4           1  "
      ]
     },
     "execution_count": 19,
     "metadata": {},
     "output_type": "execute_result"
    }
   ],
   "source": [
    "data.head()"
   ]
  },
  {
   "cell_type": "markdown",
   "id": "96ce7747",
   "metadata": {},
   "source": [
    "Dados limpos e formatados, vamos partir para as análises."
   ]
  },
  {
   "cell_type": "markdown",
   "id": "f8216968",
   "metadata": {},
   "source": [
    "---"
   ]
  },
  {
   "cell_type": "markdown",
   "id": "4e8850e0",
   "metadata": {},
   "source": [
    "## **Análise Exploratória de Dados**\n",
    "\n",
    "Principais perguntas a serem respondidas:\n",
    "\n",
    "- 1. De quantas empresas tenho reclamações?\n",
    "- 2. Quais as empresas com mais reclamações?\n",
    "- 3. A quantidade de reclamações está correlacionada com a chance de ser resolvida?\n",
    "- 4. A média de nota por empresa\n",
    "- 5. Média de nota por reclamações não resolvidas\n",
    "- 6. Distribuição de reclamações resolvidas e não-resolvidas.\n",
    "\n",
    "**PLN - Processamento de Linguagem Natural**\n",
    "- 7. Palavras mais frequentes\n",
    "- 8. Palavras mais frequentes por empresa.\n",
    "- 9. Palavras mais frequentes nos resolvidos e não resolvidos."
   ]
  },
  {
   "cell_type": "code",
   "execution_count": 20,
   "id": "57de45d3",
   "metadata": {},
   "outputs": [],
   "source": [
    "import matplotlib.pyplot as plt\n",
    "import seaborn as sns"
   ]
  },
  {
   "cell_type": "code",
   "execution_count": 21,
   "id": "00f49933",
   "metadata": {},
   "outputs": [
    {
     "name": "stdout",
     "output_type": "stream",
     "text": [
      "Empresas únicas nas reclamações: 899\n",
      "Reclamações totais: 50000\n"
     ]
    }
   ],
   "source": [
    "# 1. De quantas empresas tenho reclamações?\n",
    "print('Empresas únicas nas reclamações:', len(data['company_name'].unique()))\n",
    "print('Reclamações totais:', len(data))"
   ]
  },
  {
   "cell_type": "code",
   "execution_count": 22,
   "id": "9be4bc61",
   "metadata": {},
   "outputs": [
    {
     "name": "stdout",
     "output_type": "stream",
     "text": [
      "Top 10 empresas com mais reclamações:\n",
      "\n",
      "Média de reclamações por empresa: 55.62\n"
     ]
    }
   ],
   "source": [
    "# 2. Quantas reclamações por empresa?\n",
    "print('Top 10 empresas com mais reclamações:')\n",
    "data['company_name'].value_counts().sort_values(ascending=False).head(10).to_frame()\n",
    "\n",
    "print(f'\\nMédia de reclamações por empresa: {data[\"company_name\"].value_counts().mean():.2f}')\t"
   ]
  },
  {
   "cell_type": "code",
   "execution_count": 23,
   "id": "29f14d22",
   "metadata": {},
   "outputs": [
    {
     "data": {
      "text/html": [
       "<div>\n",
       "<style scoped>\n",
       "    .dataframe tbody tr th:only-of-type {\n",
       "        vertical-align: middle;\n",
       "    }\n",
       "\n",
       "    .dataframe tbody tr th {\n",
       "        vertical-align: top;\n",
       "    }\n",
       "\n",
       "    .dataframe thead th {\n",
       "        text-align: right;\n",
       "    }\n",
       "</style>\n",
       "<table border=\"1\" class=\"dataframe\">\n",
       "  <thead>\n",
       "    <tr style=\"text-align: right;\">\n",
       "      <th></th>\n",
       "      <th>company_name</th>\n",
       "      <th>total_reclamacoes</th>\n",
       "      <th>total_resolvido</th>\n",
       "      <th>total_nao_resolvido</th>\n",
       "      <th>taxa_resolucao</th>\n",
       "      <th>taxa_nao_resolucao</th>\n",
       "    </tr>\n",
       "  </thead>\n",
       "  <tbody>\n",
       "    <tr>\n",
       "      <th>735</th>\n",
       "      <td>Serasa Experian</td>\n",
       "      <td>3105</td>\n",
       "      <td>639</td>\n",
       "      <td>2466</td>\n",
       "      <td>20.579710</td>\n",
       "      <td>79.420290</td>\n",
       "    </tr>\n",
       "    <tr>\n",
       "      <th>602</th>\n",
       "      <td>Nubank</td>\n",
       "      <td>2841</td>\n",
       "      <td>305</td>\n",
       "      <td>2536</td>\n",
       "      <td>10.735656</td>\n",
       "      <td>89.264344</td>\n",
       "    </tr>\n",
       "    <tr>\n",
       "      <th>129</th>\n",
       "      <td>Banco do Brasil</td>\n",
       "      <td>2748</td>\n",
       "      <td>428</td>\n",
       "      <td>2320</td>\n",
       "      <td>15.574964</td>\n",
       "      <td>84.425036</td>\n",
       "    </tr>\n",
       "    <tr>\n",
       "      <th>120</th>\n",
       "      <td>Banco Santander</td>\n",
       "      <td>2233</td>\n",
       "      <td>346</td>\n",
       "      <td>1887</td>\n",
       "      <td>15.494850</td>\n",
       "      <td>84.505150</td>\n",
       "    </tr>\n",
       "    <tr>\n",
       "      <th>855</th>\n",
       "      <td>Vivo - Telefônica</td>\n",
       "      <td>1693</td>\n",
       "      <td>1198</td>\n",
       "      <td>495</td>\n",
       "      <td>70.761961</td>\n",
       "      <td>29.238039</td>\n",
       "    </tr>\n",
       "  </tbody>\n",
       "</table>\n",
       "</div>"
      ],
      "text/plain": [
       "          company_name  total_reclamacoes  total_resolvido  \\\n",
       "735    Serasa Experian               3105              639   \n",
       "602             Nubank               2841              305   \n",
       "129    Banco do Brasil               2748              428   \n",
       "120    Banco Santander               2233              346   \n",
       "855  Vivo - Telefônica               1693             1198   \n",
       "\n",
       "     total_nao_resolvido  taxa_resolucao  taxa_nao_resolucao  \n",
       "735                 2466       20.579710           79.420290  \n",
       "602                 2536       10.735656           89.264344  \n",
       "129                 2320       15.574964           84.425036  \n",
       "120                 1887       15.494850           84.505150  \n",
       "855                  495       70.761961           29.238039  "
      ]
     },
     "execution_count": 23,
     "metadata": {},
     "output_type": "execute_result"
    }
   ],
   "source": [
    "# 3. A quantidade de reclamações está correlacionada com a chance de ser resolvida?\n",
    "taxas = (\n",
    "    data.assign(\n",
    "        resolvido=lambda x: (x.status == 'Resolvido').astype(int),\n",
    "        nao_resolvido=lambda x: (x.status != 'Resolvido').astype(int)\n",
    "    ).groupby('company_name').agg(\n",
    "        total_reclamacoes=('company_name', 'count'),\n",
    "        total_resolvido=('resolvido', 'sum'),\n",
    "        total_nao_resolvido=('nao_resolvido', 'sum')\n",
    "    ).assign(\n",
    "        taxa_resolucao=lambda x: x.total_resolvido / x.total_reclamacoes * 100,\n",
    "        taxa_nao_resolucao=lambda x: x.total_nao_resolvido / x.total_reclamacoes * 100,\n",
    "    ).reset_index()\n",
    "     .sort_values(\n",
    "        by='total_reclamacoes', \n",
    "        ascending=False\n",
    "    )\n",
    ")\n",
    "\n",
    "taxas.head()"
   ]
  },
  {
   "cell_type": "code",
   "execution_count": 24,
   "id": "506ba9bb",
   "metadata": {},
   "outputs": [
    {
     "data": {
      "image/png": "[encoded data removed]",
      "text/plain": [
       "<Figure size 1000x600 with 1 Axes>"
      ]
     },
     "metadata": {},
     "output_type": "display_data"
    }
   ],
   "source": [
    "plt.figure(figsize=(10, 6))\n",
    "plt.scatter(taxas['total_reclamacoes'], taxas['taxa_nao_resolucao'], color='blue')\n",
    "\n",
    "plt.title('Relação entre número de reclamações e taxa de não resolução')\n",
    "plt.xlabel('Total de Reclamações')\n",
    "plt.ylabel('Taxa de Não Resolução (%)')\n",
    "\n",
    "plt.show()"
   ]
  },
  {
   "cell_type": "markdown",
   "id": "6ada39ec",
   "metadata": {},
   "source": [
    "Podemos ver que não há uma relação clara, tanto que, já visualizando a tabela, temos os exemplos:\n",
    "\n",
    "|     | Company_Name            |   total_reclamacoes |   total_resolvido |   total_nao_resolvido |   taxa_resolucao |   taxa_nao_resolucao |\n",
    "|----:|:------------------------|--------------------:|------------------:|----------------------:|-----------------:|---------------------:|\n",
    "| 553 | Serasa Experian         |                 911 |               324 |                   587 |          35.5653 |              64.4347 |\n",
    "| 641 | Vivo - Telefônica       |                 622 |               551 |                    71 |          88.5852 |              11.4148 |\n",
    "| 100 | Banco do Brasil         |                 485 |               211 |                   274 |          43.5052 |              56.4948 |\n",
    "| 374 | Latam Airlines (Tam)    |                 426 |               370 |                    56 |          86.8545 |              13.1455 |\n",
    "| 158 | Caixa Econômica Federal |                 398 |               201 |                   197 |          50.5025 |              49.4975 |\n",
    "\n",
    "Em que a **Serasa Experian** é a empresa com mais reclamações e possui uma baixa taxa de resolução, enquanto a **Vivo** possui várias reclamações mas uma alta taxa de resolução."
   ]
  },
  {
   "cell_type": "code",
   "execution_count": 25,
   "id": "9fe3e69f",
   "metadata": {},
   "outputs": [
    {
     "data": {
      "text/html": [
       "<div>\n",
       "<style scoped>\n",
       "    .dataframe tbody tr th:only-of-type {\n",
       "        vertical-align: middle;\n",
       "    }\n",
       "\n",
       "    .dataframe tbody tr th {\n",
       "        vertical-align: top;\n",
       "    }\n",
       "\n",
       "    .dataframe thead th {\n",
       "        text-align: right;\n",
       "    }\n",
       "</style>\n",
       "<table border=\"1\" class=\"dataframe\">\n",
       "  <thead>\n",
       "    <tr style=\"text-align: right;\">\n",
       "      <th></th>\n",
       "      <th>company_name</th>\n",
       "      <th>media_nota</th>\n",
       "      <th>quantidade_reclamacoes</th>\n",
       "    </tr>\n",
       "  </thead>\n",
       "  <tbody>\n",
       "    <tr>\n",
       "      <th>0</th>\n",
       "      <td>Serasa Experian</td>\n",
       "      <td>2.683449</td>\n",
       "      <td>1728</td>\n",
       "    </tr>\n",
       "    <tr>\n",
       "      <th>1</th>\n",
       "      <td>Vivo - Telefônica</td>\n",
       "      <td>4.160284</td>\n",
       "      <td>1410</td>\n",
       "    </tr>\n",
       "    <tr>\n",
       "      <th>2</th>\n",
       "      <td>Banco do Brasil</td>\n",
       "      <td>2.722642</td>\n",
       "      <td>1060</td>\n",
       "    </tr>\n",
       "    <tr>\n",
       "      <th>3</th>\n",
       "      <td>Latam Airlines (Tam)</td>\n",
       "      <td>4.12203</td>\n",
       "      <td>926</td>\n",
       "    </tr>\n",
       "    <tr>\n",
       "      <th>4</th>\n",
       "      <td>Banco Santander</td>\n",
       "      <td>2.395556</td>\n",
       "      <td>900</td>\n",
       "    </tr>\n",
       "  </tbody>\n",
       "</table>\n",
       "</div>"
      ],
      "text/plain": [
       "           company_name  media_nota  quantidade_reclamacoes\n",
       "0       Serasa Experian    2.683449                    1728\n",
       "1     Vivo - Telefônica    4.160284                    1410\n",
       "2       Banco do Brasil    2.722642                    1060\n",
       "3  Latam Airlines (Tam)     4.12203                     926\n",
       "4       Banco Santander    2.395556                     900"
      ]
     },
     "execution_count": 25,
     "metadata": {},
     "output_type": "execute_result"
    }
   ],
   "source": [
    "# 4. A média de nota por empresa\n",
    "agg_data = (\n",
    "    data[~data['rating_score'].str.contains('não há')]\n",
    "        .groupby('company_name').agg(\n",
    "            media_nota=('nota_tree', 'mean'),\n",
    "            quantidade_reclamacoes=('company_name', 'count'),\n",
    "        ).sort_values(\n",
    "            by='quantidade_reclamacoes', \n",
    "            ascending=False\n",
    "        ).reset_index()\n",
    ")\n",
    "agg_data.head()"
   ]
  },
  {
   "cell_type": "code",
   "execution_count": 26,
   "id": "c222bcf5",
   "metadata": {},
   "outputs": [
    {
     "data": {
      "image/png": "[encoded data removed]",
      "text/plain": [
       "<Figure size 1000x600 with 1 Axes>"
      ]
     },
     "metadata": {},
     "output_type": "display_data"
    }
   ],
   "source": [
    "plt.figure(figsize=(10, 6))\n",
    "plt.scatter(agg_data['media_nota'], agg_data['quantidade_reclamacoes'], color='blue')\n",
    "\n",
    "plt.title('Relação entre nota e número de reclamações')\n",
    "plt.xlabel('Total de Reclamações')\n",
    "plt.ylabel('Média da nota (%)')\n",
    "\n",
    "plt.show()"
   ]
  },
  {
   "cell_type": "code",
   "execution_count": 27,
   "id": "75a6b9ec",
   "metadata": {},
   "outputs": [
    {
     "data": {
      "text/html": [
       "<div>\n",
       "<style scoped>\n",
       "    .dataframe tbody tr th:only-of-type {\n",
       "        vertical-align: middle;\n",
       "    }\n",
       "\n",
       "    .dataframe tbody tr th {\n",
       "        vertical-align: top;\n",
       "    }\n",
       "\n",
       "    .dataframe thead th {\n",
       "        text-align: right;\n",
       "    }\n",
       "</style>\n",
       "<table border=\"1\" class=\"dataframe\">\n",
       "  <thead>\n",
       "    <tr style=\"text-align: right;\">\n",
       "      <th></th>\n",
       "      <th>status</th>\n",
       "      <th>media_nota</th>\n",
       "      <th>quantidade_reclamacoes</th>\n",
       "    </tr>\n",
       "  </thead>\n",
       "  <tbody>\n",
       "    <tr>\n",
       "      <th>0</th>\n",
       "      <td>Não Resolvido</td>\n",
       "      <td>1.394498</td>\n",
       "      <td>15630</td>\n",
       "    </tr>\n",
       "    <tr>\n",
       "      <th>1</th>\n",
       "      <td>Resolvido</td>\n",
       "      <td>4.248613</td>\n",
       "      <td>16045</td>\n",
       "    </tr>\n",
       "  </tbody>\n",
       "</table>\n",
       "</div>"
      ],
      "text/plain": [
       "          status  media_nota  quantidade_reclamacoes\n",
       "0  Não Resolvido    1.394498                   15630\n",
       "1      Resolvido    4.248613                   16045"
      ]
     },
     "execution_count": 27,
     "metadata": {},
     "output_type": "execute_result"
    }
   ],
   "source": [
    "# 5. Média de nota por reclamações não resolvidas & 6. Distribuição de reclamações resolvidas e não-resolvidas.\n",
    "score_per_status = (\n",
    "    data[(data['nota_logit'] != -1) & (data['status'] != 'Não avaliado pelo consumidor')]\n",
    "        .groupby('status').agg(\n",
    "            media_nota=('nota_tree', 'mean'),\n",
    "            quantidade_reclamacoes=('company_name', 'count')\n",
    "        ).reset_index()\n",
    ")\n",
    "\n",
    "score_per_status"
   ]
  },
  {
   "cell_type": "code",
   "execution_count": 28,
   "id": "c31fd591",
   "metadata": {},
   "outputs": [
    {
     "data": {
      "image/png": "[encoded data removed]",
      "text/plain": [
       "<Figure size 1200x600 with 2 Axes>"
      ]
     },
     "metadata": {},
     "output_type": "display_data"
    }
   ],
   "source": [
    "# Green for resolved, red for unresolved\n",
    "import warnings\n",
    "warnings.filterwarnings('ignore')\n",
    "\n",
    "colors = ['green' if status == 'Resolvido' else 'red' for status in score_per_status['status']]\n",
    "fig, ax = plt.subplots(1, 2, figsize=(12, 6))\n",
    "sns.barplot(data=score_per_status, x='status', y='media_nota', ax=ax[0], palette=colors)\n",
    "ax[0].set_title('Média de nota por status')\n",
    "ax[0].set_xlabel('Status')\n",
    "ax[0].set_ylabel('Média da nota (%)')\n",
    "\n",
    "sns.barplot(data=score_per_status, x='status', y='quantidade_reclamacoes', ax=ax[1], palette=colors)\n",
    "ax[1].set_title('Quantidade de reclamações por status')\n",
    "ax[1].set_xlabel('Status')\n",
    "ax[1].set_ylabel('Quantidade de reclamações')\n",
    "\n",
    "plt.tight_layout()\n",
    "plt.show()"
   ]
  },
  {
   "cell_type": "code",
   "execution_count": 29,
   "id": "5573d212",
   "metadata": {},
   "outputs": [],
   "source": [
    "from pandas import DataFrame\n",
    "\n",
    "total_reports = len(data[data['nota_logit'] != -1])\n",
    "rating_count = data[data['nota_logit'] != -1].groupby('nota_logit')['nota_logit'].count()\n",
    "df_rating_count = DataFrame({\n",
    "    'nota':rating_count.index,\n",
    "    'count':rating_count.values\n",
    "})\n",
    "df_rating_count = df_rating_count.assign(proportion = (df_rating_count['count'] / total_reports) * 100)\n"
   ]
  },
  {
   "cell_type": "code",
   "execution_count": 30,
   "id": "4213291d",
   "metadata": {},
   "outputs": [
    {
     "data": {
      "image/png": "[encoded data removed]",
      "text/plain": [
       "<Figure size 800x500 with 1 Axes>"
      ]
     },
     "metadata": {},
     "output_type": "display_data"
    }
   ],
   "source": [
    "# Plotagem\n",
    "plt.figure(figsize=(8, 5))\n",
    "bars = plt.bar(df_rating_count['nota'], df_rating_count['count'], color='blue')\n",
    "\n",
    "# Rótulos de proporção sobre as barras\n",
    "for bar, prop in zip(bars, df_rating_count['proportion']):\n",
    "    plt.text(bar.get_x() + bar.get_width() / 2,\n",
    "             bar.get_height() + 100,  # Ajuste vertical\n",
    "             f\"{prop:.1f}%\", \n",
    "             ha='center', va='bottom', fontsize=9)\n",
    "\n",
    "# Eixos e títulos\n",
    "plt.xlabel('Nota (logit)')\n",
    "plt.ylabel('Frequência')\n",
    "plt.title('Distribuição das Notas')\n",
    "plt.suptitle(f'Total de Reclamações com Nota: {total_reports}', fontsize=10)\n",
    "plt.tight_layout()\n",
    "plt.show()"
   ]
  },
  {
   "cell_type": "markdown",
   "id": "2cf5e7fc",
   "metadata": {},
   "source": [
    "**PLN - Processamento de Linguagem Natural**\n",
    "- 7. Palavras mais frequentes\n",
    "- 8. Palavras mais frequentes por empresa.\n",
    "- 9. Palavras mais frequentes nos resolvidos e não resolvidos."
   ]
  },
  {
   "cell_type": "code",
   "execution_count": 31,
   "id": "9d91e3e2",
   "metadata": {},
   "outputs": [
    {
     "name": "stderr",
     "output_type": "stream",
     "text": [
      "[nltk_data] Downloading package stopwords to\n",
      "[nltk_data]     C:\\Users\\user/nltk_data...\n",
      "[nltk_data]   Package stopwords is already up-to-date!\n"
     ]
    }
   ],
   "source": [
    "import pandas as pd\n",
    "import nltk\n",
    "from collections import Counter\n",
    "from nltk.corpus import stopwords\n",
    "from sklearn.feature_extraction.text import CountVectorizer\n",
    "\n",
    "nltk.download('stopwords')\n",
    "stop_words = set(stopwords.words('portuguese'))"
   ]
  },
  {
   "cell_type": "code",
   "execution_count": 32,
   "id": "0ea6f17b",
   "metadata": {},
   "outputs": [],
   "source": [
    "import re\n",
    "\n",
    "def preprocess_text(text):\n",
    "    # Remove pontuação, números e deixa tudo minúsculo\n",
    "    text = re.sub(r'[^a-zA-ZáéíóúãõâêôçÁÉÍÓÚÃÕÂÊÔÇ]', ' ', text)\n",
    "    text = text.lower()\n",
    "    tokens = text.split()\n",
    "    tokens = [t for t in tokens if t not in stop_words and len(t) > 2]\n",
    "    return ' '.join(tokens)\n"
   ]
  },
  {
   "cell_type": "code",
   "execution_count": 33,
   "id": "0127bd02",
   "metadata": {},
   "outputs": [
    {
     "name": "stdout",
     "output_type": "stream",
     "text": [
      "Top 20 palavras mais frequentes:\n"
     ]
    },
    {
     "data": {
      "text/html": [
       "<div>\n",
       "<style scoped>\n",
       "    .dataframe tbody tr th:only-of-type {\n",
       "        vertical-align: middle;\n",
       "    }\n",
       "\n",
       "    .dataframe tbody tr th {\n",
       "        vertical-align: top;\n",
       "    }\n",
       "\n",
       "    .dataframe thead th {\n",
       "        text-align: right;\n",
       "    }\n",
       "</style>\n",
       "<table border=\"1\" class=\"dataframe\">\n",
       "  <thead>\n",
       "    <tr style=\"text-align: right;\">\n",
       "      <th></th>\n",
       "      <th>word</th>\n",
       "      <th>frequency</th>\n",
       "    </tr>\n",
       "  </thead>\n",
       "  <tbody>\n",
       "    <tr>\n",
       "      <th>0</th>\n",
       "      <td>valor</td>\n",
       "      <td>28564</td>\n",
       "    </tr>\n",
       "    <tr>\n",
       "      <th>1</th>\n",
       "      <td>dia</td>\n",
       "      <td>26030</td>\n",
       "    </tr>\n",
       "    <tr>\n",
       "      <th>2</th>\n",
       "      <td>xxx</td>\n",
       "      <td>24363</td>\n",
       "    </tr>\n",
       "    <tr>\n",
       "      <th>3</th>\n",
       "      <td>conta</td>\n",
       "      <td>17356</td>\n",
       "    </tr>\n",
       "    <tr>\n",
       "      <th>4</th>\n",
       "      <td>banco</td>\n",
       "      <td>16246</td>\n",
       "    </tr>\n",
       "    <tr>\n",
       "      <th>5</th>\n",
       "      <td>empresa</td>\n",
       "      <td>15029</td>\n",
       "    </tr>\n",
       "    <tr>\n",
       "      <th>6</th>\n",
       "      <td>contato</td>\n",
       "      <td>14970</td>\n",
       "    </tr>\n",
       "    <tr>\n",
       "      <th>7</th>\n",
       "      <td>pois</td>\n",
       "      <td>14967</td>\n",
       "    </tr>\n",
       "    <tr>\n",
       "      <th>8</th>\n",
       "      <td>nome</td>\n",
       "      <td>13898</td>\n",
       "    </tr>\n",
       "    <tr>\n",
       "      <th>9</th>\n",
       "      <td>pagamento</td>\n",
       "      <td>10798</td>\n",
       "    </tr>\n",
       "    <tr>\n",
       "      <th>10</th>\n",
       "      <td>cartão</td>\n",
       "      <td>10433</td>\n",
       "    </tr>\n",
       "    <tr>\n",
       "      <th>11</th>\n",
       "      <td>crédito</td>\n",
       "      <td>10363</td>\n",
       "    </tr>\n",
       "    <tr>\n",
       "      <th>12</th>\n",
       "      <td>consumidor</td>\n",
       "      <td>10066</td>\n",
       "    </tr>\n",
       "    <tr>\n",
       "      <th>13</th>\n",
       "      <td>dívida</td>\n",
       "      <td>9678</td>\n",
       "    </tr>\n",
       "    <tr>\n",
       "      <th>14</th>\n",
       "      <td>cobrança</td>\n",
       "      <td>9483</td>\n",
       "    </tr>\n",
       "    <tr>\n",
       "      <th>15</th>\n",
       "      <td>compra</td>\n",
       "      <td>9343</td>\n",
       "    </tr>\n",
       "    <tr>\n",
       "      <th>16</th>\n",
       "      <td>dias</td>\n",
       "      <td>9316</td>\n",
       "    </tr>\n",
       "    <tr>\n",
       "      <th>17</th>\n",
       "      <td>cancelamento</td>\n",
       "      <td>9268</td>\n",
       "    </tr>\n",
       "    <tr>\n",
       "      <th>18</th>\n",
       "      <td>conforme</td>\n",
       "      <td>9213</td>\n",
       "    </tr>\n",
       "    <tr>\n",
       "      <th>19</th>\n",
       "      <td>data</td>\n",
       "      <td>8864</td>\n",
       "    </tr>\n",
       "  </tbody>\n",
       "</table>\n",
       "</div>"
      ],
      "text/plain": [
       "            word  frequency\n",
       "0          valor      28564\n",
       "1            dia      26030\n",
       "2            xxx      24363\n",
       "3          conta      17356\n",
       "4          banco      16246\n",
       "5        empresa      15029\n",
       "6        contato      14970\n",
       "7           pois      14967\n",
       "8           nome      13898\n",
       "9      pagamento      10798\n",
       "10        cartão      10433\n",
       "11       crédito      10363\n",
       "12    consumidor      10066\n",
       "13        dívida       9678\n",
       "14      cobrança       9483\n",
       "15        compra       9343\n",
       "16          dias       9316\n",
       "17  cancelamento       9268\n",
       "18      conforme       9213\n",
       "19          data       8864"
      ]
     },
     "execution_count": 33,
     "metadata": {},
     "output_type": "execute_result"
    }
   ],
   "source": [
    "from pandas import DataFrame\n",
    "\n",
    "# Pré-processa todas as descrições\n",
    "data['clean_report'] = data['report'].apply(preprocess_text)\n",
    "data['clean_response'] = data['company_response'].apply(preprocess_text)\n",
    "\n",
    "# Junta tudo num só texto\n",
    "all_words = ' '.join(data['clean_report']).split()\n",
    "\n",
    "# Conta frequência\n",
    "top_words = Counter(all_words).most_common(20)\n",
    "print('Top 20 palavras mais frequentes:')\n",
    "\n",
    "freq_df = DataFrame(top_words, columns=['word', 'frequency'])\n",
    "freq_df = freq_df.sort_values(by='frequency', ascending=False).reset_index(drop=True)\n",
    "freq_df"
   ]
  },
  {
   "cell_type": "code",
   "execution_count": 34,
   "id": "6a80b461",
   "metadata": {},
   "outputs": [
    {
     "data": {
      "image/png": "[encoded data removed]",
      "text/plain": [
       "<Figure size 1000x500 with 1 Axes>"
      ]
     },
     "metadata": {},
     "output_type": "display_data"
    }
   ],
   "source": [
    "# Word Cloud\n",
    "from wordcloud import WordCloud\n",
    "import matplotlib.pyplot as plt\n",
    "\n",
    "wordcloud = WordCloud(width=800, height=400, background_color='white').generate(' '.join(all_words))\n",
    "plt.figure(figsize=(10, 5))\n",
    "plt.imshow(wordcloud, interpolation='bilinear')\n",
    "plt.axis('off')\n",
    "plt.show()"
   ]
  },
  {
   "cell_type": "code",
   "execution_count": 35,
   "id": "9281c9ab",
   "metadata": {},
   "outputs": [],
   "source": [
    "# Lista para armazenar os dados\n",
    "freq_data = []\n",
    "\n",
    "# Iterar pelos status\n",
    "for company in data['company_name'].unique():\n",
    "    subset = data[data['company_name'] == company]\n",
    "    texto = ' '.join(subset['clean_report'])\n",
    "    palavras = texto.split()\n",
    "    top = Counter(palavras).most_common(10)\n",
    "\n",
    "    # Adiciona ao dataframe\n",
    "    for palavra, freq in top:\n",
    "        freq_data.append({'empresa': company, 'Palavra': palavra, 'Frequência': freq})\n",
    "\n",
    "# Criar o DataFrame\n",
    "df_frequencia_status = DataFrame(freq_data)"
   ]
  },
  {
   "cell_type": "code",
   "execution_count": 36,
   "id": "a5fd6efd",
   "metadata": {},
   "outputs": [],
   "source": [
    "# Lista para armazenar os dados\n",
    "freq_data = []\n",
    "\n",
    "# Iterar pelos status\n",
    "for status in data['status'].unique():\n",
    "    subset = data[data['status'] == status]\n",
    "    texto = ' '.join(subset['clean_report'])\n",
    "    palavras = texto.split()\n",
    "    top = Counter(palavras).most_common(10)\n",
    "\n",
    "    # Adiciona ao dataframe\n",
    "    for palavra, freq in top:\n",
    "        freq_data.append({'Status': status, 'Palavra': palavra, 'Frequência': freq})\n",
    "\n",
    "# Criar o DataFrame\n",
    "df_frequencia_status = DataFrame(freq_data)"
   ]
  },
  {
   "cell_type": "code",
   "execution_count": 37,
   "id": "b31c359a",
   "metadata": {},
   "outputs": [
    {
     "name": "stdout",
     "output_type": "stream",
     "text": [
      "Frequência de palavras por status Resolvido:\n"
     ]
    },
    {
     "data": {
      "text/html": [
       "<div>\n",
       "<style scoped>\n",
       "    .dataframe tbody tr th:only-of-type {\n",
       "        vertical-align: middle;\n",
       "    }\n",
       "\n",
       "    .dataframe tbody tr th {\n",
       "        vertical-align: top;\n",
       "    }\n",
       "\n",
       "    .dataframe thead th {\n",
       "        text-align: right;\n",
       "    }\n",
       "</style>\n",
       "<table border=\"1\" class=\"dataframe\">\n",
       "  <thead>\n",
       "    <tr style=\"text-align: right;\">\n",
       "      <th></th>\n",
       "      <th>Palavra</th>\n",
       "      <th>Frequência</th>\n",
       "    </tr>\n",
       "  </thead>\n",
       "  <tbody>\n",
       "    <tr>\n",
       "      <th>10</th>\n",
       "      <td>dia</td>\n",
       "      <td>11744</td>\n",
       "    </tr>\n",
       "    <tr>\n",
       "      <th>11</th>\n",
       "      <td>valor</td>\n",
       "      <td>9881</td>\n",
       "    </tr>\n",
       "    <tr>\n",
       "      <th>12</th>\n",
       "      <td>xxx</td>\n",
       "      <td>9531</td>\n",
       "    </tr>\n",
       "    <tr>\n",
       "      <th>13</th>\n",
       "      <td>contato</td>\n",
       "      <td>6399</td>\n",
       "    </tr>\n",
       "    <tr>\n",
       "      <th>14</th>\n",
       "      <td>conta</td>\n",
       "      <td>5804</td>\n",
       "    </tr>\n",
       "    <tr>\n",
       "      <th>15</th>\n",
       "      <td>empresa</td>\n",
       "      <td>5307</td>\n",
       "    </tr>\n",
       "    <tr>\n",
       "      <th>16</th>\n",
       "      <td>cancelamento</td>\n",
       "      <td>5008</td>\n",
       "    </tr>\n",
       "    <tr>\n",
       "      <th>17</th>\n",
       "      <td>pois</td>\n",
       "      <td>4869</td>\n",
       "    </tr>\n",
       "    <tr>\n",
       "      <th>18</th>\n",
       "      <td>compra</td>\n",
       "      <td>4170</td>\n",
       "    </tr>\n",
       "    <tr>\n",
       "      <th>19</th>\n",
       "      <td>plano</td>\n",
       "      <td>4098</td>\n",
       "    </tr>\n",
       "  </tbody>\n",
       "</table>\n",
       "</div>"
      ],
      "text/plain": [
       "         Palavra  Frequência\n",
       "10           dia       11744\n",
       "11         valor        9881\n",
       "12           xxx        9531\n",
       "13       contato        6399\n",
       "14         conta        5804\n",
       "15       empresa        5307\n",
       "16  cancelamento        5008\n",
       "17          pois        4869\n",
       "18        compra        4170\n",
       "19         plano        4098"
      ]
     },
     "execution_count": 37,
     "metadata": {},
     "output_type": "execute_result"
    }
   ],
   "source": [
    "print('Frequência de palavras por status Resolvido:')\n",
    "df_frequencia_status[df_frequencia_status['Status'] == 'Resolvido'][['Palavra', 'Frequência']].head(10)"
   ]
  },
  {
   "cell_type": "code",
   "execution_count": 38,
   "id": "558ab42e",
   "metadata": {},
   "outputs": [
    {
     "name": "stdout",
     "output_type": "stream",
     "text": [
      "Frequência de palavras por status Não-Resolvido:\n"
     ]
    },
    {
     "data": {
      "text/html": [
       "<div>\n",
       "<style scoped>\n",
       "    .dataframe tbody tr th:only-of-type {\n",
       "        vertical-align: middle;\n",
       "    }\n",
       "\n",
       "    .dataframe tbody tr th {\n",
       "        vertical-align: top;\n",
       "    }\n",
       "\n",
       "    .dataframe thead th {\n",
       "        text-align: right;\n",
       "    }\n",
       "</style>\n",
       "<table border=\"1\" class=\"dataframe\">\n",
       "  <thead>\n",
       "    <tr style=\"text-align: right;\">\n",
       "      <th></th>\n",
       "      <th>Palavra</th>\n",
       "      <th>Frequência</th>\n",
       "    </tr>\n",
       "  </thead>\n",
       "  <tbody>\n",
       "    <tr>\n",
       "      <th>0</th>\n",
       "      <td>valor</td>\n",
       "      <td>10140</td>\n",
       "    </tr>\n",
       "    <tr>\n",
       "      <th>1</th>\n",
       "      <td>dia</td>\n",
       "      <td>9328</td>\n",
       "    </tr>\n",
       "    <tr>\n",
       "      <th>2</th>\n",
       "      <td>xxx</td>\n",
       "      <td>9133</td>\n",
       "    </tr>\n",
       "    <tr>\n",
       "      <th>3</th>\n",
       "      <td>banco</td>\n",
       "      <td>6829</td>\n",
       "    </tr>\n",
       "    <tr>\n",
       "      <th>4</th>\n",
       "      <td>conta</td>\n",
       "      <td>6755</td>\n",
       "    </tr>\n",
       "    <tr>\n",
       "      <th>5</th>\n",
       "      <td>pois</td>\n",
       "      <td>5550</td>\n",
       "    </tr>\n",
       "    <tr>\n",
       "      <th>6</th>\n",
       "      <td>contato</td>\n",
       "      <td>5502</td>\n",
       "    </tr>\n",
       "    <tr>\n",
       "      <th>7</th>\n",
       "      <td>empresa</td>\n",
       "      <td>5471</td>\n",
       "    </tr>\n",
       "    <tr>\n",
       "      <th>8</th>\n",
       "      <td>cartão</td>\n",
       "      <td>4191</td>\n",
       "    </tr>\n",
       "    <tr>\n",
       "      <th>9</th>\n",
       "      <td>pagamento</td>\n",
       "      <td>4087</td>\n",
       "    </tr>\n",
       "  </tbody>\n",
       "</table>\n",
       "</div>"
      ],
      "text/plain": [
       "     Palavra  Frequência\n",
       "0      valor       10140\n",
       "1        dia        9328\n",
       "2        xxx        9133\n",
       "3      banco        6829\n",
       "4      conta        6755\n",
       "5       pois        5550\n",
       "6    contato        5502\n",
       "7    empresa        5471\n",
       "8     cartão        4191\n",
       "9  pagamento        4087"
      ]
     },
     "execution_count": 38,
     "metadata": {},
     "output_type": "execute_result"
    }
   ],
   "source": [
    "print('Frequência de palavras por status Não-Resolvido:')\n",
    "df_frequencia_status[df_frequencia_status['Status'] == 'Não Resolvido'][['Palavra', 'Frequência']].head(10)"
   ]
  },
  {
   "cell_type": "markdown",
   "id": "1d54c454",
   "metadata": {},
   "source": [
    "---\n",
    "## **Preparação de Dados**"
   ]
  },
  {
   "cell_type": "code",
   "execution_count": 39,
   "id": "b3fd4b00",
   "metadata": {},
   "outputs": [],
   "source": [
    "# Preparação de dados para modelagem com Machine Learning\n",
    "cols = [col for col in data.columns if col not in ['report', 'clean_report', 'company_response','consumer_written_evaluation']]\n",
    "data[cols].head()\n",
    "\n",
    "actual_size = len(data)"
   ]
  },
  {
   "cell_type": "code",
   "execution_count": 40,
   "id": "edd87ae0",
   "metadata": {},
   "outputs": [],
   "source": [
    "status_map = {\n",
    "    'Resolvido': 1,\n",
    "    'Não Resolvido': 0\n",
    "}\n",
    "\n",
    "data = data[data['status'] != 'Não avaliado pelo consumidor']\n",
    "new_size = len(data)\n",
    "data['label'] = data['status'].map(status_map)"
   ]
  },
  {
   "cell_type": "code",
   "execution_count": 41,
   "id": "3fbe48b9",
   "metadata": {},
   "outputs": [
    {
     "name": "stdout",
     "output_type": "stream",
     "text": [
      "Tamanho Antigo:  50000\n",
      "Tamanho Atual 31675\n"
     ]
    }
   ],
   "source": [
    "print('Tamanho Antigo: ', actual_size)\n",
    "print('Tamanho Atual', new_size)"
   ]
  },
  {
   "cell_type": "code",
   "execution_count": 42,
   "id": "49236f44",
   "metadata": {},
   "outputs": [
    {
     "data": {
      "text/html": [
       "<div>\n",
       "<style scoped>\n",
       "    .dataframe tbody tr th:only-of-type {\n",
       "        vertical-align: middle;\n",
       "    }\n",
       "\n",
       "    .dataframe tbody tr th {\n",
       "        vertical-align: top;\n",
       "    }\n",
       "\n",
       "    .dataframe thead th {\n",
       "        text-align: right;\n",
       "    }\n",
       "</style>\n",
       "<table border=\"1\" class=\"dataframe\">\n",
       "  <thead>\n",
       "    <tr style=\"text-align: right;\">\n",
       "      <th></th>\n",
       "      <th>label</th>\n",
       "      <th>clean_response</th>\n",
       "      <th>clean_report</th>\n",
       "      <th>nota_logit</th>\n",
       "      <th>nota_tree</th>\n",
       "      <th>consumidor_respondeu</th>\n",
       "      <th>dias_para_resposta</th>\n",
       "      <th>respondido</th>\n",
       "      <th>uf</th>\n",
       "      <th>company_name</th>\n",
       "    </tr>\n",
       "  </thead>\n",
       "  <tbody>\n",
       "    <tr>\n",
       "      <th>0</th>\n",
       "      <td>0</td>\n",
       "      <td>flavia tudo bem acabamos responder solicitação...</td>\n",
       "      <td>solicito imediata retirada negativação indevid...</td>\n",
       "      <td>2</td>\n",
       "      <td>2</td>\n",
       "      <td>True</td>\n",
       "      <td>0</td>\n",
       "      <td>1</td>\n",
       "      <td>RS</td>\n",
       "      <td>Serasa Experian</td>\n",
       "    </tr>\n",
       "    <tr>\n",
       "      <th>1</th>\n",
       "      <td>0</td>\n",
       "      <td>karina tudo bem acabamos responder solicitação...</td>\n",
       "      <td>solicito retirada imediata dívida prescrita ai...</td>\n",
       "      <td>1</td>\n",
       "      <td>1</td>\n",
       "      <td>True</td>\n",
       "      <td>0</td>\n",
       "      <td>1</td>\n",
       "      <td>PR</td>\n",
       "      <td>Serasa Experian</td>\n",
       "    </tr>\n",
       "    <tr>\n",
       "      <th>2</th>\n",
       "      <td>1</td>\n",
       "      <td>emerson tudo bem acabamos responder solicitaçã...</td>\n",
       "      <td>solicito imediata retirada negativacão indevid...</td>\n",
       "      <td>1</td>\n",
       "      <td>1</td>\n",
       "      <td>True</td>\n",
       "      <td>0</td>\n",
       "      <td>1</td>\n",
       "      <td>AM</td>\n",
       "      <td>Serasa Experian</td>\n",
       "    </tr>\n",
       "    <tr>\n",
       "      <th>3</th>\n",
       "      <td>0</td>\n",
       "      <td>washington tudo bem acabamos responder solicit...</td>\n",
       "      <td>solicito retirada imediata cobrança dívidas ci...</td>\n",
       "      <td>3</td>\n",
       "      <td>3</td>\n",
       "      <td>True</td>\n",
       "      <td>0</td>\n",
       "      <td>1</td>\n",
       "      <td>AP</td>\n",
       "      <td>Serasa Experian</td>\n",
       "    </tr>\n",
       "    <tr>\n",
       "      <th>4</th>\n",
       "      <td>1</td>\n",
       "      <td>olá tudo bem informamos manifestação respondid...</td>\n",
       "      <td>realizei pagamento acordo quitar dívida descon...</td>\n",
       "      <td>1</td>\n",
       "      <td>1</td>\n",
       "      <td>True</td>\n",
       "      <td>0</td>\n",
       "      <td>1</td>\n",
       "      <td>SP</td>\n",
       "      <td>Cartões Renner (Realize CFI)</td>\n",
       "    </tr>\n",
       "  </tbody>\n",
       "</table>\n",
       "</div>"
      ],
      "text/plain": [
       "   label                                     clean_response  \\\n",
       "0      0  flavia tudo bem acabamos responder solicitação...   \n",
       "1      0  karina tudo bem acabamos responder solicitação...   \n",
       "2      1  emerson tudo bem acabamos responder solicitaçã...   \n",
       "3      0  washington tudo bem acabamos responder solicit...   \n",
       "4      1  olá tudo bem informamos manifestação respondid...   \n",
       "\n",
       "                                        clean_report  nota_logit  nota_tree  \\\n",
       "0  solicito imediata retirada negativação indevid...           2          2   \n",
       "1  solicito retirada imediata dívida prescrita ai...           1          1   \n",
       "2  solicito imediata retirada negativacão indevid...           1          1   \n",
       "3  solicito retirada imediata cobrança dívidas ci...           3          3   \n",
       "4  realizei pagamento acordo quitar dívida descon...           1          1   \n",
       "\n",
       "   consumidor_respondeu  dias_para_resposta  respondido  uf  \\\n",
       "0                  True                   0           1  RS   \n",
       "1                  True                   0           1  PR   \n",
       "2                  True                   0           1  AM   \n",
       "3                  True                   0           1  AP   \n",
       "4                  True                   0           1  SP   \n",
       "\n",
       "                   company_name  \n",
       "0               Serasa Experian  \n",
       "1               Serasa Experian  \n",
       "2               Serasa Experian  \n",
       "3               Serasa Experian  \n",
       "4  Cartões Renner (Realize CFI)  "
      ]
     },
     "execution_count": 42,
     "metadata": {},
     "output_type": "execute_result"
    }
   ],
   "source": [
    "# Removendo colunas inúteis\n",
    "columns_to_drop = [\n",
    "    'status', \n",
    "    'report',\n",
    "    'company_response', \n",
    "    'rating_score', \n",
    "    'consumer_written_evaluation', \n",
    "    'data_reclamacao', \n",
    "    'cidade'\n",
    "]\n",
    "data_ml = data.drop(columns=columns_to_drop)\n",
    "data_ml = data_ml[reversed(data_ml.columns)]\n",
    "data_ml.head()"
   ]
  },
  {
   "cell_type": "markdown",
   "id": "74cd589c",
   "metadata": {},
   "source": [
    "---"
   ]
  },
  {
   "cell_type": "code",
   "execution_count": 43,
   "id": "4ca1a81d",
   "metadata": {},
   "outputs": [],
   "source": [
    "data_ml_to_csv = data_ml.dropna(subset=['clean_report'])\n",
    "data_ml_to_csv.to_csv(ml_file_path, sep='|', encoding='utf-8', compression='gzip', index=False)"
   ]
  },
  {
   "cell_type": "markdown",
   "id": "ac5b0a07",
   "metadata": {},
   "source": [
    "### **Criando Dados para o Banco de Dados**"
   ]
  },
  {
   "cell_type": "code",
   "execution_count": 44,
   "id": "e0a32a9f",
   "metadata": {},
   "outputs": [],
   "source": [
    "database = read_csv(staging_file_path, sep='|', encoding='utf-8')"
   ]
  },
  {
   "cell_type": "markdown",
   "id": "a80f8612",
   "metadata": {},
   "source": [
    "### **Reclamações**"
   ]
  },
  {
   "cell_type": "code",
   "execution_count": 45,
   "id": "69201e6e",
   "metadata": {},
   "outputs": [
    {
     "data": {
      "text/html": [
       "<div>\n",
       "<style scoped>\n",
       "    .dataframe tbody tr th:only-of-type {\n",
       "        vertical-align: middle;\n",
       "    }\n",
       "\n",
       "    .dataframe tbody tr th {\n",
       "        vertical-align: top;\n",
       "    }\n",
       "\n",
       "    .dataframe thead th {\n",
       "        text-align: right;\n",
       "    }\n",
       "</style>\n",
       "<table border=\"1\" class=\"dataframe\">\n",
       "  <thead>\n",
       "    <tr style=\"text-align: right;\">\n",
       "      <th></th>\n",
       "      <th>company_name</th>\n",
       "      <th>status</th>\n",
       "      <th>date</th>\n",
       "      <th>report</th>\n",
       "      <th>company_response</th>\n",
       "      <th>response_date</th>\n",
       "      <th>rating_score</th>\n",
       "      <th>consumer_written_evaluation</th>\n",
       "      <th>id_company</th>\n",
       "      <th>id_user</th>\n",
       "      <th>id_report</th>\n",
       "    </tr>\n",
       "  </thead>\n",
       "  <tbody>\n",
       "    <tr>\n",
       "      <th>0</th>\n",
       "      <td>Serasa Experian</td>\n",
       "      <td>Não Resolvido</td>\n",
       "      <td>25/04/2025, Santa Maria - RS</td>\n",
       "      <td>Solicito a imediata retirada da negativação in...</td>\n",
       "      <td>Oi, FLAVIA. Tudo bem?\\r\\n\\r\\n\\r\\nAcabamos de r...</td>\n",
       "      <td>(no mesmo dia)</td>\n",
       "      <td>Nota 2</td>\n",
       "      <td>&lt;não há comentários do consumidor&gt;</td>\n",
       "      <td>695</td>\n",
       "      <td>651</td>\n",
       "      <td>1</td>\n",
       "    </tr>\n",
       "    <tr>\n",
       "      <th>1</th>\n",
       "      <td>Serasa Experian</td>\n",
       "      <td>Não Resolvido</td>\n",
       "      <td>25/04/2025, Santa Tereza do Oeste - PR</td>\n",
       "      <td>“Solicito a retirada imediata da dívida prescr...</td>\n",
       "      <td>Oi, KARINA. Tudo bem?\\r\\n\\r\\n\\r\\nAcabamos de r...</td>\n",
       "      <td>(no mesmo dia)</td>\n",
       "      <td>Nota 1</td>\n",
       "      <td>&lt;não há comentários do consumidor&gt;</td>\n",
       "      <td>695</td>\n",
       "      <td>105</td>\n",
       "      <td>2</td>\n",
       "    </tr>\n",
       "  </tbody>\n",
       "</table>\n",
       "</div>"
      ],
      "text/plain": [
       "      company_name         status                                    date  \\\n",
       "0  Serasa Experian  Não Resolvido            25/04/2025, Santa Maria - RS   \n",
       "1  Serasa Experian  Não Resolvido  25/04/2025, Santa Tereza do Oeste - PR   \n",
       "\n",
       "                                              report  \\\n",
       "0  Solicito a imediata retirada da negativação in...   \n",
       "1  “Solicito a retirada imediata da dívida prescr...   \n",
       "\n",
       "                                    company_response   response_date  \\\n",
       "0  Oi, FLAVIA. Tudo bem?\\r\\n\\r\\n\\r\\nAcabamos de r...  (no mesmo dia)   \n",
       "1  Oi, KARINA. Tudo bem?\\r\\n\\r\\n\\r\\nAcabamos de r...  (no mesmo dia)   \n",
       "\n",
       "  rating_score         consumer_written_evaluation  id_company  id_user  \\\n",
       "0       Nota 2  <não há comentários do consumidor>         695      651   \n",
       "1       Nota 1  <não há comentários do consumidor>         695      105   \n",
       "\n",
       "   id_report  \n",
       "0          1  \n",
       "1          2  "
      ]
     },
     "execution_count": 45,
     "metadata": {},
     "output_type": "execute_result"
    }
   ],
   "source": [
    "from numpy import random\n",
    "\n",
    "reports_table = database.copy()\n",
    "reports_table = reports_table[reports_table['status'] != 'Não avaliado pelo consumidor']\n",
    "reports_table['id_company'] = reports_table['company_name'].astype('category').cat.codes + 1\n",
    "reports_table['id_user'] = random.randint(1, 2000, size=len(data_ml))\n",
    "reports_table['id_report'] = reports_table.index + 1\n",
    "reports_table['id_report'] = reports_table['id_report'].astype('int64')\n",
    "reports_table.head(2)"
   ]
  },
  {
   "cell_type": "markdown",
   "id": "6198a68a",
   "metadata": {},
   "source": [
    "### **Usuários**"
   ]
  },
  {
   "cell_type": "code",
   "execution_count": 46,
   "id": "40a6dcbf",
   "metadata": {},
   "outputs": [
    {
     "name": "stdout",
     "output_type": "stream",
     "text": [
      "24989118634\n"
     ]
    }
   ],
   "source": [
    "import random\n",
    "\n",
    "def generate_cpf():\n",
    "    numbers = [random.randint(0, 9) for _ in range(9)]\n",
    "\n",
    "    sum_1 = sum([numbers[i] * (10 - i) for i in range(9)])\n",
    "    digit_1 = (sum_1 * 10) % 11\n",
    "    digit_1 = digit_1 if digit_1 < 10 else 0\n",
    "\n",
    "    sum_2 = sum([numbers[i] * (11 - i) for i in range(9)]) + digit_1 * 2\n",
    "    digit_2 = (sum_2 * 10) % 11\n",
    "    digit_2 = digit_2 if digit_2 < 10 else 0\n",
    "\n",
    "    cpf = f\"{''.join(map(str, numbers))}{digit_1}{digit_2}\"\n",
    "\n",
    "    return cpf\n",
    "\n",
    "print(generate_cpf())"
   ]
  },
  {
   "cell_type": "code",
   "execution_count": 47,
   "id": "c1ba87c7",
   "metadata": {},
   "outputs": [
    {
     "data": {
      "text/html": [
       "<div>\n",
       "<style scoped>\n",
       "    .dataframe tbody tr th:only-of-type {\n",
       "        vertical-align: middle;\n",
       "    }\n",
       "\n",
       "    .dataframe tbody tr th {\n",
       "        vertical-align: top;\n",
       "    }\n",
       "\n",
       "    .dataframe thead th {\n",
       "        text-align: right;\n",
       "    }\n",
       "</style>\n",
       "<table border=\"1\" class=\"dataframe\">\n",
       "  <thead>\n",
       "    <tr style=\"text-align: right;\">\n",
       "      <th></th>\n",
       "      <th>id_user</th>\n",
       "      <th>name</th>\n",
       "      <th>user_type</th>\n",
       "      <th>id_company</th>\n",
       "      <th>email</th>\n",
       "      <th>cpf_user</th>\n",
       "      <th>password</th>\n",
       "    </tr>\n",
       "  </thead>\n",
       "  <tbody>\n",
       "    <tr>\n",
       "      <th>0</th>\n",
       "      <td>1</td>\n",
       "      <td>Srta. Maria Alice da Rosa</td>\n",
       "      <td>empresa</td>\n",
       "      <td>1.0</td>\n",
       "      <td>laura94@da.net</td>\n",
       "      <td>98276959245</td>\n",
       "      <td>00f40ae85b2c618306467664c45f89fc4413f099a24c25...</td>\n",
       "    </tr>\n",
       "    <tr>\n",
       "      <th>1</th>\n",
       "      <td>2</td>\n",
       "      <td>Maria Luiza Farias</td>\n",
       "      <td>empresa</td>\n",
       "      <td>2.0</td>\n",
       "      <td>heitor39@pires.com</td>\n",
       "      <td>34432131209</td>\n",
       "      <td>36fc3b82554c0fee73eb6fc8edb26a2c7c9af1f75f91e9...</td>\n",
       "    </tr>\n",
       "    <tr>\n",
       "      <th>2</th>\n",
       "      <td>3</td>\n",
       "      <td>Joana Duarte</td>\n",
       "      <td>empresa</td>\n",
       "      <td>3.0</td>\n",
       "      <td>duartegabriela@cavalcanti.br</td>\n",
       "      <td>17080726085</td>\n",
       "      <td>c682e3e43c9917c263f0a5afdcd4a36dfb424004cffcee...</td>\n",
       "    </tr>\n",
       "    <tr>\n",
       "      <th>3</th>\n",
       "      <td>4</td>\n",
       "      <td>Maria Vitória Barros</td>\n",
       "      <td>empresa</td>\n",
       "      <td>4.0</td>\n",
       "      <td>brunavieira@teixeira.net</td>\n",
       "      <td>89016025391</td>\n",
       "      <td>c9ec6daa7e5a1ff9755013a03582c1009f057824cea2ab...</td>\n",
       "    </tr>\n",
       "    <tr>\n",
       "      <th>4</th>\n",
       "      <td>5</td>\n",
       "      <td>Maria Alice Carvalho</td>\n",
       "      <td>empresa</td>\n",
       "      <td>5.0</td>\n",
       "      <td>salesbenjamin@duarte.br</td>\n",
       "      <td>77123581687</td>\n",
       "      <td>7a284893764e6bf38c032c443f25614bc0edace59fffb6...</td>\n",
       "    </tr>\n",
       "  </tbody>\n",
       "</table>\n",
       "</div>"
      ],
      "text/plain": [
       "   id_user                       name user_type  id_company  \\\n",
       "0        1  Srta. Maria Alice da Rosa   empresa         1.0   \n",
       "1        2         Maria Luiza Farias   empresa         2.0   \n",
       "2        3               Joana Duarte   empresa         3.0   \n",
       "3        4       Maria Vitória Barros   empresa         4.0   \n",
       "4        5       Maria Alice Carvalho   empresa         5.0   \n",
       "\n",
       "                          email     cpf_user  \\\n",
       "0                laura94@da.net  98276959245   \n",
       "1            heitor39@pires.com  34432131209   \n",
       "2  duartegabriela@cavalcanti.br  17080726085   \n",
       "3      brunavieira@teixeira.net  89016025391   \n",
       "4       salesbenjamin@duarte.br  77123581687   \n",
       "\n",
       "                                            password  \n",
       "0  00f40ae85b2c618306467664c45f89fc4413f099a24c25...  \n",
       "1  36fc3b82554c0fee73eb6fc8edb26a2c7c9af1f75f91e9...  \n",
       "2  c682e3e43c9917c263f0a5afdcd4a36dfb424004cffcee...  \n",
       "3  c9ec6daa7e5a1ff9755013a03582c1009f057824cea2ab...  \n",
       "4  7a284893764e6bf38c032c443f25614bc0edace59fffb6...  "
      ]
     },
     "execution_count": 47,
     "metadata": {},
     "output_type": "execute_result"
    }
   ],
   "source": [
    "import pandas as pd\n",
    "from faker import Faker\n",
    "import random\n",
    "import bcrypt\n",
    "\n",
    "fake = Faker('pt-br')\n",
    "\n",
    "def hash_password(password):\n",
    "    return bcrypt.hashpw(password.encode('utf-8'), bcrypt.gensalt()).decode('utf-8')\n",
    "\n",
    "def generate_user_data_corrected(id_users, id_companies, total_users=2000, n_empresas=839):\n",
    "    generated_cpfs = set()\n",
    "    user_data = []\n",
    "\n",
    "    cidadao_users_quant = int((total_users - n_empresas) * 0.9)\n",
    "\n",
    "    company_users_ids = list(range(1, n_empresas + 1))\n",
    "    cidadaos_ids = list(range(n_empresas+1, cidadao_users_quant+1))\n",
    "    servidores_ids = list(range(cidadao_users_quant+1, total_users))\n",
    "\n",
    "    for id_user in company_users_ids:\n",
    "        nome_usuario = fake.name()\n",
    "        tipo_usuario = 'empresa'\n",
    "        email = fake.company_email()\n",
    "        cpf_user = generate_cpf()\n",
    "\n",
    "        while cpf_user in generated_cpfs:\n",
    "            cpf_user = generate_cpf()\n",
    "        generated_cpfs.add(cpf_user)\n",
    "\n",
    "        user_data.append([\n",
    "            id_user,\n",
    "            nome_usuario,\n",
    "            tipo_usuario,\n",
    "            id_user, \n",
    "            email,\n",
    "            cpf_user,\n",
    "            fake.sha256()\n",
    "        ])\n",
    "\n",
    "    for id_user in cidadaos_ids:\n",
    "        nome_usuario = fake.name()\n",
    "        tipo_usuario = 'cidadao'\n",
    "        email = fake.email()\n",
    "        cpf_user = generate_cpf()\n",
    "\n",
    "        while cpf_user in generated_cpfs:\n",
    "            cpf_user = generate_cpf()\n",
    "        generated_cpfs.add(cpf_user)\n",
    "\n",
    "        pwd = hash_password(email) if id_user == 1000 else fake.sha256()\n",
    "\n",
    "        user_data.append([\n",
    "            id_user,\n",
    "            nome_usuario,\n",
    "            tipo_usuario,\n",
    "            None,\n",
    "            email,\n",
    "            cpf_user,\n",
    "            pwd\n",
    "        ])\n",
    "\n",
    "    for id_user in servidores_ids:\n",
    "        nome_usuario = fake.name()\n",
    "        tipo_usuario = 'servidor'\n",
    "        email = fake.user_name() + \"@consumidor.gov.br\"\n",
    "        cpf_user = generate_cpf()\n",
    "\n",
    "        while cpf_user in generated_cpfs:\n",
    "            cpf_user = generate_cpf()\n",
    "        generated_cpfs.add(cpf_user)\n",
    "\n",
    "        user_data.append([\n",
    "            id_user,\n",
    "            nome_usuario,\n",
    "            tipo_usuario,\n",
    "            None,\n",
    "            email,\n",
    "            cpf_user,\n",
    "            fake.sha256()\n",
    "        ])\n",
    "\n",
    "    dataframe = pd.DataFrame(user_data, columns=[\n",
    "        'id_user',\n",
    "        'name',\n",
    "        'user_type',\n",
    "        'id_company',\n",
    "        'email',\n",
    "        'cpf_user',\n",
    "        'password'\n",
    "    ])\n",
    "\n",
    "    return dataframe\n",
    "\n",
    "users = generate_user_data_corrected(\n",
    "    id_users=reports_table['id_user'].unique(), \n",
    "    id_companies=reports_table['id_company'].unique()\n",
    ")\n",
    "\n",
    "users.head()"
   ]
  },
  {
   "cell_type": "markdown",
   "id": "fe91c657",
   "metadata": {},
   "source": [
    "### **Empresas**"
   ]
  },
  {
   "cell_type": "code",
   "execution_count": 48,
   "id": "3b43b240",
   "metadata": {},
   "outputs": [],
   "source": [
    "companies = reports_table[['id_company', 'company_name']].drop_duplicates()"
   ]
  },
  {
   "cell_type": "code",
   "execution_count": 49,
   "id": "ddcc4014",
   "metadata": {},
   "outputs": [],
   "source": [
    "reports_table = reports_table.drop(columns=['company_name'])"
   ]
  },
  {
   "cell_type": "markdown",
   "id": "1ee0a2ef",
   "metadata": {},
   "source": [
    "### **Probabilidades**"
   ]
  },
  {
   "cell_type": "code",
   "execution_count": 50,
   "id": "388daca2",
   "metadata": {},
   "outputs": [],
   "source": [
    "src = 'src'\n",
    "models = 'models'\n",
    "models_ml = 'ml'\n",
    "ann_model_path = os.path.join(\n",
    "    root_path, \n",
    "    src,\n",
    "    models,\n",
    "    models_ml,\n",
    "    'ANN_model.keras'\n",
    ")"
   ]
  },
  {
   "cell_type": "code",
   "execution_count": 51,
   "id": "cfecbe0c",
   "metadata": {},
   "outputs": [],
   "source": [
    "from src.models.transformers.preprocessor import Preprocessor\n",
    "preprocessor = Preprocessor()"
   ]
  },
  {
   "cell_type": "code",
   "execution_count": 52,
   "id": "d43e60a4",
   "metadata": {},
   "outputs": [],
   "source": [
    "data = read_csv(ml_file_path, sep='|', encoding='utf-8', compression='gzip').dropna(subset=['clean_report'])"
   ]
  },
  {
   "cell_type": "code",
   "execution_count": 53,
   "id": "24b3fc7b",
   "metadata": {},
   "outputs": [],
   "source": [
    "data['id_report'] = reports_table['id_report']"
   ]
  },
  {
   "cell_type": "code",
   "execution_count": 54,
   "id": "44c05b88",
   "metadata": {},
   "outputs": [
    {
     "data": {
      "text/html": [
       "<pre style=\"white-space:pre;overflow-x:auto;line-height:normal;font-family:Menlo,'DejaVu Sans Mono',consolas,'Courier New',monospace\"><span style=\"font-weight: bold\">Model: \"sequential_2\"</span>\n",
       "</pre>\n"
      ],
      "text/plain": [
       "\u001b[1mModel: \"sequential_2\"\u001b[0m\n"
      ]
     },
     "metadata": {},
     "output_type": "display_data"
    },
    {
     "data": {
      "text/html": [
       "<pre style=\"white-space:pre;overflow-x:auto;line-height:normal;font-family:Menlo,'DejaVu Sans Mono',consolas,'Courier New',monospace\">┏━━━━━━━━━━━━━━━━━━━━━━━━━━━━━━━━━┳━━━━━━━━━━━━━━━━━━━━━━━━┳━━━━━━━━━━━━━━━┓\n",
       "┃<span style=\"font-weight: bold\"> Layer (type)                    </span>┃<span style=\"font-weight: bold\"> Output Shape           </span>┃<span style=\"font-weight: bold\">       Param # </span>┃\n",
       "┡━━━━━━━━━━━━━━━━━━━━━━━━━━━━━━━━━╇━━━━━━━━━━━━━━━━━━━━━━━━╇━━━━━━━━━━━━━━━┩\n",
       "│ dense_6 (<span style=\"color: #0087ff; text-decoration-color: #0087ff\">Dense</span>)                 │ (<span style=\"color: #00d7ff; text-decoration-color: #00d7ff\">None</span>, <span style=\"color: #00af00; text-decoration-color: #00af00\">64</span>)             │        <span style=\"color: #00af00; text-decoration-color: #00af00\">14,656</span> │\n",
       "├─────────────────────────────────┼────────────────────────┼───────────────┤\n",
       "│ dense_7 (<span style=\"color: #0087ff; text-decoration-color: #0087ff\">Dense</span>)                 │ (<span style=\"color: #00d7ff; text-decoration-color: #00d7ff\">None</span>, <span style=\"color: #00af00; text-decoration-color: #00af00\">32</span>)             │         <span style=\"color: #00af00; text-decoration-color: #00af00\">2,080</span> │\n",
       "├─────────────────────────────────┼────────────────────────┼───────────────┤\n",
       "│ dense_8 (<span style=\"color: #0087ff; text-decoration-color: #0087ff\">Dense</span>)                 │ (<span style=\"color: #00d7ff; text-decoration-color: #00d7ff\">None</span>, <span style=\"color: #00af00; text-decoration-color: #00af00\">1</span>)              │            <span style=\"color: #00af00; text-decoration-color: #00af00\">33</span> │\n",
       "└─────────────────────────────────┴────────────────────────┴───────────────┘\n",
       "</pre>\n"
      ],
      "text/plain": [
       "┏━━━━━━━━━━━━━━━━━━━━━━━━━━━━━━━━━┳━━━━━━━━━━━━━━━━━━━━━━━━┳━━━━━━━━━━━━━━━┓\n",
       "┃\u001b[1m \u001b[0m\u001b[1mLayer (type)                   \u001b[0m\u001b[1m \u001b[0m┃\u001b[1m \u001b[0m\u001b[1mOutput Shape          \u001b[0m\u001b[1m \u001b[0m┃\u001b[1m \u001b[0m\u001b[1m      Param #\u001b[0m\u001b[1m \u001b[0m┃\n",
       "┡━━━━━━━━━━━━━━━━━━━━━━━━━━━━━━━━━╇━━━━━━━━━━━━━━━━━━━━━━━━╇━━━━━━━━━━━━━━━┩\n",
       "│ dense_6 (\u001b[38;5;33mDense\u001b[0m)                 │ (\u001b[38;5;45mNone\u001b[0m, \u001b[38;5;34m64\u001b[0m)             │        \u001b[38;5;34m14,656\u001b[0m │\n",
       "├─────────────────────────────────┼────────────────────────┼───────────────┤\n",
       "│ dense_7 (\u001b[38;5;33mDense\u001b[0m)                 │ (\u001b[38;5;45mNone\u001b[0m, \u001b[38;5;34m32\u001b[0m)             │         \u001b[38;5;34m2,080\u001b[0m │\n",
       "├─────────────────────────────────┼────────────────────────┼───────────────┤\n",
       "│ dense_8 (\u001b[38;5;33mDense\u001b[0m)                 │ (\u001b[38;5;45mNone\u001b[0m, \u001b[38;5;34m1\u001b[0m)              │            \u001b[38;5;34m33\u001b[0m │\n",
       "└─────────────────────────────────┴────────────────────────┴───────────────┘\n"
      ]
     },
     "metadata": {},
     "output_type": "display_data"
    },
    {
     "data": {
      "text/html": [
       "<pre style=\"white-space:pre;overflow-x:auto;line-height:normal;font-family:Menlo,'DejaVu Sans Mono',consolas,'Courier New',monospace\"><span style=\"font-weight: bold\"> Total params: </span><span style=\"color: #00af00; text-decoration-color: #00af00\">50,309</span> (196.52 KB)\n",
       "</pre>\n"
      ],
      "text/plain": [
       "\u001b[1m Total params: \u001b[0m\u001b[38;5;34m50,309\u001b[0m (196.52 KB)\n"
      ]
     },
     "metadata": {},
     "output_type": "display_data"
    },
    {
     "data": {
      "text/html": [
       "<pre style=\"white-space:pre;overflow-x:auto;line-height:normal;font-family:Menlo,'DejaVu Sans Mono',consolas,'Courier New',monospace\"><span style=\"font-weight: bold\"> Trainable params: </span><span style=\"color: #00af00; text-decoration-color: #00af00\">16,769</span> (65.50 KB)\n",
       "</pre>\n"
      ],
      "text/plain": [
       "\u001b[1m Trainable params: \u001b[0m\u001b[38;5;34m16,769\u001b[0m (65.50 KB)\n"
      ]
     },
     "metadata": {},
     "output_type": "display_data"
    },
    {
     "data": {
      "text/html": [
       "<pre style=\"white-space:pre;overflow-x:auto;line-height:normal;font-family:Menlo,'DejaVu Sans Mono',consolas,'Courier New',monospace\"><span style=\"font-weight: bold\"> Non-trainable params: </span><span style=\"color: #00af00; text-decoration-color: #00af00\">0</span> (0.00 B)\n",
       "</pre>\n"
      ],
      "text/plain": [
       "\u001b[1m Non-trainable params: \u001b[0m\u001b[38;5;34m0\u001b[0m (0.00 B)\n"
      ]
     },
     "metadata": {},
     "output_type": "display_data"
    },
    {
     "data": {
      "text/html": [
       "<pre style=\"white-space:pre;overflow-x:auto;line-height:normal;font-family:Menlo,'DejaVu Sans Mono',consolas,'Courier New',monospace\"><span style=\"font-weight: bold\"> Optimizer params: </span><span style=\"color: #00af00; text-decoration-color: #00af00\">33,540</span> (131.02 KB)\n",
       "</pre>\n"
      ],
      "text/plain": [
       "\u001b[1m Optimizer params: \u001b[0m\u001b[38;5;34m33,540\u001b[0m (131.02 KB)\n"
      ]
     },
     "metadata": {},
     "output_type": "display_data"
    }
   ],
   "source": [
    "# load ann_model\n",
    "from tensorflow.keras.models import load_model\n",
    "from src.config import Config\n",
    "\n",
    "ann_model = load_model(Config().model_configs['ANN']['model_path'])\n",
    "ann_model.summary()"
   ]
  },
  {
   "cell_type": "code",
   "execution_count": 55,
   "id": "9d1049f9",
   "metadata": {},
   "outputs": [],
   "source": [
    "ids = data['id_report']\n",
    "X = data[data.columns.difference(['id_report', 'label'])]"
   ]
  },
  {
   "cell_type": "code",
   "execution_count": 56,
   "id": "cffc1904",
   "metadata": {},
   "outputs": [],
   "source": [
    "X_processed = preprocessor.transform(X)"
   ]
  },
  {
   "cell_type": "code",
   "execution_count": 57,
   "id": "ebc8e79b",
   "metadata": {},
   "outputs": [
    {
     "name": "stdout",
     "output_type": "stream",
     "text": [
      "\u001b[1m990/990\u001b[0m \u001b[32m━━━━━━━━━━━━━━━━━━━━\u001b[0m\u001b[37m\u001b[0m \u001b[1m2s\u001b[0m 1ms/step\n"
     ]
    }
   ],
   "source": [
    "probs = ann_model.predict(X_processed)\n",
    "preds = probs.flatten()\n"
   ]
  },
  {
   "cell_type": "code",
   "execution_count": 58,
   "id": "f0392038",
   "metadata": {},
   "outputs": [],
   "source": [
    "predictions = DataFrame({\n",
    "    'id_report': ids,\n",
    "    'prediction': preds\n",
    "})"
   ]
  },
  {
   "cell_type": "code",
   "execution_count": 59,
   "id": "83669e0f",
   "metadata": {},
   "outputs": [],
   "source": [
    "predictions['predicted_label'] = (predictions['prediction'] > 0.5).astype(int)"
   ]
  },
  {
   "cell_type": "code",
   "execution_count": 60,
   "id": "462dd62d",
   "metadata": {},
   "outputs": [],
   "source": [
    "predictions['true_label'] = data['label']"
   ]
  },
  {
   "cell_type": "code",
   "execution_count": 61,
   "id": "e95f6311",
   "metadata": {},
   "outputs": [
    {
     "data": {
      "text/html": [
       "<div>\n",
       "<style scoped>\n",
       "    .dataframe tbody tr th:only-of-type {\n",
       "        vertical-align: middle;\n",
       "    }\n",
       "\n",
       "    .dataframe tbody tr th {\n",
       "        vertical-align: top;\n",
       "    }\n",
       "\n",
       "    .dataframe thead th {\n",
       "        text-align: right;\n",
       "    }\n",
       "</style>\n",
       "<table border=\"1\" class=\"dataframe\">\n",
       "  <thead>\n",
       "    <tr style=\"text-align: right;\">\n",
       "      <th></th>\n",
       "      <th>id_report</th>\n",
       "      <th>prediction</th>\n",
       "      <th>predicted_label</th>\n",
       "      <th>true_label</th>\n",
       "    </tr>\n",
       "  </thead>\n",
       "  <tbody>\n",
       "    <tr>\n",
       "      <th>0</th>\n",
       "      <td>1.0</td>\n",
       "      <td>0.009227</td>\n",
       "      <td>0</td>\n",
       "      <td>0</td>\n",
       "    </tr>\n",
       "    <tr>\n",
       "      <th>1</th>\n",
       "      <td>2.0</td>\n",
       "      <td>0.001331</td>\n",
       "      <td>0</td>\n",
       "      <td>0</td>\n",
       "    </tr>\n",
       "    <tr>\n",
       "      <th>2</th>\n",
       "      <td>3.0</td>\n",
       "      <td>0.000943</td>\n",
       "      <td>0</td>\n",
       "      <td>1</td>\n",
       "    </tr>\n",
       "    <tr>\n",
       "      <th>3</th>\n",
       "      <td>4.0</td>\n",
       "      <td>0.108487</td>\n",
       "      <td>0</td>\n",
       "      <td>0</td>\n",
       "    </tr>\n",
       "    <tr>\n",
       "      <th>4</th>\n",
       "      <td>5.0</td>\n",
       "      <td>0.007019</td>\n",
       "      <td>0</td>\n",
       "      <td>1</td>\n",
       "    </tr>\n",
       "  </tbody>\n",
       "</table>\n",
       "</div>"
      ],
      "text/plain": [
       "   id_report  prediction  predicted_label  true_label\n",
       "0        1.0    0.009227                0           0\n",
       "1        2.0    0.001331                0           0\n",
       "2        3.0    0.000943                0           1\n",
       "3        4.0    0.108487                0           0\n",
       "4        5.0    0.007019                0           1"
      ]
     },
     "execution_count": 61,
     "metadata": {},
     "output_type": "execute_result"
    }
   ],
   "source": [
    "predictions.head()"
   ]
  },
  {
   "cell_type": "markdown",
   "id": "c1aa1435",
   "metadata": {},
   "source": [
    "### **Criando Banco de Dados**"
   ]
  },
  {
   "cell_type": "code",
   "execution_count": 62,
   "id": "13cf1d6c",
   "metadata": {},
   "outputs": [],
   "source": [
    "tables = [\n",
    "    ('reports', reports_table),\n",
    "    ('users', users),\n",
    "    ('companies', companies),\n",
    "    ('predicitons', predictions)\n",
    "]"
   ]
  },
  {
   "cell_type": "code",
   "execution_count": 63,
   "id": "733b112d",
   "metadata": {},
   "outputs": [],
   "source": [
    "src = 'src'\n",
    "backend = 'backend'\n",
    "database_dir = 'database'\n",
    "database_name = 'consumidor_gov_brasil.db'\n",
    "database_path = os.path.join(root_path, src, backend, database_dir, database_name)"
   ]
  },
  {
   "cell_type": "code",
   "execution_count": 64,
   "id": "3b17d56c",
   "metadata": {},
   "outputs": [],
   "source": [
    "from tinydb import TinyDB"
   ]
  },
  {
   "cell_type": "code",
   "execution_count": 65,
   "id": "6e62d58e",
   "metadata": {},
   "outputs": [],
   "source": [
    "db = TinyDB(database_path, create_dirs=True)\n",
    "\n",
    "db.drop_tables()\n",
    "\n",
    "for table_name, df in tables:\n",
    "    table = db.table(table_name)\n",
    "    records = df.to_dict(orient='records')\n",
    "    table.insert_multiple(records)"
   ]
  },
  {
   "cell_type": "code",
   "execution_count": 66,
   "id": "695a273e",
   "metadata": {},
   "outputs": [
    {
     "name": "stdout",
     "output_type": "stream",
     "text": [
      "Table: reports\n",
      "{'status': 'Não Resolvido', 'date': '25/04/2025, Santa Maria - RS', 'report': 'Solicito a imediata retirada da negativação indevida referente a dívida prescrita, com mais de 5 anos, registrada de forma ilegal no Serasa. Caso não seja retirada, tomarei as medidas judiciais cabíveis, inclusive pedido de indenização por danos morais.', 'company_response': 'Oi, FLAVIA. Tudo bem?\\r\\n\\r\\n\\r\\nAcabamos de responder a sua solicitação. Por favor, acesse o campo \"Complemento da Reclamação\" e confira a resposta.\\r\\n\\r\\n\\r\\nConte com o nosso apoio.\\r\\n\\r\\n\\r\\nEquipe Serasa Experian.', 'response_date': '(no mesmo dia)', 'rating_score': 'Nota 2', 'consumer_written_evaluation': '<não há comentários do consumidor>', 'id_company': 695, 'id_user': 651, 'id_report': 1}\n",
      "{'status': 'Não Resolvido', 'date': '25/04/2025, Santa Tereza do Oeste - PR', 'report': '“Solicito a retirada imediata da dívida prescrita que ainda consta no meu nome no Serasa/SPC. A manutenção dessa informação fere o CDC (art. 43, §1º) e a Súmula 13 do STJ. Caso não resolvido, tomarei providências judiciais.”', 'company_response': 'Oi, KARINA. Tudo bem?\\r\\n\\r\\n\\r\\nAcabamos de responder a sua solicitação. Por favor, acesse o campo \"Complemento da Reclamação\" e confira a resposta.\\r\\n\\r\\n\\r\\nConte com o nosso apoio.\\r\\n\\r\\n\\r\\nEquipe Serasa Experian.', 'response_date': '(no mesmo dia)', 'rating_score': 'Nota 1', 'consumer_written_evaluation': '<não há comentários do consumidor>', 'id_company': 695, 'id_user': 105, 'id_report': 2}\n",
      "{'status': 'Resolvido', 'date': '25/04/2025, Manaus - AM', 'report': 'Solicito a imediata retirada da negativacão indevida referente à dívida prescrita, com mais de 5 anos,registrada de forma ilegal no serasa. Caso não seja retirada,tomarei as medidas judiciais cabíveis,inclusive pedido de indenização por danos morais.', 'company_response': 'Oi, EMERSON. Tudo bem?\\r\\n\\r\\n\\r\\nAcabamos de responder a sua solicitação. Por favor, acesse o campo \"Complemento da Reclamação\" e confira a resposta.\\r\\n\\r\\n\\r\\nConte com o nosso apoio.\\r\\n\\r\\n\\r\\nEquipe Serasa Experian.', 'response_date': '(no mesmo dia)', 'rating_score': 'Nota 1', 'consumer_written_evaluation': '<não há comentários do consumidor>', 'id_company': 695, 'id_user': 271, 'id_report': 3}\n",
      "{'status': 'Não Resolvido', 'date': '25/04/2025, Macapá - AP', 'report': 'Solicito a retirada imediata de cobrança de dívidas com mais de cinco anos em meu nome.\\r\\nCaso não seja retirada tomarei medidas cabíveis  na justiça.inclusive entrarei com pedido de indenização perante a justiça!', 'company_response': 'Oi, Washington. Tudo bem?\\r\\n\\r\\n\\r\\nAcabamos de responder a sua solicitação. Por favor, acesse o campo \"Complemento da Reclamação\" e confira a resposta.\\r\\n\\r\\n\\r\\nConte com o nosso apoio.\\r\\n\\r\\n\\r\\nEquipe Serasa Experian.', 'response_date': '(no mesmo dia)', 'rating_score': 'Nota 3', 'consumer_written_evaluation': '<não há comentários do consumidor>', 'id_company': 695, 'id_user': 468, 'id_report': 4}\n",
      "{'status': 'Resolvido', 'date': '25/04/2025, Rio Grande da Serra - SP', 'report': 'Realizei o pagamento de um acordo para quitar uma dívida com desconto porém meu nome continua no REGISTRATO e isso está prejudicando o meu crédito. A dívida já foi paga e por isso não pode seguir me negativando pois isso viola o código de defesa do consumidor.', 'company_response': 'Olá, tudo bem?\\r\\n\\r\\nInformamos que sua manifestação foi respondida. \\r\\nPedimos que verifique o retorno em “detalhes” e em caso de dúvidas você pode nos enviar uma interação através desta demanda que iremos avaliar e responder o mais breve possível.\\r\\n\\r\\nAgradecemos pela sua confiança e parceria.\\r\\n\\r\\nAtenciosamente,\\r\\nEquipe Relacionamento Lojas Renner | Consumidor.gov', 'response_date': '(no mesmo dia)', 'rating_score': 'Nota 1', 'consumer_written_evaluation': '<não há comentários do consumidor>', 'id_company': 219, 'id_user': 1929, 'id_report': 5}\n",
      "\n",
      "\n",
      "Table: users\n",
      "{'id_user': 1, 'name': 'Srta. Maria Alice da Rosa', 'user_type': 'empresa', 'id_company': 1.0, 'email': 'laura94@da.net', 'cpf_user': '98276959245', 'password': '00f40ae85b2c618306467664c45f89fc4413f099a24c25ce02b99961dacc9ef9'}\n",
      "{'id_user': 2, 'name': 'Maria Luiza Farias', 'user_type': 'empresa', 'id_company': 2.0, 'email': 'heitor39@pires.com', 'cpf_user': '34432131209', 'password': '36fc3b82554c0fee73eb6fc8edb26a2c7c9af1f75f91e93740f5c16fae9bf774'}\n",
      "{'id_user': 3, 'name': 'Joana Duarte', 'user_type': 'empresa', 'id_company': 3.0, 'email': 'duartegabriela@cavalcanti.br', 'cpf_user': '17080726085', 'password': 'c682e3e43c9917c263f0a5afdcd4a36dfb424004cffceeab9359782c38974c60'}\n",
      "{'id_user': 4, 'name': 'Maria Vitória Barros', 'user_type': 'empresa', 'id_company': 4.0, 'email': 'brunavieira@teixeira.net', 'cpf_user': '89016025391', 'password': 'c9ec6daa7e5a1ff9755013a03582c1009f057824cea2abaa969c9df82f087458'}\n",
      "{'id_user': 5, 'name': 'Maria Alice Carvalho', 'user_type': 'empresa', 'id_company': 5.0, 'email': 'salesbenjamin@duarte.br', 'cpf_user': '77123581687', 'password': '7a284893764e6bf38c032c443f25614bc0edace59fffb63b3412d35ed2b98cd9'}\n",
      "\n",
      "\n",
      "Table: predicitons\n",
      "{'id_report': 1.0, 'prediction': 0.009227330796420574, 'predicted_label': 0, 'true_label': 0}\n",
      "{'id_report': 2.0, 'prediction': 0.001330926432274282, 'predicted_label': 0, 'true_label': 0}\n",
      "{'id_report': 3.0, 'prediction': 0.0009428024059161544, 'predicted_label': 0, 'true_label': 1}\n",
      "{'id_report': 4.0, 'prediction': 0.10848728567361832, 'predicted_label': 0, 'true_label': 0}\n",
      "{'id_report': 5.0, 'prediction': 0.007018773816525936, 'predicted_label': 0, 'true_label': 1}\n",
      "\n",
      "\n",
      "Table: companies\n",
      "{'id_company': 695, 'company_name': 'Serasa Experian'}\n",
      "{'id_company': 219, 'company_name': 'Cartões Renner (Realize CFI)'}\n",
      "{'id_company': 679, 'company_name': 'Samsung - Loja Online'}\n",
      "{'id_company': 319, 'company_name': 'EDP Espírito Santo'}\n",
      "{'id_company': 52, 'company_name': 'Asbapi - Associação Brasileira de Aposentados, Pensionistas e Idosos'}\n",
      "\n",
      "\n"
     ]
    }
   ],
   "source": [
    "for table in db.tables():\n",
    "    print(f'Table: {table}')\n",
    "    for record in db.table(table).all()[:5]:\n",
    "        print(record)\n",
    "    print('\\n')"
   ]
  },
  {
   "cell_type": "markdown",
   "id": "5085b971",
   "metadata": {},
   "source": [
    "Usuário Cidadão de Teste:\n",
    "- email: tda-luz@example.org\n",
    "- senha: tda-luz@example.org"
   ]
  },
  {
   "cell_type": "code",
   "execution_count": 75,
   "id": "c76a9380",
   "metadata": {},
   "outputs": [],
   "source": [
    "reports = db.table('reports')\n",
    "reports_saple = reports.all()[0]"
   ]
  },
  {
   "cell_type": "code",
   "execution_count": 76,
   "id": "ae4ab955",
   "metadata": {},
   "outputs": [
    {
     "data": {
      "text/plain": [
       "{'status': 'Não Resolvido',\n",
       " 'date': '25/04/2025, Santa Maria - RS',\n",
       " 'report': 'Solicito a imediata retirada da negativação indevida referente a dívida prescrita, com mais de 5 anos, registrada de forma ilegal no Serasa. Caso não seja retirada, tomarei as medidas judiciais cabíveis, inclusive pedido de indenização por danos morais.',\n",
       " 'company_response': 'Oi, FLAVIA. Tudo bem?\\r\\n\\r\\n\\r\\nAcabamos de responder a sua solicitação. Por favor, acesse o campo \"Complemento da Reclamação\" e confira a resposta.\\r\\n\\r\\n\\r\\nConte com o nosso apoio.\\r\\n\\r\\n\\r\\nEquipe Serasa Experian.',\n",
       " 'response_date': '(no mesmo dia)',\n",
       " 'rating_score': 'Nota 2',\n",
       " 'consumer_written_evaluation': '<não há comentários do consumidor>',\n",
       " 'id_company': 695,\n",
       " 'id_user': 651,\n",
       " 'id_report': 1}"
      ]
     },
     "execution_count": 76,
     "metadata": {},
     "output_type": "execute_result"
    }
   ],
   "source": [
    "reports_saple"
   ]
  },
  {
   "cell_type": "code",
   "execution_count": null,
   "id": "632baf02",
   "metadata": {},
   "outputs": [],
   "source": []
  }
 ],
 "metadata": {
  "kernelspec": {
   "display_name": "Python 3",
   "language": "python",
   "name": "python3"
  },
  "language_info": {
   "codemirror_mode": {
    "name": "ipython",
    "version": 3
   },
   "file_extension": ".py",
   "mimetype": "text/x-python",
   "name": "python",
   "nbconvert_exporter": "python",
   "pygments_lexer": "ipython3",
   "version": "3.11.9"
  }
 },
 "nbformat": 4,
 "nbformat_minor": 5
}
