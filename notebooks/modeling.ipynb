{
 "cells": [
  {
   "cell_type": "code",
   "execution_count": 1,
   "id": "04dc89e2",
   "metadata": {},
   "outputs": [],
   "source": [
    "import sys\n",
    "import os\n",
    "\n",
    "# Adiciona o diretório raiz do projeto ao sys.path\n",
    "sys.path.append(os.path.abspath(os.path.join(os.getcwd(), '..')))"
   ]
  },
  {
   "cell_type": "markdown",
   "id": "5714f1f6",
   "metadata": {},
   "source": [
    "# **Modelagem**\n",
    "\n",
    "Neste notebook constam todos os trabalhos de preparação de dados e modelagem com o objetivo de desenvolver o modelo final, com o mais performático.\n",
    "\n",
    "### **Dados**\n",
    "\n",
    "|    | label | clean_response                                                                                                                                                                                                                      | clean_report                                                                                                                                                                                           | nota_logit | nota_tree | consumidor_respondeu | dias_para_resposta | respondido | uf |\n",
    "|----|-------|-----------------------------------------------------------------------------------------------------------------------------------------------------------------------------------------------|--------------------------------------------------------------------------------------------------------------------------------------------------------------------------------------------------------|------------|-----------|-----------------------|---------------------|-------------|----|\n",
    "\n",
    "Aonde:\n",
    "- ``label``: Indica se a reclamação foi resolvida ou não. (1 - Resolvido / 0 - Não Resolvido) - **Alvo**.\n",
    "- ``clean_response``: Texto limpo da resposta da empresa à reclamação.\n",
    "- ``clean_report``: Reclamação do consumidor.\n",
    "- ``nota_logit``: Nota da reclamação no formato adequado para modelos vetoriais.\n",
    "- ``nota_tree``: Nota da reclamação no formato adequado para modelos baseados em árvore.\n",
    "- ``consumidor_respondeu``: Indica se o consumidor respondeu à resposta da empresa.\n",
    "- ``dias_para_resposta``: Indica quantos dias a empresa levou para responder.\n",
    "- ``respondido``: Indica se a empresa respondeu.\n",
    "- ``uf``: Estado do consumidor.\n",
    "\n",
    "### **Objetivo**\n",
    "\n",
    "Desenvolver um modelo de Machine Learning para classificar e calcular a probabilidade de uma reclamação ser resolvida ou não a partir desses dados.\n",
    "\n",
    "Modelos a testar:\n",
    "- ANN (Redes Neurais Artificiais)\n",
    "- Regressão Logística\n"
   ]
  },
  {
   "cell_type": "markdown",
   "id": "3c988039",
   "metadata": {},
   "source": [
    "---"
   ]
  },
  {
   "cell_type": "markdown",
   "id": "7b6a0b4b",
   "metadata": {},
   "source": [
    "### **Preparação de Ambiente**"
   ]
  },
  {
   "cell_type": "code",
   "execution_count": 2,
   "id": "b45e4d02",
   "metadata": {},
   "outputs": [],
   "source": [
    "# Import modules\n",
    "from pandas import read_csv\n",
    "import os"
   ]
  },
  {
   "cell_type": "code",
   "execution_count": 3,
   "id": "36cf7ca7",
   "metadata": {},
   "outputs": [],
   "source": [
    "# Env vars\n",
    "data_dir = 'data'\n",
    "ml_dir = 'ml'\n",
    "file_name = 'consumidor_gov_brasil_ml.csv'\n",
    "# Project root path\n",
    "root_path = os.path.dirname(os.getcwd())\n",
    "# Full paths\n",
    "data_path = os.path.join(root_path, data_dir, ml_dir)\n",
    "file_path = os.path.join(data_path, file_name)"
   ]
  },
  {
   "cell_type": "code",
   "execution_count": 6,
   "id": "3f2e71f1",
   "metadata": {},
   "outputs": [
    {
     "data": {
      "text/plain": [
       "{'label': {0: 0},\n",
       " 'clean_response': {0: 'flavia tudo bem acabamos responder solicitação favor acesse campo complemento reclamação confira resposta conte apoio equipe serasa experian'},\n",
       " 'clean_report': {0: 'solicito imediata retirada negativação indevida referente dívida prescrita anos registrada forma ilegal serasa caso retirada tomarei medidas judiciais cabíveis inclusive pedido indenização danos morais'},\n",
       " 'nota_logit': {0: 2},\n",
       " 'nota_tree': {0: 2.0},\n",
       " 'consumidor_respondeu': {0: True},\n",
       " 'dias_para_resposta': {0: 0},\n",
       " 'respondido': {0: 1},\n",
       " 'uf': {0: 'RS'}}"
      ]
     },
     "execution_count": 6,
     "metadata": {},
     "output_type": "execute_result"
    }
   ],
   "source": [
    "data = read_csv(file_path, sep='|', encoding='utf-8', compression='gzip').dropna(subset=['clean_report'])\n",
    "data.head()"
   ]
  },
  {
   "cell_type": "code",
   "execution_count": 19,
   "id": "e842224b",
   "metadata": {},
   "outputs": [],
   "source": [
    "\"\"\" Import Modules \"\"\"\n",
    "import os\n",
    "# Data Manipulation\n",
    "from pandas import read_csv\n",
    "import numpy as np\n",
    "# Text Processing\n",
    "import re\n",
    "import unicodedata\n",
    "import nltk\n",
    "from nltk.corpus import stopwords\n",
    "import gensim\n",
    "# Machine Learning\n",
    "from sklearn.preprocessing import OneHotEncoder, StandardScaler\n",
    "from sklearn.base import BaseEstimator, TransformerMixin\n",
    "from sklearn.feature_extraction.text import TfidfVectorizer\n",
    "from sklearn.pipeline import Pipeline\n",
    "from sklearn.compose import ColumnTransformer\n",
    "from sklearn.model_selection import train_test_split\n",
    "from sklearn.metrics import accuracy_score\n",
    "from sklearn.metrics import classification_report\n",
    "# Deep Learning\n",
    "import tensorflow as tf\n",
    "from tensorflow.keras.models import Sequential\n",
    "from tensorflow.keras.layers import Dense, InputLayer, Dropout\n",
    "from tensorflow.keras.regularizers import l2\n",
    "from tensorflow.keras.callbacks import EarlyStopping\n",
    "from tensorflow.keras.optimizers import Adam\n"
   ]
  },
  {
   "cell_type": "code",
   "execution_count": 69,
   "id": "198e2ff6",
   "metadata": {},
   "outputs": [
    {
     "name": "stderr",
     "output_type": "stream",
     "text": [
      "[nltk_data] Downloading package stopwords to\n",
      "[nltk_data]     C:\\Users\\user/nltk_data...\n",
      "[nltk_data]   Package stopwords is already up-to-date!\n",
      "[nltk_data] Downloading package punkt to C:\\Users\\user/nltk_data...\n",
      "[nltk_data]   Package punkt is already up-to-date!\n"
     ]
    }
   ],
   "source": [
    "# Downloading resources\n",
    "nltk.download('stopwords')\n",
    "nltk.download('punkt')\n",
    "\n",
    "stop_words = set(stopwords.words('portuguese'))"
   ]
  },
  {
   "cell_type": "markdown",
   "id": "04877d9d",
   "metadata": {},
   "source": [
    "---"
   ]
  },
  {
   "cell_type": "markdown",
   "id": "3617a410",
   "metadata": {},
   "source": [
    "### **Tratamento Textual:**\n",
    "\n",
    "1. Remoção de **acentos e caracteres especiais**  \n",
    "2. Remoção de **stopwords**  \n",
    "3. **Tokenização**  \n",
    "4. **Lematização**  \n",
    "5. **Vetorização** utilizando `Word2Vec`"
   ]
  },
  {
   "cell_type": "markdown",
   "id": "a198a966",
   "metadata": {},
   "source": [
    "---\n",
    "\n",
    "### **Word2Vec – Representação Vetorial de Palavras**\n",
    "\n",
    "É uma técnica de **aprendizado não supervisionado** que transforma palavras em **vetores numéricos densos**, capturando **significados semânticos** e **relações contextuais**.\n",
    "Diferente do TF-IDF, que é baseado em contagem, o Word2Vec aprende a **representar palavras próximas em contexto com vetores próximos no espaço vetorial**.\n",
    "\n",
    "---\n",
    "\n",
    "### **Como funciona?**\n",
    "\n",
    "Baseia-se em uma **rede neural simples** com uma única camada oculta. Existem dois modelos principais:\n",
    "\n",
    "#### 1. **CBOW (Continuous Bag of Words)**\n",
    "\n",
    "Prediz a palavra alvo a partir do **contexto** (palavras vizinhas).\n",
    "\n",
    "Exemplo:\n",
    "Para a frase \"o gato sentou no tapete\", o CBOW tenta prever `\"sentou\"` usando `\"o\"`, `\"gato\"`, `\"no\"`, `\"tapete\"`.\n",
    "\n",
    "#### 2. **Skip-gram**\n",
    "\n",
    "Faz o oposto: dado uma palavra, tenta prever as **palavras do contexto**.\n",
    "\n",
    "Exemplo:\n",
    "Dado `\"sentou\"`, tenta prever `\"o\"`, `\"gato\"`, `\"no\"`, `\"tapete\"`.\n",
    "\n",
    "---\n",
    "\n",
    "### **Objetivo de treinamento**:\n",
    "\n",
    "A rede é treinada para **maximizar a probabilidade de prever palavras corretas do contexto**.\n",
    "Após o treinamento, a camada oculta da rede armazena os **vetores de palavras**.\n",
    "\n",
    "---\n",
    "\n",
    "### **Propriedades úteis**:\n",
    "\n",
    "* Palavras com **significados semelhantes** têm vetores **semelhantes** (pequena distância euclidiana ou alto cosseno de similaridade).\n",
    "* Capaz de capturar **relações semânticas e sintáticas**:\n",
    "\n",
    "  Exemplo clássico:\n",
    "\n",
    "  ```\n",
    "  vetor(\"rei\") - vetor(\"homem\") + vetor(\"mulher\") ≈ vetor(\"rainha\")\n",
    "  ```\n"
   ]
  },
  {
   "cell_type": "code",
   "execution_count": 70,
   "id": "21c56061",
   "metadata": {},
   "outputs": [],
   "source": [
    "class TextCleaner(BaseEstimator, TransformerMixin):\n",
    "    \"\"\"Custom transformer to clean and preprocess text data.\"\"\"\n",
    "    \n",
    "    def __init__(self, remove_accents=False):\n",
    "        self.remove_accents = remove_accents\n",
    "\n",
    "    def clean_text(self, text: str) -> str:\n",
    "        \"\"\"Removes unwanted characters and normalizes the text.\"\"\"\n",
    "        text = text.lower()\n",
    "        text = text.replace('\\n', ' ')\n",
    "        text = re.sub(r'[^a-záàâãéèêíïóôõöúçñü\\s]', '', text, flags=re.IGNORECASE)\n",
    "        if self.remove_accents:\n",
    "            text = unicodedata.normalize('NFKD', text).encode('ASCII', 'ignore').decode('utf-8')\n",
    "            text = re.sub(r'[^a-z\\s]', '', text)\n",
    "        return text\n",
    "\n",
    "    def preprocess_text(self, text: str) -> str:\n",
    "        \"\"\"Preprocesses the text by removing stop words and cleaning.\"\"\"\n",
    "        clean_text = self.clean_text(text)\n",
    "        tokens = [word for word in clean_text.split() if word not in stop_words]\n",
    "        return ' '.join(tokens)\n",
    "\n",
    "    def fit(self, X, y=None) -> 'TextCleaner':\n",
    "        return self\n",
    "\n",
    "    def transform(self, X) -> list:\n",
    "        return [self.preprocess_text(text) for text in X]"
   ]
  },
  {
   "cell_type": "code",
   "execution_count": 71,
   "id": "b53cf0e1",
   "metadata": {},
   "outputs": [],
   "source": [
    "class Word2VecProcessor:\n",
    "    \n",
    "    def __init__(self, word2vec_model):\n",
    "        \"\"\"Initializes the processor with the Word2Vec model.\"\"\"\n",
    "        self.word2vec_model = word2vec_model\n",
    "\n",
    "    def tokenize(self, text):\n",
    "        \"\"\"Tokenizes the text, keeping only alphabetic words.\"\"\"\n",
    "        return [word for word in text.split() if word.isalpha()]\n",
    "\n",
    "    def get_word2vec_vector(self, tokens):\n",
    "        \"\"\"Generates the average Word2Vec vector for a list of tokens.\"\"\"\n",
    "        vec = np.zeros(self.word2vec_model.vector_size)\n",
    "        count = 0\n",
    "        for word in tokens:\n",
    "            if word in self.word2vec_model.wv:\n",
    "                vec += self.word2vec_model.wv[word]\n",
    "                count += 1\n",
    "        if count > 0:\n",
    "            vec /= count\n",
    "        return vec\n",
    "\n",
    "class Word2VecVectorizer(BaseEstimator, TransformerMixin):\n",
    "    def __init__(self, word2vec_model):\n",
    "        self.word2vec_model = word2vec_model\n",
    "        self.word2vec_processor = Word2VecProcessor(word2vec_model)\n",
    "\n",
    "    def fit(self, X, y=None):\n",
    "        \"\"\"Fit method, required for scikit-learn compatibility.\"\"\"\n",
    "        return self\n",
    "\n",
    "    def transform(self, X):\n",
    "        \"\"\"Transforms texts into average Word2Vec vectors.\"\"\"\n",
    "        return np.array([\n",
    "            self.word2vec_processor.get_word2vec_vector(\n",
    "                self.word2vec_processor.tokenize(text)\n",
    "            ) for text in X\n",
    "        ])"
   ]
  },
  {
   "cell_type": "code",
   "execution_count": 72,
   "id": "69d48517",
   "metadata": {},
   "outputs": [],
   "source": [
    "# Word2Vec Model\n",
    "w2vec_processor = Word2VecProcessor(word2vec_model=None)\n",
    "# Tokenize the reports and responses\n",
    "tokenized_reports = data['clean_report'].apply(w2vec_processor.tokenize)\n",
    "tokenized_responses = data['clean_response'].apply(w2vec_processor.tokenize)\n",
    "# Combine tokenized reports and responses for Word2Vec training\n",
    "corpus = tokenized_reports.tolist() + tokenized_responses.tolist()\n",
    "word2vec_model = gensim.models.Word2Vec(sentences=corpus, vector_size=100, window=5, min_count=2, workers=4)\n",
    "\n",
    "w2vec_processor.word2vec_model = word2vec_model"
   ]
  },
  {
   "cell_type": "code",
   "execution_count": 73,
   "id": "041cfbe7",
   "metadata": {},
   "outputs": [],
   "source": [
    "word2vec_model.save(r\"C:\\Users\\user\\Desktop\\UFPB\\5-Periodo\\ML\\Projeto\\consumidor_gov\\src\\models\\ml\\word2vec.model\")"
   ]
  },
  {
   "cell_type": "code",
   "execution_count": 74,
   "id": "897374fa",
   "metadata": {},
   "outputs": [],
   "source": [
    "# TF-IDF Pipeline\n",
    "\"\"\"\n",
    "pipeline_tfidf = Pipeline([\n",
    "    ('preprocessador', TextCleaner(remove_accents=False)),\n",
    "    ('vetorizador', TfidfVectorizer(max_features=5000, max_df=0.9, min_df=5))\n",
    "])\n",
    "\"\"\"\n",
    "\n",
    "# Word2Vec Pipeline\n",
    "pipeline_w2v = Pipeline([\n",
    "    ('preprocessador', TextCleaner(remove_accents=False)),\n",
    "    ('vetorizador', Word2VecVectorizer(word2vec_model=word2vec_model))\n",
    "])"
   ]
  },
  {
   "cell_type": "markdown",
   "id": "8c71bcd8",
   "metadata": {},
   "source": [
    "Aqui, além da pipeline do Word2Vec, também aplico 2 técnicas de normalização de dados:\n",
    "\n",
    "- **StandardScaler** (Padronização): padroniza as variáveis numéricas, transformando os dados para que tenham **média 0** e **desvio padrão 1**.\n",
    "\n",
    "- **OneHotEncoder** (Codificação One-Hot): transforma variáveis categóricas em vetores binários, criando uma nova coluna para cada categoria distinta.\n"
   ]
  },
  {
   "cell_type": "code",
   "execution_count": 75,
   "id": "877fffc0",
   "metadata": {},
   "outputs": [],
   "source": [
    "# Colocando os pipelines em um ColumnTransformer\n",
    "num_cols = ['nota_logit']\n",
    "cat_cols = ['uf']\n",
    "\n",
    "preprocessor = ColumnTransformer(\n",
    "    transformers=[\n",
    "        #('tfidf_report', pipeline_tfidf, 'clean_report'),\n",
    "        #('tfidf_response', pipeline_tfidf, 'clean_response'),\n",
    "        ('w2v_report', pipeline_w2v, 'clean_report'),\n",
    "        ('w2v_response', pipeline_w2v, 'clean_response'),\n",
    "        ('num', StandardScaler(), num_cols),\n",
    "        ('cat', OneHotEncoder(handle_unknown='ignore'), cat_cols)\n",
    "    ]\n",
    ")"
   ]
  },
  {
   "cell_type": "markdown",
   "id": "6676c448",
   "metadata": {},
   "source": [
    "### **Separação de Variáveis**\n",
    "\n",
    "Aqui, separo as variáveis preditoras da alvo."
   ]
  },
  {
   "cell_type": "code",
   "execution_count": 76,
   "id": "c49eea6a",
   "metadata": {},
   "outputs": [],
   "source": [
    "from src.models.transformers.preprocessor import Preprocessor\n",
    "preprocessor = Preprocessor()\n",
    "\n",
    "# Target var\n",
    "Y = 'label'\n",
    "# Predictive vars\n",
    "X = data.columns.difference([Y, 'nota_tree'])\n",
    "\n",
    "labels = data[Y].values \n",
    "# Processing data\n",
    "processed_data = preprocessor.fit_transform(data[X])"
   ]
  },
  {
   "cell_type": "code",
   "execution_count": 77,
   "id": "7d2fbbfb",
   "metadata": {},
   "outputs": [
    {
     "data": {
      "text/plain": [
       "Index(['clean_report', 'clean_response', 'consumidor_respondeu',\n",
       "       'dias_para_resposta', 'nota_logit', 'respondido', 'uf'],\n",
       "      dtype='object')"
      ]
     },
     "execution_count": 77,
     "metadata": {},
     "output_type": "execute_result"
    }
   ],
   "source": [
    "X"
   ]
  },
  {
   "cell_type": "markdown",
   "id": "59f6b11e",
   "metadata": {},
   "source": [
    "### **Separação de Treino x Teste**\n",
    "\n",
    "- **`test_size=0.2`**: Define a proporção dos dados que será destinada ao conjunto de teste. Neste caso, 20% dos dados são usados para teste e 80% para treinamento.\n",
    "  \n",
    "- **`stratify=labels`**: Garante que a divisão dos dados mantenha a distribuição das classes (labels) em ambos os conjuntos de treino e teste. Isso é importante, principalmente em problemas de classificação desbalanceada, onde algumas classes podem ser muito mais frequentes que outras.\n",
    "  \n",
    "- **`random_state=42`**: Define a semente (seed) do gerador de números aleatórios para que a divisão seja reprodutível. Isso significa que, ao rodar o código várias vezes, os dados serão divididos da mesma maneira cada vez."
   ]
  },
  {
   "cell_type": "code",
   "execution_count": 78,
   "id": "0737253c",
   "metadata": {},
   "outputs": [],
   "source": [
    "# Data split\n",
    "X_train, X_test, y_train, y_test = train_test_split(\n",
    "    processed_data,\n",
    "    labels,\n",
    "    test_size=0.2,        \n",
    "    stratify=labels,      \n",
    "    random_state=42   \n",
    ")"
   ]
  },
  {
   "cell_type": "markdown",
   "id": "a9f4188f",
   "metadata": {},
   "source": [
    "### **Modelagem**\n",
    "\n",
    "Aqui, inicio a parte da modelagem preditiva, primeiramente por um modelo de Rede Neural Artificial, da lib `keras`. "
   ]
  },
  {
   "cell_type": "code",
   "execution_count": 79,
   "id": "bae09a4f",
   "metadata": {},
   "outputs": [],
   "source": [
    "# Base model\n",
    "model = Sequential()"
   ]
  },
  {
   "cell_type": "markdown",
   "id": "cd8e0d97",
   "metadata": {},
   "source": [
    "#### **Hiperparâmetros**\n",
    "\n",
    "- `InputLayer`: Camada de entrada, com a quantidade de _perceptrons_ correspondente a quantidade de features.\n",
    "\n",
    "- `Dense`: Camada profunda. 1 camada com 64 _perceptrons_ e mais uma com 32.\n",
    "\n",
    "- `activation`: Função de ativação de cada _perceptron_ da camada profunda. A camada de saída possui apenas 1 _perceptron_ e função sigmoide, por ser classificação binária."
   ]
  },
  {
   "cell_type": "code",
   "execution_count": 80,
   "id": "8213c449",
   "metadata": {},
   "outputs": [],
   "source": [
    "# Entry layer\n",
    "model.add(InputLayer(shape=(processed_data.shape[1],))) \n",
    "# Deep layers\n",
    "model.add(Dense(64, activation='relu'))\n",
    "model.add(Dense(32, activation='relu'))\n",
    "# Exiting layer\n",
    "model.add(Dense(1, activation='sigmoid'))"
   ]
  },
  {
   "cell_type": "code",
   "execution_count": 81,
   "id": "2d6c92b4",
   "metadata": {},
   "outputs": [],
   "source": [
    "# Compile\n",
    "model.compile(optimizer='adam', loss='binary_crossentropy', metrics=['accuracy'])"
   ]
  },
  {
   "cell_type": "markdown",
   "id": "5b9aba8e",
   "metadata": {},
   "source": [
    "#### **Callback**\n",
    "Um callback é uma função ou objeto que é chamado automaticamente durante o treinamento do modelo, em momentos específicos, para realizar uma ação ou modificar o comportamento do treinamento. Ele permite **monitorar** e **interromper** o treinamento com base em condições específicas, **salvar modelos**, **ajustar parâmetros**, entre outras funcionalidades.\n",
    "\n",
    "* **`EarlyStopping`**: Um tipo de callback que monitora a **perda de validação** (`val_loss`) e interrompe o treinamento quando ela não melhora por um número de épocas consecutivas. Ele é usado para **prevenir o sobreajuste** e otimizar o tempo de treinamento.\n",
    "\n",
    "* **`monitor`**: A métrica que o callback irá acompanhar durante o treinamento, como no caso, a **perda de validação** - `val_loss`.\n",
    "\n",
    "* **`patience`**: O número de épocas que o modelo irá esperar sem melhorar a métrica monitorada antes de interromper o treinamento.\n",
    "\n",
    "* **`restore_best_weights`**: Quando configurado como `True`, restaura os **pesos da melhor época** do treinamento (aquela com a menor **val\\_loss** ou maior **acurácia**), garantindo que o modelo final não tenha os pesos de uma época que não representem a melhor performance."
   ]
  },
  {
   "cell_type": "code",
   "execution_count": 82,
   "id": "3e0837a5",
   "metadata": {},
   "outputs": [],
   "source": [
    "from tensorflow.keras.callbacks import EarlyStopping\n",
    "\n",
    "# Configurando o EarlyStopping\n",
    "early_stopping = EarlyStopping(\n",
    "                    monitor='val_loss',  \n",
    "                    patience=3,          \n",
    "                    restore_best_weights=True\n",
    ")"
   ]
  },
  {
   "cell_type": "markdown",
   "id": "9e741ebf",
   "metadata": {},
   "source": [
    "#### **Treinamento do Modelo**\n",
    "\n",
    "* **`epochs`**: O número de **épocas** (iterações) que o modelo passará pelos dados de treinamento. Cada época consiste em uma passagem por todos os dados de treinamento, que no caso serão 10.\n",
    "\n",
    "* **`batch_size`**: O número de exemplos que o modelo processará em cada iteração de treinamento antes de atualizar os pesos. Um tamanho de batch maior geralmente resulta em um treinamento mais eficiente, mas pode exigir mais memória.\n",
    "\n",
    "* **`validation_data`**: Os dados de **validação** usados para avaliar o desempenho do modelo após cada época. Isso ajuda a verificar se o modelo está generalizando bem para dados que não foram usados durante o treinamento."
   ]
  },
  {
   "cell_type": "code",
   "execution_count": 83,
   "id": "32613b8b",
   "metadata": {},
   "outputs": [
    {
     "name": "stdout",
     "output_type": "stream",
     "text": [
      "Epoch 1/10\n",
      "\u001b[1m625/625\u001b[0m \u001b[32m━━━━━━━━━━━━━━━━━━━━\u001b[0m\u001b[37m\u001b[0m \u001b[1m2s\u001b[0m 2ms/step - accuracy: 0.8799 - loss: 0.3011 - val_accuracy: 0.9334 - val_loss: 0.1892\n",
      "Epoch 2/10\n",
      "\u001b[1m625/625\u001b[0m \u001b[32m━━━━━━━━━━━━━━━━━━━━\u001b[0m\u001b[37m\u001b[0m \u001b[1m1s\u001b[0m 1ms/step - accuracy: 0.9328 - loss: 0.1904 - val_accuracy: 0.9338 - val_loss: 0.1846\n",
      "Epoch 3/10\n",
      "\u001b[1m625/625\u001b[0m \u001b[32m━━━━━━━━━━━━━━━━━━━━\u001b[0m\u001b[37m\u001b[0m \u001b[1m1s\u001b[0m 1ms/step - accuracy: 0.9328 - loss: 0.1826 - val_accuracy: 0.9358 - val_loss: 0.1865\n",
      "Epoch 4/10\n",
      "\u001b[1m625/625\u001b[0m \u001b[32m━━━━━━━━━━━━━━━━━━━━\u001b[0m\u001b[37m\u001b[0m \u001b[1m1s\u001b[0m 1ms/step - accuracy: 0.9362 - loss: 0.1761 - val_accuracy: 0.9353 - val_loss: 0.1832\n",
      "Epoch 5/10\n",
      "\u001b[1m625/625\u001b[0m \u001b[32m━━━━━━━━━━━━━━━━━━━━\u001b[0m\u001b[37m\u001b[0m \u001b[1m1s\u001b[0m 1ms/step - accuracy: 0.9357 - loss: 0.1748 - val_accuracy: 0.9364 - val_loss: 0.1831\n",
      "Epoch 6/10\n",
      "\u001b[1m625/625\u001b[0m \u001b[32m━━━━━━━━━━━━━━━━━━━━\u001b[0m\u001b[37m\u001b[0m \u001b[1m1s\u001b[0m 1ms/step - accuracy: 0.9375 - loss: 0.1697 - val_accuracy: 0.9356 - val_loss: 0.1814\n",
      "Epoch 7/10\n",
      "\u001b[1m625/625\u001b[0m \u001b[32m━━━━━━━━━━━━━━━━━━━━\u001b[0m\u001b[37m\u001b[0m \u001b[1m1s\u001b[0m 2ms/step - accuracy: 0.9378 - loss: 0.1673 - val_accuracy: 0.9359 - val_loss: 0.1828\n",
      "Epoch 8/10\n",
      "\u001b[1m625/625\u001b[0m \u001b[32m━━━━━━━━━━━━━━━━━━━━\u001b[0m\u001b[37m\u001b[0m \u001b[1m1s\u001b[0m 2ms/step - accuracy: 0.9388 - loss: 0.1623 - val_accuracy: 0.9350 - val_loss: 0.1865\n",
      "Epoch 9/10\n",
      "\u001b[1m625/625\u001b[0m \u001b[32m━━━━━━━━━━━━━━━━━━━━\u001b[0m\u001b[37m\u001b[0m \u001b[1m1s\u001b[0m 2ms/step - accuracy: 0.9442 - loss: 0.1499 - val_accuracy: 0.9352 - val_loss: 0.1860\n"
     ]
    }
   ],
   "source": [
    "# Training\n",
    "history = model.fit(\n",
    "    X_train, y_train, \n",
    "    epochs=10,\n",
    "    batch_size=64,\n",
    "    validation_data=(X_test, y_test),\n",
    "    verbose=1,\n",
    "    callbacks=[early_stopping]\n",
    ")"
   ]
  },
  {
   "cell_type": "code",
   "execution_count": 84,
   "id": "a7780c84",
   "metadata": {},
   "outputs": [
    {
     "name": "stdout",
     "output_type": "stream",
     "text": [
      "Test accuracy: 93.56%\n"
     ]
    }
   ],
   "source": [
    "# Avaliação no conjunto de teste\n",
    "test_loss, test_accuracy = model.evaluate(X_test, y_test, verbose=0)\n",
    "print(f'Test accuracy: {test_accuracy * 100:.2f}%')"
   ]
  },
  {
   "cell_type": "code",
   "execution_count": 85,
   "id": "0fcfe9f9",
   "metadata": {},
   "outputs": [
    {
     "name": "stdout",
     "output_type": "stream",
     "text": [
      "\u001b[1m313/313\u001b[0m \u001b[32m━━━━━━━━━━━━━━━━━━━━\u001b[0m\u001b[37m\u001b[0m \u001b[1m0s\u001b[0m 1ms/step\n",
      "              precision    recall  f1-score   support\n",
      "\n",
      "           0       0.95      0.95      0.95      6790\n",
      "           1       0.90      0.90      0.90      3209\n",
      "\n",
      "    accuracy                           0.94      9999\n",
      "   macro avg       0.93      0.93      0.93      9999\n",
      "weighted avg       0.94      0.94      0.94      9999\n",
      "\n"
     ]
    }
   ],
   "source": [
    "# Predictions\n",
    "y_pred = (model.predict(X_test) > 0.5).astype(\"int32\")\n",
    "\n",
    "print(classification_report(y_test, y_pred))\n"
   ]
  },
  {
   "cell_type": "code",
   "execution_count": 86,
   "id": "3095fbd5",
   "metadata": {},
   "outputs": [],
   "source": [
    "import matplotlib.pyplot as plt\n",
    "\n",
    "def plot_history(history):\n",
    "    fig, ax = plt.subplots(1, 2, figsize=(12, 4))\n",
    "    ax[0].plot(history.history['accuracy'], label='Train Accuracy')\n",
    "    ax[0].plot(history.history['val_accuracy'], label='Validation Accuracy')\n",
    "    ax[0].set_title('Model Accuracy')\n",
    "    ax[0].set_ylabel('Accuracy')\n",
    "    ax[0].set_xlabel('Epoch')\n",
    "    ax[0].legend()\n",
    "    ax[1].plot(history.history['loss'], label='Train Loss')\n",
    "    ax[1].plot(history.history['val_loss'], label='Validation Loss')\n",
    "    ax[1].set_title('Model Loss')\n",
    "    ax[1].set_ylabel('Loss')\n",
    "    ax[1].set_xlabel('Epoch')\n",
    "    ax[1].legend()\n",
    "    plt.show()"
   ]
  },
  {
   "cell_type": "code",
   "execution_count": 87,
   "id": "09d5438f",
   "metadata": {},
   "outputs": [
    {
     "data": {
      "image/png": "[encoded data removed]",
      "text/plain": [
       "<Figure size 1200x400 with 2 Axes>"
      ]
     },
     "metadata": {},
     "output_type": "display_data"
    }
   ],
   "source": [
    "plot_history(history)"
   ]
  },
  {
   "cell_type": "markdown",
   "id": "4c367ea3",
   "metadata": {},
   "source": [
    "O modelo apresentou boa performance, com leve perda ao classificar a variável **1** _(Resolvido)_, provavelmente dado ao desbalanceamento dos dados. \n",
    "\n",
    "Porém, há um indicativo de leve overfitting, dado queda da acurácia da validação com a subida da acurácia de treino, e o distanciamento das perdas.\n",
    "\n",
    "Para isso, vou remodelar utilizando o Dropout, uma técnica de penalização aleatória."
   ]
  },
  {
   "cell_type": "markdown",
   "id": "2d2977aa",
   "metadata": {},
   "source": [
    "### **Remodelando**"
   ]
  },
  {
   "cell_type": "code",
   "execution_count": 88,
   "id": "9eca0591",
   "metadata": {},
   "outputs": [],
   "source": [
    "new_model = Sequential()"
   ]
  },
  {
   "cell_type": "code",
   "execution_count": 89,
   "id": "cf36466e",
   "metadata": {},
   "outputs": [],
   "source": [
    "new_model.add(InputLayer(shape=(processed_data.shape[1],)))"
   ]
  },
  {
   "cell_type": "markdown",
   "id": "d9e72a25",
   "metadata": {},
   "source": [
    "#### **Dropout**\n",
    "\n",
    "**Dropout** é uma técnica de regularização que desativa aleatoriamente uma porcentagem de neurônios durante o treinamento de redes neurais, ajudando a **prevenir o sobreajuste** (overfitting).\n",
    "\n",
    "* A cada iteração, **neurônios são \"desligados\"** de forma aleatória, forçando o modelo a aprender representações mais robustas e generalizáveis dos dados.\n",
    "* A **taxa de dropout** é a fração de neurônios a ser desativada, geralmente entre **0.2 e 0.5**, no caso, **0.3**.\n"
   ]
  },
  {
   "cell_type": "code",
   "execution_count": 90,
   "id": "ef5aa888",
   "metadata": {},
   "outputs": [],
   "source": [
    "new_model.add(Dense(32, activation='relu', kernel_regularizer=l2(0.001)))\n",
    "new_model.add(Dropout(0.3))\n",
    "new_model.add(Dense(16, activation='relu', kernel_regularizer=l2(0.001)))\n",
    "new_model.add(Dropout(0.3))\n",
    "\n",
    "new_model.add(Dense(1, activation='sigmoid'))"
   ]
  },
  {
   "cell_type": "code",
   "execution_count": 91,
   "id": "f43bf991",
   "metadata": {},
   "outputs": [],
   "source": [
    "new_model.compile(optimizer='adam', loss='binary_crossentropy', metrics=['accuracy'])"
   ]
  },
  {
   "cell_type": "code",
   "execution_count": 92,
   "id": "79564d67",
   "metadata": {},
   "outputs": [],
   "source": [
    "early_stopping = EarlyStopping(\n",
    "    monitor='val_loss',\n",
    "    patience=3,\n",
    "    restore_best_weights=True\n",
    ")"
   ]
  },
  {
   "cell_type": "code",
   "execution_count": 93,
   "id": "56c8ff7e",
   "metadata": {},
   "outputs": [
    {
     "name": "stdout",
     "output_type": "stream",
     "text": [
      "Epoch 1/20\n",
      "\u001b[1m625/625\u001b[0m \u001b[32m━━━━━━━━━━━━━━━━━━━━\u001b[0m\u001b[37m\u001b[0m \u001b[1m3s\u001b[0m 2ms/step - accuracy: 0.7851 - loss: 0.5057 - val_accuracy: 0.9322 - val_loss: 0.2366\n",
      "Epoch 2/20\n",
      "\u001b[1m625/625\u001b[0m \u001b[32m━━━━━━━━━━━━━━━━━━━━\u001b[0m\u001b[37m\u001b[0m \u001b[1m1s\u001b[0m 2ms/step - accuracy: 0.9268 - loss: 0.2573 - val_accuracy: 0.9352 - val_loss: 0.2150\n",
      "Epoch 3/20\n",
      "\u001b[1m625/625\u001b[0m \u001b[32m━━━━━━━━━━━━━━━━━━━━\u001b[0m\u001b[37m\u001b[0m \u001b[1m1s\u001b[0m 2ms/step - accuracy: 0.9297 - loss: 0.2370 - val_accuracy: 0.9356 - val_loss: 0.2078\n",
      "Epoch 4/20\n",
      "\u001b[1m625/625\u001b[0m \u001b[32m━━━━━━━━━━━━━━━━━━━━\u001b[0m\u001b[37m\u001b[0m \u001b[1m1s\u001b[0m 2ms/step - accuracy: 0.9313 - loss: 0.2284 - val_accuracy: 0.9321 - val_loss: 0.2085\n",
      "Epoch 5/20\n",
      "\u001b[1m625/625\u001b[0m \u001b[32m━━━━━━━━━━━━━━━━━━━━\u001b[0m\u001b[37m\u001b[0m \u001b[1m1s\u001b[0m 2ms/step - accuracy: 0.9333 - loss: 0.2189 - val_accuracy: 0.9340 - val_loss: 0.2055\n",
      "Epoch 6/20\n",
      "\u001b[1m625/625\u001b[0m \u001b[32m━━━━━━━━━━━━━━━━━━━━\u001b[0m\u001b[37m\u001b[0m \u001b[1m1s\u001b[0m 2ms/step - accuracy: 0.9306 - loss: 0.2217 - val_accuracy: 0.9363 - val_loss: 0.1998\n",
      "Epoch 7/20\n",
      "\u001b[1m625/625\u001b[0m \u001b[32m━━━━━━━━━━━━━━━━━━━━\u001b[0m\u001b[37m\u001b[0m \u001b[1m1s\u001b[0m 2ms/step - accuracy: 0.9353 - loss: 0.2090 - val_accuracy: 0.9354 - val_loss: 0.1996\n",
      "Epoch 8/20\n",
      "\u001b[1m625/625\u001b[0m \u001b[32m━━━━━━━━━━━━━━━━━━━━\u001b[0m\u001b[37m\u001b[0m \u001b[1m2s\u001b[0m 3ms/step - accuracy: 0.9324 - loss: 0.2121 - val_accuracy: 0.9362 - val_loss: 0.1961\n",
      "Epoch 9/20\n",
      "\u001b[1m625/625\u001b[0m \u001b[32m━━━━━━━━━━━━━━━━━━━━\u001b[0m\u001b[37m\u001b[0m \u001b[1m1s\u001b[0m 2ms/step - accuracy: 0.9364 - loss: 0.2073 - val_accuracy: 0.9359 - val_loss: 0.1968\n",
      "Epoch 10/20\n",
      "\u001b[1m625/625\u001b[0m \u001b[32m━━━━━━━━━━━━━━━━━━━━\u001b[0m\u001b[37m\u001b[0m \u001b[1m1s\u001b[0m 2ms/step - accuracy: 0.9311 - loss: 0.2146 - val_accuracy: 0.9370 - val_loss: 0.1972\n",
      "Epoch 11/20\n",
      "\u001b[1m625/625\u001b[0m \u001b[32m━━━━━━━━━━━━━━━━━━━━\u001b[0m\u001b[37m\u001b[0m \u001b[1m1s\u001b[0m 2ms/step - accuracy: 0.9323 - loss: 0.2099 - val_accuracy: 0.9354 - val_loss: 0.1982\n"
     ]
    }
   ],
   "source": [
    "new_history = new_model.fit(\n",
    "    X_train, y_train,\n",
    "    epochs=20,\n",
    "    batch_size=64,\n",
    "    validation_data=(X_test, y_test),\n",
    "    verbose=1,\n",
    "    callbacks=[early_stopping]\n",
    ")"
   ]
  },
  {
   "cell_type": "code",
   "execution_count": 94,
   "id": "4bb68a00",
   "metadata": {},
   "outputs": [
    {
     "name": "stdout",
     "output_type": "stream",
     "text": [
      "Test accuracy: 93.62%\n"
     ]
    }
   ],
   "source": [
    "# Avaliação no conjunto de teste\n",
    "new_test_loss, new_test_accuracy = new_model.evaluate(X_test, y_test, verbose=0)\n",
    "print(f'Test accuracy: {new_test_accuracy * 100:.2f}%')"
   ]
  },
  {
   "cell_type": "code",
   "execution_count": 95,
   "id": "1b60f4fd",
   "metadata": {},
   "outputs": [
    {
     "name": "stdout",
     "output_type": "stream",
     "text": [
      "\u001b[1m313/313\u001b[0m \u001b[32m━━━━━━━━━━━━━━━━━━━━\u001b[0m\u001b[37m\u001b[0m \u001b[1m0s\u001b[0m 1ms/step\n",
      "              precision    recall  f1-score   support\n",
      "\n",
      "           0       0.95      0.96      0.95      6790\n",
      "           1       0.91      0.89      0.90      3209\n",
      "\n",
      "    accuracy                           0.94      9999\n",
      "   macro avg       0.93      0.92      0.93      9999\n",
      "weighted avg       0.94      0.94      0.94      9999\n",
      "\n"
     ]
    }
   ],
   "source": [
    "y_pred = (new_model.predict(X_test) > 0.5).astype(\"int32\")\n",
    "print(classification_report(y_test, y_pred))"
   ]
  },
  {
   "cell_type": "code",
   "execution_count": 98,
   "id": "20e166ce",
   "metadata": {},
   "outputs": [
    {
     "data": {
      "image/png": "[encoded data removed]",
      "text/plain": [
       "<Figure size 1200x400 with 2 Axes>"
      ]
     },
     "metadata": {},
     "output_type": "display_data"
    }
   ],
   "source": [
    "plot_history(new_history)"
   ]
  },
  {
   "cell_type": "markdown",
   "id": "711cb20f",
   "metadata": {},
   "source": [
    "Perceba que, a performance de classificação permaneceu quase a mesma, mas o treinamento indica um modelo bem mais consistente e sem indicativo de overfitting."
   ]
  },
  {
   "cell_type": "markdown",
   "id": "ff8204f8",
   "metadata": {},
   "source": [
    "#### **Matriz de Confusão**\n",
    "\n",
    "A **matriz de confusão** é uma ferramenta usada para avaliar o desempenho de um modelo de classificação. Ela mostra o número de **verdadeiros positivos (VP)**, **falsos positivos (FP)**, **verdadeiros negativos (VN)** e **falsos negativos (FN)** produzidos pelo modelo.\n",
    "\n",
    "* **VP (Verdadeiro Positivo)**: O modelo previu corretamente a classe positiva.\n",
    "* **FP (Falso Positivo)**: O modelo previu a classe positiva, mas o valor real era negativo.\n",
    "* **VN (Verdadeiro Negativo)**: O modelo previu corretamente a classe negativa.\n",
    "* **FN (Falso Negativo)**: O modelo previu a classe negativa, mas o valor real era positivo."
   ]
  },
  {
   "cell_type": "code",
   "execution_count": 99,
   "id": "efedf692",
   "metadata": {},
   "outputs": [],
   "source": [
    "# Confusion Matrix\n",
    "from sklearn.metrics import confusion_matrix\n",
    "import seaborn as sns\n",
    "import matplotlib.pyplot as plt\n",
    "\n",
    "labels_map = {0: 'Não Resolvido', 1: 'Resolvido'}\n",
    "\n",
    "def plot_confusion_matrix(y_true, y_pred):\n",
    "    cm = confusion_matrix(y_true, y_pred)\n",
    "    plt.figure(figsize=(8, 6))\n",
    "    sns.heatmap(\n",
    "        cm, \n",
    "        annot=True, \n",
    "        fmt='d', \n",
    "        cmap='Blues', \n",
    "        cbar=False,\n",
    "        xticklabels=labels_map.values(),\n",
    "        yticklabels=labels_map.values()\n",
    "    )\n",
    "    plt.xlabel('Predicted')\n",
    "    plt.ylabel('True')\n",
    "    plt.title('Confusion Matrix')\n",
    "    plt.show()"
   ]
  },
  {
   "cell_type": "code",
   "execution_count": 100,
   "id": "56e02f1e",
   "metadata": {},
   "outputs": [
    {
     "name": "stdout",
     "output_type": "stream",
     "text": [
      "\u001b[1m313/313\u001b[0m \u001b[32m━━━━━━━━━━━━━━━━━━━━\u001b[0m\u001b[37m\u001b[0m \u001b[1m0s\u001b[0m 791us/step\n"
     ]
    },
    {
     "data": {
      "image/png": "[encoded data removed]",
      "text/plain": [
       "<Figure size 800x600 with 1 Axes>"
      ]
     },
     "metadata": {},
     "output_type": "display_data"
    }
   ],
   "source": [
    "y_true, y_pred = y_test, (new_model.predict(X_test) > 0.5).astype(\"int32\")\n",
    "plot_confusion_matrix(y_true, y_pred)"
   ]
  },
  {
   "cell_type": "markdown",
   "id": "33ef9f7e",
   "metadata": {},
   "source": [
    "### **Salvando Modelos**"
   ]
  },
  {
   "cell_type": "code",
   "execution_count": 101,
   "id": "91d32687",
   "metadata": {},
   "outputs": [],
   "source": [
    "# Save model - pickle\n",
    "\n",
    "src_dir = 'src'\n",
    "models_dir = 'models'\n",
    "ml_dir = 'ml'\n",
    "transformers_dir = 'transformers'\n",
    "model_name = 'ANN_model.keras'\n",
    "preprocessor_name = 'preprocessor.joblib'\n",
    "\n",
    "model_path = os.path.join(root_path, src_dir, models_dir, ml_dir, model_name)\n",
    "preprocessor_path = os.path.join(root_path, src_dir, models_dir, transformers_dir, preprocessor_name)"
   ]
  },
  {
   "cell_type": "code",
   "execution_count": 102,
   "id": "085e2794",
   "metadata": {},
   "outputs": [
    {
     "data": {
      "text/plain": [
       "['c:\\\\Users\\\\user\\\\Desktop\\\\UFPB\\\\5-Periodo\\\\ML\\\\Projeto\\\\consumidor_gov\\\\src\\\\models\\\\transformers\\\\preprocessor.joblib']"
      ]
     },
     "execution_count": 102,
     "metadata": {},
     "output_type": "execute_result"
    }
   ],
   "source": [
    "import joblib\n",
    "\n",
    "# Saving ann\n",
    "model.save(model_path)\n",
    "\n",
    "# Saving preprocessor\n",
    "joblib.dump(preprocessor, preprocessor_path)"
   ]
  },
  {
   "cell_type": "markdown",
   "id": "cb5bec4a",
   "metadata": {},
   "source": [
    "---"
   ]
  },
  {
   "cell_type": "markdown",
   "id": "78ed0386",
   "metadata": {},
   "source": [
    "### **Regressão Logística**\n",
    "\n",
    "Aqui usarei um modelo de regressão logística para visualizar de certa forma a importância de cada feature."
   ]
  },
  {
   "cell_type": "code",
   "execution_count": 103,
   "id": "961a5c00",
   "metadata": {},
   "outputs": [],
   "source": [
    "from sklearn.linear_model import LogisticRegression\n",
    "from sklearn.metrics import classification_report\n",
    "\n",
    "# Definindo o modelo de Regressão Logística\n",
    "logreg_model = LogisticRegression(max_iter=1000, random_state=42)"
   ]
  },
  {
   "cell_type": "code",
   "execution_count": 104,
   "id": "966d7eef",
   "metadata": {},
   "outputs": [],
   "source": [
    "# Treinamento do modelo\n",
    "logreg_model.fit(X_train, y_train)\n",
    "# Avaliação no conjunto de teste\n",
    "y_pred_logreg = logreg_model.predict(X_test)"
   ]
  },
  {
   "cell_type": "code",
   "execution_count": 105,
   "id": "cf7aac20",
   "metadata": {},
   "outputs": [
    {
     "name": "stdout",
     "output_type": "stream",
     "text": [
      "              precision    recall  f1-score   support\n",
      "\n",
      "           0       0.94      0.96      0.95      6790\n",
      "           1       0.91      0.87      0.89      3209\n",
      "\n",
      "    accuracy                           0.93      9999\n",
      "   macro avg       0.93      0.92      0.92      9999\n",
      "weighted avg       0.93      0.93      0.93      9999\n",
      "\n"
     ]
    }
   ],
   "source": [
    "print(classification_report(y_test, y_pred_logreg))"
   ]
  },
  {
   "cell_type": "markdown",
   "id": "66514465",
   "metadata": {},
   "source": [
    "#### **Grid Search**\n",
    "\n",
    "O **Grid Search** é uma técnica de otimização de **hiperparâmetros**. Ele testa **todas as combinações possíveis** de um conjunto pré-definido de valores para encontrar a **melhor configuração** para o modelo."
   ]
  },
  {
   "cell_type": "code",
   "execution_count": 106,
   "id": "986740b4",
   "metadata": {},
   "outputs": [],
   "source": [
    "param_grid = {\n",
    "    'C': [0.01, 0.1, 1, 10, 100],\n",
    "    'solver': ['liblinear', 'lbfgs'],\n",
    "    'penalty': ['l2'],\n",
    "}"
   ]
  },
  {
   "cell_type": "code",
   "execution_count": 107,
   "id": "74e9b4b1",
   "metadata": {},
   "outputs": [],
   "source": [
    "# Configurando o GridSearchCV\n",
    "from sklearn.model_selection import GridSearchCV\n",
    "\n",
    "grid_model = LogisticRegression(max_iter=1000, random_state=42)\n",
    "\n",
    "grid_search = GridSearchCV(\n",
    "    estimator=grid_model, \n",
    "    param_grid=param_grid, \n",
    "    cv=5, \n",
    "    n_jobs=-1, \n",
    "    scoring='accuracy', \n",
    "    verbose=1\n",
    ")"
   ]
  },
  {
   "cell_type": "code",
   "execution_count": 108,
   "id": "05cd6e0f",
   "metadata": {},
   "outputs": [
    {
     "name": "stdout",
     "output_type": "stream",
     "text": [
      "Fitting 5 folds for each of 10 candidates, totalling 50 fits\n"
     ]
    },
    {
     "data": {
      "text/html": [
       "<style>#sk-container-id-2 {\n",
       "  /* Definition of color scheme common for light and dark mode */\n",
       "  --sklearn-color-text: black;\n",
       "  --sklearn-color-line: gray;\n",
       "  /* Definition of color scheme for unfitted estimators */\n",
       "  --sklearn-color-unfitted-level-0: #fff5e6;\n",
       "  --sklearn-color-unfitted-level-1: #f6e4d2;\n",
       "  --sklearn-color-unfitted-level-2: #ffe0b3;\n",
       "  --sklearn-color-unfitted-level-3: chocolate;\n",
       "  /* Definition of color scheme for fitted estimators */\n",
       "  --sklearn-color-fitted-level-0: #f0f8ff;\n",
       "  --sklearn-color-fitted-level-1: #d4ebff;\n",
       "  --sklearn-color-fitted-level-2: #b3dbfd;\n",
       "  --sklearn-color-fitted-level-3: cornflowerblue;\n",
       "\n",
       "  /* Specific color for light theme */\n",
       "  --sklearn-color-text-on-default-background: var(--sg-text-color, var(--theme-code-foreground, var(--jp-content-font-color1, black)));\n",
       "  --sklearn-color-background: var(--sg-background-color, var(--theme-background, var(--jp-layout-color0, white)));\n",
       "  --sklearn-color-border-box: var(--sg-text-color, var(--theme-code-foreground, var(--jp-content-font-color1, black)));\n",
       "  --sklearn-color-icon: #696969;\n",
       "\n",
       "  @media (prefers-color-scheme: dark) {\n",
       "    /* Redefinition of color scheme for dark theme */\n",
       "    --sklearn-color-text-on-default-background: var(--sg-text-color, var(--theme-code-foreground, var(--jp-content-font-color1, white)));\n",
       "    --sklearn-color-background: var(--sg-background-color, var(--theme-background, var(--jp-layout-color0, #111)));\n",
       "    --sklearn-color-border-box: var(--sg-text-color, var(--theme-code-foreground, var(--jp-content-font-color1, white)));\n",
       "    --sklearn-color-icon: #878787;\n",
       "  }\n",
       "}\n",
       "\n",
       "#sk-container-id-2 {\n",
       "  color: var(--sklearn-color-text);\n",
       "}\n",
       "\n",
       "#sk-container-id-2 pre {\n",
       "  padding: 0;\n",
       "}\n",
       "\n",
       "#sk-container-id-2 input.sk-hidden--visually {\n",
       "  border: 0;\n",
       "  clip: rect(1px 1px 1px 1px);\n",
       "  clip: rect(1px, 1px, 1px, 1px);\n",
       "  height: 1px;\n",
       "  margin: -1px;\n",
       "  overflow: hidden;\n",
       "  padding: 0;\n",
       "  position: absolute;\n",
       "  width: 1px;\n",
       "}\n",
       "\n",
       "#sk-container-id-2 div.sk-dashed-wrapped {\n",
       "  border: 1px dashed var(--sklearn-color-line);\n",
       "  margin: 0 0.4em 0.5em 0.4em;\n",
       "  box-sizing: border-box;\n",
       "  padding-bottom: 0.4em;\n",
       "  background-color: var(--sklearn-color-background);\n",
       "}\n",
       "\n",
       "#sk-container-id-2 div.sk-container {\n",
       "  /* jupyter's `normalize.less` sets `[hidden] { display: none; }`\n",
       "     but bootstrap.min.css set `[hidden] { display: none !important; }`\n",
       "     so we also need the `!important` here to be able to override the\n",
       "     default hidden behavior on the sphinx rendered scikit-learn.org.\n",
       "     See: https://github.com/scikit-learn/scikit-learn/issues/21755 */\n",
       "  display: inline-block !important;\n",
       "  position: relative;\n",
       "}\n",
       "\n",
       "#sk-container-id-2 div.sk-text-repr-fallback {\n",
       "  display: none;\n",
       "}\n",
       "\n",
       "div.sk-parallel-item,\n",
       "div.sk-serial,\n",
       "div.sk-item {\n",
       "  /* draw centered vertical line to link estimators */\n",
       "  background-image: linear-gradient(var(--sklearn-color-text-on-default-background), var(--sklearn-color-text-on-default-background));\n",
       "  background-size: 2px 100%;\n",
       "  background-repeat: no-repeat;\n",
       "  background-position: center center;\n",
       "}\n",
       "\n",
       "/* Parallel-specific style estimator block */\n",
       "\n",
       "#sk-container-id-2 div.sk-parallel-item::after {\n",
       "  content: \"\";\n",
       "  width: 100%;\n",
       "  border-bottom: 2px solid var(--sklearn-color-text-on-default-background);\n",
       "  flex-grow: 1;\n",
       "}\n",
       "\n",
       "#sk-container-id-2 div.sk-parallel {\n",
       "  display: flex;\n",
       "  align-items: stretch;\n",
       "  justify-content: center;\n",
       "  background-color: var(--sklearn-color-background);\n",
       "  position: relative;\n",
       "}\n",
       "\n",
       "#sk-container-id-2 div.sk-parallel-item {\n",
       "  display: flex;\n",
       "  flex-direction: column;\n",
       "}\n",
       "\n",
       "#sk-container-id-2 div.sk-parallel-item:first-child::after {\n",
       "  align-self: flex-end;\n",
       "  width: 50%;\n",
       "}\n",
       "\n",
       "#sk-container-id-2 div.sk-parallel-item:last-child::after {\n",
       "  align-self: flex-start;\n",
       "  width: 50%;\n",
       "}\n",
       "\n",
       "#sk-container-id-2 div.sk-parallel-item:only-child::after {\n",
       "  width: 0;\n",
       "}\n",
       "\n",
       "/* Serial-specific style estimator block */\n",
       "\n",
       "#sk-container-id-2 div.sk-serial {\n",
       "  display: flex;\n",
       "  flex-direction: column;\n",
       "  align-items: center;\n",
       "  background-color: var(--sklearn-color-background);\n",
       "  padding-right: 1em;\n",
       "  padding-left: 1em;\n",
       "}\n",
       "\n",
       "\n",
       "/* Toggleable style: style used for estimator/Pipeline/ColumnTransformer box that is\n",
       "clickable and can be expanded/collapsed.\n",
       "- Pipeline and ColumnTransformer use this feature and define the default style\n",
       "- Estimators will overwrite some part of the style using the `sk-estimator` class\n",
       "*/\n",
       "\n",
       "/* Pipeline and ColumnTransformer style (default) */\n",
       "\n",
       "#sk-container-id-2 div.sk-toggleable {\n",
       "  /* Default theme specific background. It is overwritten whether we have a\n",
       "  specific estimator or a Pipeline/ColumnTransformer */\n",
       "  background-color: var(--sklearn-color-background);\n",
       "}\n",
       "\n",
       "/* Toggleable label */\n",
       "#sk-container-id-2 label.sk-toggleable__label {\n",
       "  cursor: pointer;\n",
       "  display: block;\n",
       "  width: 100%;\n",
       "  margin-bottom: 0;\n",
       "  padding: 0.5em;\n",
       "  box-sizing: border-box;\n",
       "  text-align: center;\n",
       "}\n",
       "\n",
       "#sk-container-id-2 label.sk-toggleable__label-arrow:before {\n",
       "  /* Arrow on the left of the label */\n",
       "  content: \"▸\";\n",
       "  float: left;\n",
       "  margin-right: 0.25em;\n",
       "  color: var(--sklearn-color-icon);\n",
       "}\n",
       "\n",
       "#sk-container-id-2 label.sk-toggleable__label-arrow:hover:before {\n",
       "  color: var(--sklearn-color-text);\n",
       "}\n",
       "\n",
       "/* Toggleable content - dropdown */\n",
       "\n",
       "#sk-container-id-2 div.sk-toggleable__content {\n",
       "  max-height: 0;\n",
       "  max-width: 0;\n",
       "  overflow: hidden;\n",
       "  text-align: left;\n",
       "  /* unfitted */\n",
       "  background-color: var(--sklearn-color-unfitted-level-0);\n",
       "}\n",
       "\n",
       "#sk-container-id-2 div.sk-toggleable__content.fitted {\n",
       "  /* fitted */\n",
       "  background-color: var(--sklearn-color-fitted-level-0);\n",
       "}\n",
       "\n",
       "#sk-container-id-2 div.sk-toggleable__content pre {\n",
       "  margin: 0.2em;\n",
       "  border-radius: 0.25em;\n",
       "  color: var(--sklearn-color-text);\n",
       "  /* unfitted */\n",
       "  background-color: var(--sklearn-color-unfitted-level-0);\n",
       "}\n",
       "\n",
       "#sk-container-id-2 div.sk-toggleable__content.fitted pre {\n",
       "  /* unfitted */\n",
       "  background-color: var(--sklearn-color-fitted-level-0);\n",
       "}\n",
       "\n",
       "#sk-container-id-2 input.sk-toggleable__control:checked~div.sk-toggleable__content {\n",
       "  /* Expand drop-down */\n",
       "  max-height: 200px;\n",
       "  max-width: 100%;\n",
       "  overflow: auto;\n",
       "}\n",
       "\n",
       "#sk-container-id-2 input.sk-toggleable__control:checked~label.sk-toggleable__label-arrow:before {\n",
       "  content: \"▾\";\n",
       "}\n",
       "\n",
       "/* Pipeline/ColumnTransformer-specific style */\n",
       "\n",
       "#sk-container-id-2 div.sk-label input.sk-toggleable__control:checked~label.sk-toggleable__label {\n",
       "  color: var(--sklearn-color-text);\n",
       "  background-color: var(--sklearn-color-unfitted-level-2);\n",
       "}\n",
       "\n",
       "#sk-container-id-2 div.sk-label.fitted input.sk-toggleable__control:checked~label.sk-toggleable__label {\n",
       "  background-color: var(--sklearn-color-fitted-level-2);\n",
       "}\n",
       "\n",
       "/* Estimator-specific style */\n",
       "\n",
       "/* Colorize estimator box */\n",
       "#sk-container-id-2 div.sk-estimator input.sk-toggleable__control:checked~label.sk-toggleable__label {\n",
       "  /* unfitted */\n",
       "  background-color: var(--sklearn-color-unfitted-level-2);\n",
       "}\n",
       "\n",
       "#sk-container-id-2 div.sk-estimator.fitted input.sk-toggleable__control:checked~label.sk-toggleable__label {\n",
       "  /* fitted */\n",
       "  background-color: var(--sklearn-color-fitted-level-2);\n",
       "}\n",
       "\n",
       "#sk-container-id-2 div.sk-label label.sk-toggleable__label,\n",
       "#sk-container-id-2 div.sk-label label {\n",
       "  /* The background is the default theme color */\n",
       "  color: var(--sklearn-color-text-on-default-background);\n",
       "}\n",
       "\n",
       "/* On hover, darken the color of the background */\n",
       "#sk-container-id-2 div.sk-label:hover label.sk-toggleable__label {\n",
       "  color: var(--sklearn-color-text);\n",
       "  background-color: var(--sklearn-color-unfitted-level-2);\n",
       "}\n",
       "\n",
       "/* Label box, darken color on hover, fitted */\n",
       "#sk-container-id-2 div.sk-label.fitted:hover label.sk-toggleable__label.fitted {\n",
       "  color: var(--sklearn-color-text);\n",
       "  background-color: var(--sklearn-color-fitted-level-2);\n",
       "}\n",
       "\n",
       "/* Estimator label */\n",
       "\n",
       "#sk-container-id-2 div.sk-label label {\n",
       "  font-family: monospace;\n",
       "  font-weight: bold;\n",
       "  display: inline-block;\n",
       "  line-height: 1.2em;\n",
       "}\n",
       "\n",
       "#sk-container-id-2 div.sk-label-container {\n",
       "  text-align: center;\n",
       "}\n",
       "\n",
       "/* Estimator-specific */\n",
       "#sk-container-id-2 div.sk-estimator {\n",
       "  font-family: monospace;\n",
       "  border: 1px dotted var(--sklearn-color-border-box);\n",
       "  border-radius: 0.25em;\n",
       "  box-sizing: border-box;\n",
       "  margin-bottom: 0.5em;\n",
       "  /* unfitted */\n",
       "  background-color: var(--sklearn-color-unfitted-level-0);\n",
       "}\n",
       "\n",
       "#sk-container-id-2 div.sk-estimator.fitted {\n",
       "  /* fitted */\n",
       "  background-color: var(--sklearn-color-fitted-level-0);\n",
       "}\n",
       "\n",
       "/* on hover */\n",
       "#sk-container-id-2 div.sk-estimator:hover {\n",
       "  /* unfitted */\n",
       "  background-color: var(--sklearn-color-unfitted-level-2);\n",
       "}\n",
       "\n",
       "#sk-container-id-2 div.sk-estimator.fitted:hover {\n",
       "  /* fitted */\n",
       "  background-color: var(--sklearn-color-fitted-level-2);\n",
       "}\n",
       "\n",
       "/* Specification for estimator info (e.g. \"i\" and \"?\") */\n",
       "\n",
       "/* Common style for \"i\" and \"?\" */\n",
       "\n",
       ".sk-estimator-doc-link,\n",
       "a:link.sk-estimator-doc-link,\n",
       "a:visited.sk-estimator-doc-link {\n",
       "  float: right;\n",
       "  font-size: smaller;\n",
       "  line-height: 1em;\n",
       "  font-family: monospace;\n",
       "  background-color: var(--sklearn-color-background);\n",
       "  border-radius: 1em;\n",
       "  height: 1em;\n",
       "  width: 1em;\n",
       "  text-decoration: none !important;\n",
       "  margin-left: 1ex;\n",
       "  /* unfitted */\n",
       "  border: var(--sklearn-color-unfitted-level-1) 1pt solid;\n",
       "  color: var(--sklearn-color-unfitted-level-1);\n",
       "}\n",
       "\n",
       ".sk-estimator-doc-link.fitted,\n",
       "a:link.sk-estimator-doc-link.fitted,\n",
       "a:visited.sk-estimator-doc-link.fitted {\n",
       "  /* fitted */\n",
       "  border: var(--sklearn-color-fitted-level-1) 1pt solid;\n",
       "  color: var(--sklearn-color-fitted-level-1);\n",
       "}\n",
       "\n",
       "/* On hover */\n",
       "div.sk-estimator:hover .sk-estimator-doc-link:hover,\n",
       ".sk-estimator-doc-link:hover,\n",
       "div.sk-label-container:hover .sk-estimator-doc-link:hover,\n",
       ".sk-estimator-doc-link:hover {\n",
       "  /* unfitted */\n",
       "  background-color: var(--sklearn-color-unfitted-level-3);\n",
       "  color: var(--sklearn-color-background);\n",
       "  text-decoration: none;\n",
       "}\n",
       "\n",
       "div.sk-estimator.fitted:hover .sk-estimator-doc-link.fitted:hover,\n",
       ".sk-estimator-doc-link.fitted:hover,\n",
       "div.sk-label-container:hover .sk-estimator-doc-link.fitted:hover,\n",
       ".sk-estimator-doc-link.fitted:hover {\n",
       "  /* fitted */\n",
       "  background-color: var(--sklearn-color-fitted-level-3);\n",
       "  color: var(--sklearn-color-background);\n",
       "  text-decoration: none;\n",
       "}\n",
       "\n",
       "/* Span, style for the box shown on hovering the info icon */\n",
       ".sk-estimator-doc-link span {\n",
       "  display: none;\n",
       "  z-index: 9999;\n",
       "  position: relative;\n",
       "  font-weight: normal;\n",
       "  right: .2ex;\n",
       "  padding: .5ex;\n",
       "  margin: .5ex;\n",
       "  width: min-content;\n",
       "  min-width: 20ex;\n",
       "  max-width: 50ex;\n",
       "  color: var(--sklearn-color-text);\n",
       "  box-shadow: 2pt 2pt 4pt #999;\n",
       "  /* unfitted */\n",
       "  background: var(--sklearn-color-unfitted-level-0);\n",
       "  border: .5pt solid var(--sklearn-color-unfitted-level-3);\n",
       "}\n",
       "\n",
       ".sk-estimator-doc-link.fitted span {\n",
       "  /* fitted */\n",
       "  background: var(--sklearn-color-fitted-level-0);\n",
       "  border: var(--sklearn-color-fitted-level-3);\n",
       "}\n",
       "\n",
       ".sk-estimator-doc-link:hover span {\n",
       "  display: block;\n",
       "}\n",
       "\n",
       "/* \"?\"-specific style due to the `<a>` HTML tag */\n",
       "\n",
       "#sk-container-id-2 a.estimator_doc_link {\n",
       "  float: right;\n",
       "  font-size: 1rem;\n",
       "  line-height: 1em;\n",
       "  font-family: monospace;\n",
       "  background-color: var(--sklearn-color-background);\n",
       "  border-radius: 1rem;\n",
       "  height: 1rem;\n",
       "  width: 1rem;\n",
       "  text-decoration: none;\n",
       "  /* unfitted */\n",
       "  color: var(--sklearn-color-unfitted-level-1);\n",
       "  border: var(--sklearn-color-unfitted-level-1) 1pt solid;\n",
       "}\n",
       "\n",
       "#sk-container-id-2 a.estimator_doc_link.fitted {\n",
       "  /* fitted */\n",
       "  border: var(--sklearn-color-fitted-level-1) 1pt solid;\n",
       "  color: var(--sklearn-color-fitted-level-1);\n",
       "}\n",
       "\n",
       "/* On hover */\n",
       "#sk-container-id-2 a.estimator_doc_link:hover {\n",
       "  /* unfitted */\n",
       "  background-color: var(--sklearn-color-unfitted-level-3);\n",
       "  color: var(--sklearn-color-background);\n",
       "  text-decoration: none;\n",
       "}\n",
       "\n",
       "#sk-container-id-2 a.estimator_doc_link.fitted:hover {\n",
       "  /* fitted */\n",
       "  background-color: var(--sklearn-color-fitted-level-3);\n",
       "}\n",
       "</style><div id=\"sk-container-id-2\" class=\"sk-top-container\"><div class=\"sk-text-repr-fallback\"><pre>GridSearchCV(cv=5, estimator=LogisticRegression(max_iter=1000, random_state=42),\n",
       "             n_jobs=-1,\n",
       "             param_grid={&#x27;C&#x27;: [0.01, 0.1, 1, 10, 100], &#x27;penalty&#x27;: [&#x27;l2&#x27;],\n",
       "                         &#x27;solver&#x27;: [&#x27;liblinear&#x27;, &#x27;lbfgs&#x27;]},\n",
       "             scoring=&#x27;accuracy&#x27;, verbose=1)</pre><b>In a Jupyter environment, please rerun this cell to show the HTML representation or trust the notebook. <br />On GitHub, the HTML representation is unable to render, please try loading this page with nbviewer.org.</b></div><div class=\"sk-container\" hidden><div class=\"sk-item sk-dashed-wrapped\"><div class=\"sk-label-container\"><div class=\"sk-label fitted sk-toggleable\"><input class=\"sk-toggleable__control sk-hidden--visually\" id=\"sk-estimator-id-4\" type=\"checkbox\" ><label for=\"sk-estimator-id-4\" class=\"sk-toggleable__label fitted sk-toggleable__label-arrow fitted\">&nbsp;&nbsp;GridSearchCV<a class=\"sk-estimator-doc-link fitted\" rel=\"noreferrer\" target=\"_blank\" href=\"https://scikit-learn.org/1.4/modules/generated/sklearn.model_selection.GridSearchCV.html\">?<span>Documentation for GridSearchCV</span></a><span class=\"sk-estimator-doc-link fitted\">i<span>Fitted</span></span></label><div class=\"sk-toggleable__content fitted\"><pre>GridSearchCV(cv=5, estimator=LogisticRegression(max_iter=1000, random_state=42),\n",
       "             n_jobs=-1,\n",
       "             param_grid={&#x27;C&#x27;: [0.01, 0.1, 1, 10, 100], &#x27;penalty&#x27;: [&#x27;l2&#x27;],\n",
       "                         &#x27;solver&#x27;: [&#x27;liblinear&#x27;, &#x27;lbfgs&#x27;]},\n",
       "             scoring=&#x27;accuracy&#x27;, verbose=1)</pre></div> </div></div><div class=\"sk-parallel\"><div class=\"sk-parallel-item\"><div class=\"sk-item\"><div class=\"sk-label-container\"><div class=\"sk-label fitted sk-toggleable\"><input class=\"sk-toggleable__control sk-hidden--visually\" id=\"sk-estimator-id-5\" type=\"checkbox\" ><label for=\"sk-estimator-id-5\" class=\"sk-toggleable__label fitted sk-toggleable__label-arrow fitted\">estimator: LogisticRegression</label><div class=\"sk-toggleable__content fitted\"><pre>LogisticRegression(max_iter=1000, random_state=42)</pre></div> </div></div><div class=\"sk-serial\"><div class=\"sk-item\"><div class=\"sk-estimator fitted sk-toggleable\"><input class=\"sk-toggleable__control sk-hidden--visually\" id=\"sk-estimator-id-6\" type=\"checkbox\" ><label for=\"sk-estimator-id-6\" class=\"sk-toggleable__label fitted sk-toggleable__label-arrow fitted\">&nbsp;LogisticRegression<a class=\"sk-estimator-doc-link fitted\" rel=\"noreferrer\" target=\"_blank\" href=\"https://scikit-learn.org/1.4/modules/generated/sklearn.linear_model.LogisticRegression.html\">?<span>Documentation for LogisticRegression</span></a></label><div class=\"sk-toggleable__content fitted\"><pre>LogisticRegression(max_iter=1000, random_state=42)</pre></div> </div></div></div></div></div></div></div></div></div>"
      ],
      "text/plain": [
       "GridSearchCV(cv=5, estimator=LogisticRegression(max_iter=1000, random_state=42),\n",
       "             n_jobs=-1,\n",
       "             param_grid={'C': [0.01, 0.1, 1, 10, 100], 'penalty': ['l2'],\n",
       "                         'solver': ['liblinear', 'lbfgs']},\n",
       "             scoring='accuracy', verbose=1)"
      ]
     },
     "execution_count": 108,
     "metadata": {},
     "output_type": "execute_result"
    }
   ],
   "source": [
    "grid_search.fit(X_train, y_train)"
   ]
  },
  {
   "cell_type": "code",
   "execution_count": 109,
   "id": "1c458374",
   "metadata": {},
   "outputs": [
    {
     "name": "stdout",
     "output_type": "stream",
     "text": [
      "Best parameters: {'C': 0.1, 'penalty': 'l2', 'solver': 'liblinear'}\n"
     ]
    }
   ],
   "source": [
    "print(\"Best parameters:\", grid_search.best_params_)"
   ]
  },
  {
   "cell_type": "markdown",
   "id": "dfadbfd2",
   "metadata": {},
   "source": [
    "Esses foram os parâmetros que resultaram em uma melhor performance do modelo."
   ]
  },
  {
   "cell_type": "code",
   "execution_count": 110,
   "id": "e63fc28b",
   "metadata": {},
   "outputs": [],
   "source": [
    "best_lr_model = grid_search.best_estimator_"
   ]
  },
  {
   "cell_type": "code",
   "execution_count": 111,
   "id": "0eaad778",
   "metadata": {},
   "outputs": [
    {
     "name": "stdout",
     "output_type": "stream",
     "text": [
      "Test accuracy: 93.32%\n"
     ]
    }
   ],
   "source": [
    "test_accuracy = best_lr_model.score(X_test, y_test)\n",
    "print(f'Test accuracy: {test_accuracy * 100:.2f}%')"
   ]
  },
  {
   "cell_type": "code",
   "execution_count": 112,
   "id": "5cc19705",
   "metadata": {},
   "outputs": [
    {
     "name": "stdout",
     "output_type": "stream",
     "text": [
      "              precision    recall  f1-score   support\n",
      "\n",
      "           0       0.94      0.96      0.95      6790\n",
      "           1       0.92      0.87      0.89      3209\n",
      "\n",
      "    accuracy                           0.93      9999\n",
      "   macro avg       0.93      0.92      0.92      9999\n",
      "weighted avg       0.93      0.93      0.93      9999\n",
      "\n"
     ]
    }
   ],
   "source": [
    "y_pred = best_lr_model.predict(X_test)\n",
    "\n",
    "print(classification_report(y_test, y_pred))"
   ]
  },
  {
   "cell_type": "markdown",
   "id": "267b528e",
   "metadata": {},
   "source": [
    "#### **Gráfico AUC - ROC (Regressão Logística)**\n",
    "\n",
    "O gráfico **ROC (Receiver Operating Characteristic)** é uma ferramenta para avaliar o desempenho de classificadores binários. Ele mostra a relação entre:\n",
    "\n",
    "* **True Positive Rate (TPR)**: sensibilidade.\n",
    "* **False Positive Rate (FPR)**: taxa de falsos positivos.\n",
    "\n",
    "#### **AUC (Area Under the Curve)**\n",
    "\n",
    "A área sob a curva (**AUC**) resume o desempenho do modelo.\n",
    "\n",
    "* Valor **próximo de 1.0** indica excelente separação entre classes.\n",
    "* Valor **próximo de 0.5** indica que o modelo **não está melhor do que o chute aleatório**."
   ]
  },
  {
   "cell_type": "code",
   "execution_count": 113,
   "id": "6a51769f",
   "metadata": {},
   "outputs": [
    {
     "data": {
      "image/png": "[encoded data removed]",
      "text/plain": [
       "<Figure size 800x600 with 1 Axes>"
      ]
     },
     "metadata": {},
     "output_type": "display_data"
    }
   ],
   "source": [
    "# Plot AUC - ROC Curve\n",
    "from sklearn.metrics import roc_curve, auc\n",
    "import matplotlib.pyplot as plt\n",
    "\n",
    "y_pred_proba = best_lr_model.predict_proba(X_test)[:, 1]\n",
    "# Calc ROC\n",
    "fpr, tpr, thresholds = roc_curve(y_test, y_pred_proba)\n",
    "roc_auc = auc(fpr, tpr)\n",
    "# ROC\n",
    "plt.figure(figsize=(8, 6))\n",
    "plt.plot(fpr, tpr, color='blue', label=f'ROC curve (area = {roc_auc:.2f})')\n",
    "plt.plot([0, 1], [0, 1], color='red', linestyle='--')\n",
    "plt.xlim([0.0, 1.0])\n",
    "plt.ylim([0.0, 1.05])\n",
    "plt.xlabel('False Positive Rate')\n",
    "plt.ylabel('True Positive Rate')\n",
    "plt.title('Receiver Operating Characteristic (ROC)')\n",
    "plt.legend(loc='lower right')\n",
    "plt.show()"
   ]
  },
  {
   "cell_type": "markdown",
   "id": "c1f21c03",
   "metadata": {},
   "source": [
    "O modelo apresentou excelente separação entre as classes."
   ]
  },
  {
   "cell_type": "code",
   "execution_count": 114,
   "id": "2d543d7b",
   "metadata": {},
   "outputs": [
    {
     "data": {
      "image/png": "[encoded data removed]",
      "text/plain": [
       "<Figure size 800x600 with 1 Axes>"
      ]
     },
     "metadata": {},
     "output_type": "display_data"
    }
   ],
   "source": [
    "# plot confusion matrix\n",
    "y_lr_pred, y_lr_pred_proba = y_test, best_lr_model.predict(X_test)\n",
    "plot_confusion_matrix(y_lr_pred, y_lr_pred_proba)"
   ]
  },
  {
   "cell_type": "markdown",
   "id": "f9eeb71b",
   "metadata": {},
   "source": [
    "### **Saving Models**"
   ]
  },
  {
   "cell_type": "code",
   "execution_count": 115,
   "id": "10d74d2d",
   "metadata": {},
   "outputs": [],
   "source": [
    "# Saving regression model\n",
    "import pickle\n",
    "\n",
    "model_name = 'logit_model.pkl'\n",
    "model_path = os.path.join(root_path, src_dir, models_dir, ml_dir, model_name)\n",
    "\n",
    "with open(model_path, 'wb') as file:\n",
    "    pickle.dump(best_lr_model, file)"
   ]
  },
  {
   "cell_type": "markdown",
   "id": "fb5edbf1",
   "metadata": {},
   "source": [
    "---"
   ]
  }
 ],
 "metadata": {
  "kernelspec": {
   "display_name": "Python 3",
   "language": "python",
   "name": "python3"
  },
  "language_info": {
   "codemirror_mode": {
    "name": "ipython",
    "version": 3
   },
   "file_extension": ".py",
   "mimetype": "text/x-python",
   "name": "python",
   "nbconvert_exporter": "python",
   "pygments_lexer": "ipython3",
   "version": "3.11.9"
  }
 },
 "nbformat": 4,
 "nbformat_minor": 5
}
