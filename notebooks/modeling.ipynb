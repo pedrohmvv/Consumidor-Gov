{
 "cells": [
  {
   "cell_type": "code",
   "execution_count": 2,
   "id": "04dc89e2",
   "metadata": {},
   "outputs": [],
   "source": [
    "import sys\n",
    "import os\n",
    "\n",
    "# Adiciona o diretório raiz do projeto ao sys.path\n",
    "sys.path.append(os.path.abspath(os.path.join(os.getcwd(), '..')))"
   ]
  },
  {
   "cell_type": "markdown",
   "id": "5714f1f6",
   "metadata": {},
   "source": [
    "# **Modelagem**\n",
    "\n",
    "Neste notebook constam todos os trabalhos de preparação de dados e modelagem com o objetivo de desenvolver o modelo final, com o mais performático.\n",
    "\n",
    "### **Dados**\n",
    "\n",
    "|    | label | clean_response                                                                                                                                                                                                                      | clean_report                                                                                                                                                                                           | nota_logit | nota_tree | consumidor_respondeu | dias_para_resposta | respondido | uf |\n",
    "|----|-------|-----------------------------------------------------------------------------------------------------------------------------------------------------------------------------------------------|--------------------------------------------------------------------------------------------------------------------------------------------------------------------------------------------------------|------------|-----------|-----------------------|---------------------|-------------|----|\n",
    "\n",
    "Aonde:\n",
    "- ``label``: Indica se a reclamação foi resolvida ou não. (1 - Resolvido / 0 - Não Resolvido) - **Alvo**.\n",
    "- ``clean_response``: Texto limpo da resposta da empresa à reclamação.\n",
    "- ``clean_report``: Reclamação do consumidor.\n",
    "- ``nota_logit``: Nota da reclamação no formato adequado para modelos vetoriais.\n",
    "- ``nota_tree``: Nota da reclamação no formato adequado para modelos baseados em árvore.\n",
    "- ``consumidor_respondeu``: Indica se o consumidor respondeu à resposta da empresa.\n",
    "- ``dias_para_resposta``: Indica quantos dias a empresa levou para responder.\n",
    "- ``respondido``: Indica se a empresa respondeu.\n",
    "- ``uf``: Estado do consumidor.\n",
    "\n",
    "### **Objetivo**\n",
    "\n",
    "Desenvolver um modelo de Machine Learning para classificar e calcular a probabilidade de uma reclamação ser resolvida ou não a partir desses dados.\n",
    "\n",
    "Modelos a testar:\n",
    "- ANN (Redes Neurais Artificiais)\n",
    "- Regressão Logística\n"
   ]
  },
  {
   "cell_type": "markdown",
   "id": "3c988039",
   "metadata": {},
   "source": [
    "---"
   ]
  },
  {
   "cell_type": "markdown",
   "id": "7b6a0b4b",
   "metadata": {},
   "source": [
    "### **Preparação de Ambiente**"
   ]
  },
  {
   "cell_type": "code",
   "execution_count": 3,
   "id": "b45e4d02",
   "metadata": {},
   "outputs": [],
   "source": [
    "# Import modules\n",
    "from pandas import read_csv\n",
    "import os"
   ]
  },
  {
   "cell_type": "code",
   "execution_count": 4,
   "id": "36cf7ca7",
   "metadata": {},
   "outputs": [],
   "source": [
    "# Env vars\n",
    "data_dir = 'data'\n",
    "ml_dir = 'ml'\n",
    "file_name = 'consumidor_gov_brasil_ml.csv'\n",
    "# Project root path\n",
    "root_path = os.path.dirname(os.getcwd())\n",
    "# Full paths\n",
    "data_path = os.path.join(root_path, data_dir, ml_dir)\n",
    "file_path = os.path.join(data_path, file_name)"
   ]
  },
  {
   "cell_type": "code",
   "execution_count": 5,
   "id": "3f2e71f1",
   "metadata": {},
   "outputs": [
    {
     "data": {
      "text/html": [
       "<div>\n",
       "<style scoped>\n",
       "    .dataframe tbody tr th:only-of-type {\n",
       "        vertical-align: middle;\n",
       "    }\n",
       "\n",
       "    .dataframe tbody tr th {\n",
       "        vertical-align: top;\n",
       "    }\n",
       "\n",
       "    .dataframe thead th {\n",
       "        text-align: right;\n",
       "    }\n",
       "</style>\n",
       "<table border=\"1\" class=\"dataframe\">\n",
       "  <thead>\n",
       "    <tr style=\"text-align: right;\">\n",
       "      <th></th>\n",
       "      <th>label</th>\n",
       "      <th>clean_response</th>\n",
       "      <th>clean_report</th>\n",
       "      <th>nota_logit</th>\n",
       "      <th>nota_tree</th>\n",
       "      <th>consumidor_respondeu</th>\n",
       "      <th>dias_para_resposta</th>\n",
       "      <th>respondido</th>\n",
       "      <th>uf</th>\n",
       "      <th>company_name</th>\n",
       "    </tr>\n",
       "  </thead>\n",
       "  <tbody>\n",
       "    <tr>\n",
       "      <th>0</th>\n",
       "      <td>0</td>\n",
       "      <td>flavia tudo bem acabamos responder solicitação...</td>\n",
       "      <td>solicito imediata retirada negativação indevid...</td>\n",
       "      <td>2</td>\n",
       "      <td>2</td>\n",
       "      <td>True</td>\n",
       "      <td>0</td>\n",
       "      <td>1</td>\n",
       "      <td>RS</td>\n",
       "      <td>Serasa Experian</td>\n",
       "    </tr>\n",
       "    <tr>\n",
       "      <th>1</th>\n",
       "      <td>0</td>\n",
       "      <td>karina tudo bem acabamos responder solicitação...</td>\n",
       "      <td>solicito retirada imediata dívida prescrita ai...</td>\n",
       "      <td>1</td>\n",
       "      <td>1</td>\n",
       "      <td>True</td>\n",
       "      <td>0</td>\n",
       "      <td>1</td>\n",
       "      <td>PR</td>\n",
       "      <td>Serasa Experian</td>\n",
       "    </tr>\n",
       "    <tr>\n",
       "      <th>2</th>\n",
       "      <td>1</td>\n",
       "      <td>emerson tudo bem acabamos responder solicitaçã...</td>\n",
       "      <td>solicito imediata retirada negativacão indevid...</td>\n",
       "      <td>1</td>\n",
       "      <td>1</td>\n",
       "      <td>True</td>\n",
       "      <td>0</td>\n",
       "      <td>1</td>\n",
       "      <td>AM</td>\n",
       "      <td>Serasa Experian</td>\n",
       "    </tr>\n",
       "    <tr>\n",
       "      <th>3</th>\n",
       "      <td>0</td>\n",
       "      <td>washington tudo bem acabamos responder solicit...</td>\n",
       "      <td>solicito retirada imediata cobrança dívidas ci...</td>\n",
       "      <td>3</td>\n",
       "      <td>3</td>\n",
       "      <td>True</td>\n",
       "      <td>0</td>\n",
       "      <td>1</td>\n",
       "      <td>AP</td>\n",
       "      <td>Serasa Experian</td>\n",
       "    </tr>\n",
       "    <tr>\n",
       "      <th>4</th>\n",
       "      <td>1</td>\n",
       "      <td>olá tudo bem informamos manifestação respondid...</td>\n",
       "      <td>realizei pagamento acordo quitar dívida descon...</td>\n",
       "      <td>1</td>\n",
       "      <td>1</td>\n",
       "      <td>True</td>\n",
       "      <td>0</td>\n",
       "      <td>1</td>\n",
       "      <td>SP</td>\n",
       "      <td>Cartões Renner (Realize CFI)</td>\n",
       "    </tr>\n",
       "  </tbody>\n",
       "</table>\n",
       "</div>"
      ],
      "text/plain": [
       "   label                                     clean_response  \\\n",
       "0      0  flavia tudo bem acabamos responder solicitação...   \n",
       "1      0  karina tudo bem acabamos responder solicitação...   \n",
       "2      1  emerson tudo bem acabamos responder solicitaçã...   \n",
       "3      0  washington tudo bem acabamos responder solicit...   \n",
       "4      1  olá tudo bem informamos manifestação respondid...   \n",
       "\n",
       "                                        clean_report  nota_logit  nota_tree  \\\n",
       "0  solicito imediata retirada negativação indevid...           2          2   \n",
       "1  solicito retirada imediata dívida prescrita ai...           1          1   \n",
       "2  solicito imediata retirada negativacão indevid...           1          1   \n",
       "3  solicito retirada imediata cobrança dívidas ci...           3          3   \n",
       "4  realizei pagamento acordo quitar dívida descon...           1          1   \n",
       "\n",
       "   consumidor_respondeu  dias_para_resposta  respondido  uf  \\\n",
       "0                  True                   0           1  RS   \n",
       "1                  True                   0           1  PR   \n",
       "2                  True                   0           1  AM   \n",
       "3                  True                   0           1  AP   \n",
       "4                  True                   0           1  SP   \n",
       "\n",
       "                   company_name  \n",
       "0               Serasa Experian  \n",
       "1               Serasa Experian  \n",
       "2               Serasa Experian  \n",
       "3               Serasa Experian  \n",
       "4  Cartões Renner (Realize CFI)  "
      ]
     },
     "execution_count": 5,
     "metadata": {},
     "output_type": "execute_result"
    }
   ],
   "source": [
    "data = read_csv(file_path, sep='|', encoding='utf-8', compression='gzip').dropna(subset=['clean_report'])\n",
    "data.head()"
   ]
  },
  {
   "cell_type": "code",
   "execution_count": 6,
   "id": "e842224b",
   "metadata": {},
   "outputs": [],
   "source": [
    "\"\"\" Import Modules \"\"\"\n",
    "import os\n",
    "# Data Manipulation\n",
    "from pandas import read_csv\n",
    "import numpy as np\n",
    "# Text Processing\n",
    "import re\n",
    "import unicodedata\n",
    "import nltk\n",
    "from nltk.corpus import stopwords\n",
    "import gensim\n",
    "# Machine Learning\n",
    "from sklearn.preprocessing import OneHotEncoder, StandardScaler\n",
    "from sklearn.base import BaseEstimator, TransformerMixin\n",
    "from sklearn.feature_extraction.text import TfidfVectorizer\n",
    "from sklearn.pipeline import Pipeline\n",
    "from sklearn.compose import ColumnTransformer\n",
    "from sklearn.model_selection import train_test_split\n",
    "from sklearn.metrics import accuracy_score\n",
    "from sklearn.metrics import classification_report\n",
    "# Deep Learning\n",
    "import tensorflow as tf\n",
    "from tensorflow.keras.models import Sequential\n",
    "from tensorflow.keras.layers import Dense, InputLayer, Dropout\n",
    "from tensorflow.keras.regularizers import l2\n",
    "from tensorflow.keras.callbacks import EarlyStopping\n",
    "from tensorflow.keras.optimizers import Adam\n"
   ]
  },
  {
   "cell_type": "code",
   "execution_count": 7,
   "id": "198e2ff6",
   "metadata": {},
   "outputs": [
    {
     "name": "stderr",
     "output_type": "stream",
     "text": [
      "[nltk_data] Downloading package stopwords to\n",
      "[nltk_data]     C:\\Users\\user/nltk_data...\n",
      "[nltk_data]   Package stopwords is already up-to-date!\n",
      "[nltk_data] Downloading package punkt to C:\\Users\\user/nltk_data...\n",
      "[nltk_data]   Package punkt is already up-to-date!\n"
     ]
    }
   ],
   "source": [
    "# Downloading resources\n",
    "nltk.download('stopwords')\n",
    "nltk.download('punkt')\n",
    "\n",
    "stop_words = set(stopwords.words('portuguese'))"
   ]
  },
  {
   "cell_type": "markdown",
   "id": "04877d9d",
   "metadata": {},
   "source": [
    "---"
   ]
  },
  {
   "cell_type": "markdown",
   "id": "3617a410",
   "metadata": {},
   "source": [
    "### **Tratamento Textual:**\n",
    "\n",
    "1. Remoção de **acentos e caracteres especiais**  \n",
    "2. Remoção de **stopwords**  \n",
    "3. **Tokenização**  \n",
    "4. **Lematização**  \n",
    "5. **Vetorização** utilizando `Word2Vec`"
   ]
  },
  {
   "cell_type": "markdown",
   "id": "a198a966",
   "metadata": {},
   "source": [
    "---\n",
    "\n",
    "### **Word2Vec – Representação Vetorial de Palavras**\n",
    "\n",
    "É uma técnica de **aprendizado não supervisionado** que transforma palavras em **vetores numéricos densos**, capturando **significados semânticos** e **relações contextuais**.\n",
    "Diferente do TF-IDF, que é baseado em contagem, o Word2Vec aprende a **representar palavras próximas em contexto com vetores próximos no espaço vetorial**.\n",
    "\n",
    "---\n",
    "\n",
    "### **Como funciona?**\n",
    "\n",
    "Baseia-se em uma **rede neural simples** com uma única camada oculta. Existem dois modelos principais:\n",
    "\n",
    "#### 1. **CBOW (Continuous Bag of Words)**\n",
    "\n",
    "Prediz a palavra alvo a partir do **contexto** (palavras vizinhas).\n",
    "\n",
    "Exemplo:\n",
    "Para a frase \"o gato sentou no tapete\", o CBOW tenta prever `\"sentou\"` usando `\"o\"`, `\"gato\"`, `\"no\"`, `\"tapete\"`.\n",
    "\n",
    "#### 2. **Skip-gram**\n",
    "\n",
    "Faz o oposto: dado uma palavra, tenta prever as **palavras do contexto**.\n",
    "\n",
    "Exemplo:\n",
    "Dado `\"sentou\"`, tenta prever `\"o\"`, `\"gato\"`, `\"no\"`, `\"tapete\"`.\n",
    "\n",
    "---\n",
    "\n",
    "### **Objetivo de treinamento**:\n",
    "\n",
    "A rede é treinada para **maximizar a probabilidade de prever palavras corretas do contexto**.\n",
    "Após o treinamento, a camada oculta da rede armazena os **vetores de palavras**.\n",
    "\n",
    "---\n",
    "\n",
    "### **Propriedades úteis**:\n",
    "\n",
    "* Palavras com **significados semelhantes** têm vetores **semelhantes** (pequena distância euclidiana ou alto cosseno de similaridade).\n",
    "* Capaz de capturar **relações semânticas e sintáticas**:\n",
    "\n",
    "  Exemplo clássico:\n",
    "\n",
    "  ```\n",
    "  vetor(\"rei\") - vetor(\"homem\") + vetor(\"mulher\") ≈ vetor(\"rainha\")\n",
    "  ```\n"
   ]
  },
  {
   "cell_type": "code",
   "execution_count": 8,
   "id": "21c56061",
   "metadata": {},
   "outputs": [],
   "source": [
    "class TextCleaner(BaseEstimator, TransformerMixin):\n",
    "    \"\"\"Custom transformer to clean and preprocess text data.\"\"\"\n",
    "    \n",
    "    def __init__(self, remove_accents=False):\n",
    "        self.remove_accents = remove_accents\n",
    "\n",
    "    def clean_text(self, text: str) -> str:\n",
    "        \"\"\"Removes unwanted characters and normalizes the text.\"\"\"\n",
    "        text = text.lower()\n",
    "        text = text.replace('\\n', ' ')\n",
    "        text = re.sub(r'[^a-záàâãéèêíïóôõöúçñü\\s]', '', text, flags=re.IGNORECASE)\n",
    "        if self.remove_accents:\n",
    "            text = unicodedata.normalize('NFKD', text).encode('ASCII', 'ignore').decode('utf-8')\n",
    "            text = re.sub(r'[^a-z\\s]', '', text)\n",
    "        return text\n",
    "\n",
    "    def preprocess_text(self, text: str) -> str:\n",
    "        \"\"\"Preprocesses the text by removing stop words and cleaning.\"\"\"\n",
    "        clean_text = self.clean_text(text)\n",
    "        tokens = [word for word in clean_text.split() if word not in stop_words]\n",
    "        return ' '.join(tokens)\n",
    "\n",
    "    def fit(self, X, y=None) -> 'TextCleaner':\n",
    "        return self\n",
    "\n",
    "    def transform(self, X) -> list:\n",
    "        return [self.preprocess_text(text) for text in X]"
   ]
  },
  {
   "cell_type": "code",
   "execution_count": 9,
   "id": "b53cf0e1",
   "metadata": {},
   "outputs": [],
   "source": [
    "class Word2VecProcessor:\n",
    "    \n",
    "    def __init__(self, word2vec_model):\n",
    "        \"\"\"Initializes the processor with the Word2Vec model.\"\"\"\n",
    "        self.word2vec_model = word2vec_model\n",
    "\n",
    "    def tokenize(self, text):\n",
    "        \"\"\"Tokenizes the text, keeping only alphabetic words.\"\"\"\n",
    "        return [word for word in text.split() if word.isalpha()]\n",
    "\n",
    "    def get_word2vec_vector(self, tokens):\n",
    "        \"\"\"Generates the average Word2Vec vector for a list of tokens.\"\"\"\n",
    "        vec = np.zeros(self.word2vec_model.vector_size)\n",
    "        count = 0\n",
    "        for word in tokens:\n",
    "            if word in self.word2vec_model.wv:\n",
    "                vec += self.word2vec_model.wv[word]\n",
    "                count += 1\n",
    "        if count > 0:\n",
    "            vec /= count\n",
    "        return vec\n",
    "\n",
    "class Word2VecVectorizer(BaseEstimator, TransformerMixin):\n",
    "    def __init__(self, word2vec_model):\n",
    "        self.word2vec_model = word2vec_model\n",
    "        self.word2vec_processor = Word2VecProcessor(word2vec_model)\n",
    "\n",
    "    def fit(self, X, y=None):\n",
    "        \"\"\"Fit method, required for scikit-learn compatibility.\"\"\"\n",
    "        return self\n",
    "\n",
    "    def transform(self, X):\n",
    "        \"\"\"Transforms texts into average Word2Vec vectors.\"\"\"\n",
    "        return np.array([\n",
    "            self.word2vec_processor.get_word2vec_vector(\n",
    "                self.word2vec_processor.tokenize(text)\n",
    "            ) for text in X\n",
    "        ])"
   ]
  },
  {
   "cell_type": "code",
   "execution_count": 10,
   "id": "69d48517",
   "metadata": {},
   "outputs": [],
   "source": [
    "# Word2Vec Model\n",
    "w2vec_processor = Word2VecProcessor(word2vec_model=None)\n",
    "# Tokenize the reports and responses\n",
    "tokenized_reports = data['clean_report'].apply(w2vec_processor.tokenize)\n",
    "tokenized_responses = data['clean_response'].apply(w2vec_processor.tokenize)\n",
    "# Combine tokenized reports and responses for Word2Vec training\n",
    "corpus = tokenized_reports.tolist() + tokenized_responses.tolist()\n",
    "word2vec_model = gensim.models.Word2Vec(sentences=corpus, vector_size=100, window=5, min_count=2, workers=4)\n",
    "\n",
    "w2vec_processor.word2vec_model = word2vec_model"
   ]
  },
  {
   "cell_type": "markdown",
   "id": "83fd7a85",
   "metadata": {},
   "source": [
    "#### **Salvando modelo Word2Vec**"
   ]
  },
  {
   "cell_type": "code",
   "execution_count": 11,
   "id": "041cfbe7",
   "metadata": {},
   "outputs": [],
   "source": [
    "src = 'src'\n",
    "models = 'models'\n",
    "\n",
    "w2vec_path = os.path.join(root_path, src, models, ml_dir, 'files', 'word2vec.model')\n",
    "\n",
    "word2vec_model.save(w2vec_path)"
   ]
  },
  {
   "cell_type": "code",
   "execution_count": 12,
   "id": "897374fa",
   "metadata": {},
   "outputs": [],
   "source": [
    "# TF-IDF Pipeline\n",
    "\"\"\"\n",
    "pipeline_tfidf = Pipeline([\n",
    "    ('preprocessador', TextCleaner(remove_accents=False)),\n",
    "    ('vetorizador', TfidfVectorizer(max_features=5000, max_df=0.9, min_df=5))\n",
    "])\n",
    "\"\"\"\n",
    "\n",
    "# Word2Vec Pipeline\n",
    "pipeline_w2v = Pipeline([\n",
    "    ('preprocessador', TextCleaner(remove_accents=False)),\n",
    "    ('vetorizador', Word2VecVectorizer(word2vec_model=word2vec_model))\n",
    "])"
   ]
  },
  {
   "cell_type": "markdown",
   "id": "8c71bcd8",
   "metadata": {},
   "source": [
    "Aqui, além da pipeline do Word2Vec, também aplico 2 técnicas de normalização de dados:\n",
    "\n",
    "- **StandardScaler** (Padronização): padroniza as variáveis numéricas, transformando os dados para que tenham **média 0** e **desvio padrão 1**.\n",
    "\n",
    "- **OneHotEncoder** (Codificação One-Hot): transforma variáveis categóricas em vetores binários, criando uma nova coluna para cada categoria distinta.\n"
   ]
  },
  {
   "cell_type": "code",
   "execution_count": 13,
   "id": "877fffc0",
   "metadata": {},
   "outputs": [],
   "source": [
    "# Colocando os pipelines em um ColumnTransformer\n",
    "num_cols = ['nota_logit']\n",
    "cat_cols = ['uf']\n",
    "\n",
    "preprocessor = ColumnTransformer(\n",
    "    transformers=[\n",
    "        #('tfidf_report', pipeline_tfidf, 'clean_report'),\n",
    "        #('tfidf_response', pipeline_tfidf, 'clean_response'),\n",
    "        ('w2v_report', pipeline_w2v, 'clean_report'),\n",
    "        ('w2v_response', pipeline_w2v, 'clean_response'),\n",
    "        ('num', StandardScaler(), num_cols),\n",
    "        ('cat', OneHotEncoder(handle_unknown='ignore'), cat_cols)\n",
    "    ]\n",
    ")"
   ]
  },
  {
   "cell_type": "markdown",
   "id": "6676c448",
   "metadata": {},
   "source": [
    "### **Separação de Variáveis**\n",
    "\n",
    "Aqui, separo as variáveis preditoras da alvo."
   ]
  },
  {
   "cell_type": "code",
   "execution_count": 14,
   "id": "c49eea6a",
   "metadata": {},
   "outputs": [],
   "source": [
    "from src.models.transformers.preprocessor import Preprocessor\n",
    "preprocessor = Preprocessor()\n",
    "\n",
    "# Target var\n",
    "Y = 'label'\n",
    "# Predictive vars\n",
    "X = data.columns.difference([Y, 'nota_tree'])\n",
    "\n",
    "labels = data[Y].values \n",
    "# Processing data\n",
    "processed_data = preprocessor.transform(data[X])"
   ]
  },
  {
   "cell_type": "code",
   "execution_count": 15,
   "id": "87104b25",
   "metadata": {},
   "outputs": [
    {
     "data": {
      "text/plain": [
       "(31675, 228)"
      ]
     },
     "execution_count": 15,
     "metadata": {},
     "output_type": "execute_result"
    }
   ],
   "source": [
    "# Shape\n",
    "processed_data.shape"
   ]
  },
  {
   "cell_type": "code",
   "execution_count": 16,
   "id": "7d2fbbfb",
   "metadata": {},
   "outputs": [
    {
     "data": {
      "text/plain": [
       "Index(['clean_report', 'clean_response', 'company_name',\n",
       "       'consumidor_respondeu', 'dias_para_resposta', 'nota_logit',\n",
       "       'respondido', 'uf'],\n",
       "      dtype='object')"
      ]
     },
     "execution_count": 16,
     "metadata": {},
     "output_type": "execute_result"
    }
   ],
   "source": [
    "X"
   ]
  },
  {
   "cell_type": "markdown",
   "id": "59f6b11e",
   "metadata": {},
   "source": [
    "### **Separação de Treino x Teste**\n",
    "\n",
    "- **`test_size=0.2`**: Define a proporção dos dados que será destinada ao conjunto de teste. Neste caso, 20% dos dados são usados para teste e 80% para treinamento.\n",
    "  \n",
    "- **`stratify=labels`**: Garante que a divisão dos dados mantenha a distribuição das classes (labels) em ambos os conjuntos de treino e teste. Isso é importante, principalmente em problemas de classificação desbalanceada, onde algumas classes podem ser muito mais frequentes que outras.\n",
    "  \n",
    "- **`random_state=42`**: Define a semente (seed) do gerador de números aleatórios para que a divisão seja reprodutível. Isso significa que, ao rodar o código várias vezes, os dados serão divididos da mesma maneira cada vez."
   ]
  },
  {
   "cell_type": "code",
   "execution_count": 17,
   "id": "0737253c",
   "metadata": {},
   "outputs": [],
   "source": [
    "# Data split\n",
    "X_train, X_test, y_train, y_test = train_test_split(\n",
    "    processed_data,\n",
    "    labels,\n",
    "    test_size=0.2,        \n",
    "    stratify=labels,      \n",
    "    random_state=42   \n",
    ")"
   ]
  },
  {
   "cell_type": "markdown",
   "id": "a9f4188f",
   "metadata": {},
   "source": [
    "### **Modelagem**\n",
    "\n",
    "Aqui, inicio a parte da modelagem preditiva, primeiramente por um modelo de Rede Neural Artificial, da lib `keras`. "
   ]
  },
  {
   "cell_type": "code",
   "execution_count": 50,
   "id": "8b607286",
   "metadata": {},
   "outputs": [],
   "source": [
    "# Confusion Matrix\n",
    "from sklearn.metrics import confusion_matrix\n",
    "import seaborn as sns\n",
    "import matplotlib.pyplot as plt\n",
    "\n",
    "labels_map = {0: 'Não Resolvido', 1: 'Resolvido'}\n",
    "\n",
    "def plot_confusion_matrix(y_true, y_pred):\n",
    "    cm = confusion_matrix(y_true, y_pred)\n",
    "    plt.figure(figsize=(8, 6))\n",
    "    sns.heatmap(\n",
    "        cm, \n",
    "        annot=True, \n",
    "        fmt='d', \n",
    "        cmap='Blues', \n",
    "        cbar=False,\n",
    "        xticklabels=labels_map.values(),\n",
    "        yticklabels=labels_map.values()\n",
    "    )\n",
    "    plt.xlabel('Predicted')\n",
    "    plt.ylabel('True')\n",
    "    plt.title('Confusion Matrix')\n",
    "    plt.show()\n",
    "    return cm"
   ]
  },
  {
   "cell_type": "code",
   "execution_count": 18,
   "id": "bae09a4f",
   "metadata": {},
   "outputs": [],
   "source": [
    "# Base model\n",
    "model = Sequential()"
   ]
  },
  {
   "cell_type": "markdown",
   "id": "cd8e0d97",
   "metadata": {},
   "source": [
    "#### **Hiperparâmetros**\n",
    "\n",
    "- `InputLayer`: Camada de entrada, com a quantidade de _perceptrons_ correspondente a quantidade de features.\n",
    "\n",
    "- `Dense`: Camada profunda. 1 camada com 64 _perceptrons_ e mais uma com 32.\n",
    "\n",
    "- `activation`: Função de ativação de cada _perceptron_ da camada profunda. A camada de saída possui apenas 1 _perceptron_ e função sigmoide, por ser classificação binária."
   ]
  },
  {
   "cell_type": "code",
   "execution_count": 19,
   "id": "8213c449",
   "metadata": {},
   "outputs": [],
   "source": [
    "# Entry layer\n",
    "model.add(InputLayer(shape=(processed_data.shape[1],))) \n",
    "# Deep layers\n",
    "model.add(Dense(64, activation='relu'))\n",
    "model.add(Dense(32, activation='relu'))\n",
    "# Exiting layer\n",
    "model.add(Dense(1, activation='sigmoid'))"
   ]
  },
  {
   "cell_type": "code",
   "execution_count": 20,
   "id": "2d6c92b4",
   "metadata": {},
   "outputs": [],
   "source": [
    "# Compile\n",
    "model.compile(optimizer='adam', loss='binary_crossentropy', metrics=['accuracy'])"
   ]
  },
  {
   "cell_type": "markdown",
   "id": "5b9aba8e",
   "metadata": {},
   "source": [
    "#### **Callback**\n",
    "Um callback é uma função ou objeto que é chamado automaticamente durante o treinamento do modelo, em momentos específicos, para realizar uma ação ou modificar o comportamento do treinamento. Ele permite **monitorar** e **interromper** o treinamento com base em condições específicas, **salvar modelos**, **ajustar parâmetros**, entre outras funcionalidades.\n",
    "\n",
    "* **`EarlyStopping`**: Um tipo de callback que monitora a **perda de validação** (`val_loss`) e interrompe o treinamento quando ela não melhora por um número de épocas consecutivas. Ele é usado para **prevenir o sobreajuste** e otimizar o tempo de treinamento.\n",
    "\n",
    "* **`monitor`**: A métrica que o callback irá acompanhar durante o treinamento, como no caso, a **perda de validação** - `val_loss`.\n",
    "\n",
    "* **`patience`**: O número de épocas que o modelo irá esperar sem melhorar a métrica monitorada antes de interromper o treinamento.\n",
    "\n",
    "* **`restore_best_weights`**: Quando configurado como `True`, restaura os **pesos da melhor época** do treinamento (aquela com a menor **val\\_loss** ou maior **acurácia**), garantindo que o modelo final não tenha os pesos de uma época que não representem a melhor performance."
   ]
  },
  {
   "cell_type": "code",
   "execution_count": 21,
   "id": "3e0837a5",
   "metadata": {},
   "outputs": [],
   "source": [
    "from tensorflow.keras.callbacks import EarlyStopping\n",
    "\n",
    "# Configurando o EarlyStopping\n",
    "early_stopping = EarlyStopping(\n",
    "                    monitor='val_loss',  \n",
    "                    patience=3,          \n",
    "                    restore_best_weights=True\n",
    ")"
   ]
  },
  {
   "cell_type": "markdown",
   "id": "9e741ebf",
   "metadata": {},
   "source": [
    "#### **Treinamento do Modelo**\n",
    "\n",
    "* **`epochs`**: O número de **épocas** (iterações) que o modelo passará pelos dados de treinamento. Cada época consiste em uma passagem por todos os dados de treinamento, que no caso serão 10.\n",
    "\n",
    "* **`batch_size`**: O número de exemplos que o modelo processará em cada iteração de treinamento antes de atualizar os pesos. Um tamanho de batch maior geralmente resulta em um treinamento mais eficiente, mas pode exigir mais memória.\n",
    "\n",
    "* **`validation_data`**: Os dados de **validação** usados para avaliar o desempenho do modelo após cada época. Isso ajuda a verificar se o modelo está generalizando bem para dados que não foram usados durante o treinamento."
   ]
  },
  {
   "cell_type": "code",
   "execution_count": 22,
   "id": "32613b8b",
   "metadata": {},
   "outputs": [
    {
     "name": "stdout",
     "output_type": "stream",
     "text": [
      "Epoch 1/10\n",
      "\u001b[1m396/396\u001b[0m \u001b[32m━━━━━━━━━━━━━━━━━━━━\u001b[0m\u001b[37m\u001b[0m \u001b[1m3s\u001b[0m 4ms/step - accuracy: 0.8096 - loss: 0.4260 - val_accuracy: 0.8980 - val_loss: 0.2839\n",
      "Epoch 2/10\n",
      "\u001b[1m396/396\u001b[0m \u001b[32m━━━━━━━━━━━━━━━━━━━━\u001b[0m\u001b[37m\u001b[0m \u001b[1m1s\u001b[0m 3ms/step - accuracy: 0.8909 - loss: 0.2971 - val_accuracy: 0.8976 - val_loss: 0.2808\n",
      "Epoch 3/10\n",
      "\u001b[1m396/396\u001b[0m \u001b[32m━━━━━━━━━━━━━━━━━━━━\u001b[0m\u001b[37m\u001b[0m \u001b[1m1s\u001b[0m 2ms/step - accuracy: 0.8950 - loss: 0.2825 - val_accuracy: 0.8922 - val_loss: 0.2982\n",
      "Epoch 4/10\n",
      "\u001b[1m396/396\u001b[0m \u001b[32m━━━━━━━━━━━━━━━━━━━━\u001b[0m\u001b[37m\u001b[0m \u001b[1m1s\u001b[0m 2ms/step - accuracy: 0.8953 - loss: 0.2831 - val_accuracy: 0.8977 - val_loss: 0.2827\n",
      "Epoch 5/10\n",
      "\u001b[1m396/396\u001b[0m \u001b[32m━━━━━━━━━━━━━━━━━━━━\u001b[0m\u001b[37m\u001b[0m \u001b[1m1s\u001b[0m 2ms/step - accuracy: 0.9002 - loss: 0.2680 - val_accuracy: 0.8990 - val_loss: 0.2798\n",
      "Epoch 6/10\n",
      "\u001b[1m396/396\u001b[0m \u001b[32m━━━━━━━━━━━━━━━━━━━━\u001b[0m\u001b[37m\u001b[0m \u001b[1m1s\u001b[0m 2ms/step - accuracy: 0.8990 - loss: 0.2697 - val_accuracy: 0.8983 - val_loss: 0.2799\n",
      "Epoch 7/10\n",
      "\u001b[1m396/396\u001b[0m \u001b[32m━━━━━━━━━━━━━━━━━━━━\u001b[0m\u001b[37m\u001b[0m \u001b[1m1s\u001b[0m 2ms/step - accuracy: 0.9032 - loss: 0.2559 - val_accuracy: 0.8999 - val_loss: 0.2799\n",
      "Epoch 8/10\n",
      "\u001b[1m396/396\u001b[0m \u001b[32m━━━━━━━━━━━━━━━━━━━━\u001b[0m\u001b[37m\u001b[0m \u001b[1m1s\u001b[0m 1ms/step - accuracy: 0.9035 - loss: 0.2570 - val_accuracy: 0.8983 - val_loss: 0.2819\n"
     ]
    }
   ],
   "source": [
    "# Training\n",
    "history = model.fit(\n",
    "    X_train, y_train, \n",
    "    epochs=10,\n",
    "    batch_size=64,\n",
    "    validation_data=(X_test, y_test),\n",
    "    verbose=1,\n",
    "    callbacks=[early_stopping]\n",
    ")"
   ]
  },
  {
   "cell_type": "code",
   "execution_count": 23,
   "id": "a7780c84",
   "metadata": {},
   "outputs": [
    {
     "name": "stdout",
     "output_type": "stream",
     "text": [
      "Test accuracy: 89.90%\n"
     ]
    }
   ],
   "source": [
    "# Avaliação no conjunto de teste\n",
    "test_loss, test_accuracy = model.evaluate(X_test, y_test, verbose=0)\n",
    "print(f'Test accuracy: {test_accuracy * 100:.2f}%')"
   ]
  },
  {
   "cell_type": "code",
   "execution_count": 24,
   "id": "0fcfe9f9",
   "metadata": {},
   "outputs": [
    {
     "name": "stdout",
     "output_type": "stream",
     "text": [
      "\u001b[1m198/198\u001b[0m \u001b[32m━━━━━━━━━━━━━━━━━━━━\u001b[0m\u001b[37m\u001b[0m \u001b[1m0s\u001b[0m 1ms/step\n",
      "              precision    recall  f1-score   support\n",
      "\n",
      "           0       0.89      0.91      0.90      3126\n",
      "           1       0.91      0.89      0.90      3209\n",
      "\n",
      "    accuracy                           0.90      6335\n",
      "   macro avg       0.90      0.90      0.90      6335\n",
      "weighted avg       0.90      0.90      0.90      6335\n",
      "\n"
     ]
    }
   ],
   "source": [
    "# Predictions\n",
    "y_pred = (model.predict(X_test) > 0.5).astype(\"int32\")\n",
    "\n",
    "print(classification_report(y_test, y_pred))\n"
   ]
  },
  {
   "cell_type": "code",
   "execution_count": 25,
   "id": "3095fbd5",
   "metadata": {},
   "outputs": [],
   "source": [
    "import matplotlib.pyplot as plt\n",
    "\n",
    "def plot_history(history):\n",
    "    fig, ax = plt.subplots(1, 2, figsize=(12, 4))\n",
    "    ax[0].plot(history.history['accuracy'], label='Train Accuracy')\n",
    "    ax[0].plot(history.history['val_accuracy'], label='Validation Accuracy')\n",
    "    ax[0].set_title('Model Accuracy')\n",
    "    ax[0].set_ylabel('Accuracy')\n",
    "    ax[0].set_xlabel('Epoch')\n",
    "    ax[0].legend()\n",
    "    ax[1].plot(history.history['loss'], label='Train Loss')\n",
    "    ax[1].plot(history.history['val_loss'], label='Validation Loss')\n",
    "    ax[1].set_title('Model Loss')\n",
    "    ax[1].set_ylabel('Loss')\n",
    "    ax[1].set_xlabel('Epoch')\n",
    "    ax[1].legend()\n",
    "    plt.show()"
   ]
  },
  {
   "cell_type": "code",
   "execution_count": 26,
   "id": "09d5438f",
   "metadata": {},
   "outputs": [
    {
     "data": {
      "image/png": "[encoded data removed]",
      "text/plain": [
       "<Figure size 1200x400 with 2 Axes>"
      ]
     },
     "metadata": {},
     "output_type": "display_data"
    }
   ],
   "source": [
    "plot_history(history)"
   ]
  },
  {
   "cell_type": "code",
   "execution_count": 33,
   "id": "2401291f",
   "metadata": {},
   "outputs": [
    {
     "name": "stdout",
     "output_type": "stream",
     "text": [
      "\u001b[1m198/198\u001b[0m \u001b[32m━━━━━━━━━━━━━━━━━━━━\u001b[0m\u001b[37m\u001b[0m \u001b[1m1s\u001b[0m 2ms/step\n"
     ]
    },
    {
     "data": {
      "text/plain": [
       "{'accuracy': 0.898973954222573,\n",
       " 'precision': 0.9068736141906873,\n",
       " 'recall': 0.8921782486755999,\n",
       " 'f1_score': 0.8994659126610116}"
      ]
     },
     "execution_count": 33,
     "metadata": {},
     "output_type": "execute_result"
    }
   ],
   "source": [
    "from sklearn.metrics import accuracy_score, precision_score, recall_score, f1_score\n",
    "y_pred_ann_1 = (model.predict(X_test) > 0.5).astype(int)\n",
    "\n",
    "# Calcula as métricas\n",
    "ann_1_metrics = {\n",
    "    'accuracy': accuracy_score(y_test, y_pred_ann_1),\n",
    "    'precision': precision_score(y_test, y_pred_ann_1, average='binary'),\n",
    "    'recall': recall_score(y_test, y_pred_ann_1, average='binary'),\n",
    "    'f1_score': f1_score(y_test, y_pred_ann_1, average='binary'),\n",
    "}\n",
    "\n",
    "ann_1_metrics"
   ]
  },
  {
   "cell_type": "code",
   "execution_count": 51,
   "id": "35c56a03",
   "metadata": {},
   "outputs": [
    {
     "data": {
      "image/png": "[encoded data removed]",
      "text/plain": [
       "<Figure size 800x600 with 1 Axes>"
      ]
     },
     "metadata": {},
     "output_type": "display_data"
    }
   ],
   "source": [
    "cm = plot_confusion_matrix(y_test, y_pred_ann_1)"
   ]
  },
  {
   "cell_type": "markdown",
   "id": "4c367ea3",
   "metadata": {},
   "source": [
    "O modelo apresentou boa performance, com leve perda ao classificar a variável **1** _(Resolvido)_, provavelmente dado ao desbalanceamento dos dados. \n",
    "\n",
    "Porém, há um indicativo de leve overfitting, dado queda da acurácia da validação com a subida da acurácia de treino, e o distanciamento das perdas.\n",
    "\n",
    "Para isso, vou remodelar utilizando o Dropout, uma técnica de penalização aleatória."
   ]
  },
  {
   "cell_type": "markdown",
   "id": "2d2977aa",
   "metadata": {},
   "source": [
    "### **Remodelando**"
   ]
  },
  {
   "cell_type": "code",
   "execution_count": 35,
   "id": "9eca0591",
   "metadata": {},
   "outputs": [],
   "source": [
    "new_model = Sequential()"
   ]
  },
  {
   "cell_type": "code",
   "execution_count": 36,
   "id": "cf36466e",
   "metadata": {},
   "outputs": [],
   "source": [
    "new_model.add(InputLayer(shape=(processed_data.shape[1],)))"
   ]
  },
  {
   "cell_type": "markdown",
   "id": "d9e72a25",
   "metadata": {},
   "source": [
    "#### **Dropout**\n",
    "\n",
    "**Dropout** é uma técnica de regularização que desativa aleatoriamente uma porcentagem de neurônios durante o treinamento de redes neurais, ajudando a **prevenir o sobreajuste** (overfitting).\n",
    "\n",
    "* A cada iteração, **neurônios são \"desligados\"** de forma aleatória, forçando o modelo a aprender representações mais robustas e generalizáveis dos dados.\n",
    "* A **taxa de dropout** é a fração de neurônios a ser desativada, geralmente entre **0.2 e 0.5**, no caso, **0.3**.\n"
   ]
  },
  {
   "cell_type": "code",
   "execution_count": 37,
   "id": "ef5aa888",
   "metadata": {},
   "outputs": [],
   "source": [
    "new_model.add(Dense(32, activation='relu', kernel_regularizer=l2(0.001)))\n",
    "new_model.add(Dropout(0.3))\n",
    "new_model.add(Dense(16, activation='relu', kernel_regularizer=l2(0.001)))\n",
    "new_model.add(Dropout(0.3))\n",
    "\n",
    "new_model.add(Dense(1, activation='sigmoid'))"
   ]
  },
  {
   "cell_type": "code",
   "execution_count": 38,
   "id": "f43bf991",
   "metadata": {},
   "outputs": [],
   "source": [
    "new_model.compile(optimizer='adam', loss='binary_crossentropy', metrics=['accuracy'])"
   ]
  },
  {
   "cell_type": "code",
   "execution_count": 39,
   "id": "79564d67",
   "metadata": {},
   "outputs": [],
   "source": [
    "early_stopping = EarlyStopping(\n",
    "    monitor='val_loss',\n",
    "    patience=3,\n",
    "    restore_best_weights=True\n",
    ")"
   ]
  },
  {
   "cell_type": "code",
   "execution_count": 40,
   "id": "56c8ff7e",
   "metadata": {},
   "outputs": [
    {
     "name": "stdout",
     "output_type": "stream",
     "text": [
      "Epoch 1/20\n",
      "\u001b[1m396/396\u001b[0m \u001b[32m━━━━━━━━━━━━━━━━━━━━\u001b[0m\u001b[37m\u001b[0m \u001b[1m3s\u001b[0m 3ms/step - accuracy: 0.6773 - loss: 0.6438 - val_accuracy: 0.8931 - val_loss: 0.3650\n",
      "Epoch 2/20\n",
      "\u001b[1m396/396\u001b[0m \u001b[32m━━━━━━━━━━━━━━━━━━━━\u001b[0m\u001b[37m\u001b[0m \u001b[1m1s\u001b[0m 2ms/step - accuracy: 0.8801 - loss: 0.3878 - val_accuracy: 0.8936 - val_loss: 0.3251\n",
      "Epoch 3/20\n",
      "\u001b[1m396/396\u001b[0m \u001b[32m━━━━━━━━━━━━━━━━━━━━\u001b[0m\u001b[37m\u001b[0m \u001b[1m1s\u001b[0m 2ms/step - accuracy: 0.8906 - loss: 0.3513 - val_accuracy: 0.8983 - val_loss: 0.3129\n",
      "Epoch 4/20\n",
      "\u001b[1m396/396\u001b[0m \u001b[32m━━━━━━━━━━━━━━━━━━━━\u001b[0m\u001b[37m\u001b[0m \u001b[1m1s\u001b[0m 2ms/step - accuracy: 0.8888 - loss: 0.3505 - val_accuracy: 0.8976 - val_loss: 0.3081\n",
      "Epoch 5/20\n",
      "\u001b[1m396/396\u001b[0m \u001b[32m━━━━━━━━━━━━━━━━━━━━\u001b[0m\u001b[37m\u001b[0m \u001b[1m1s\u001b[0m 2ms/step - accuracy: 0.8944 - loss: 0.3310 - val_accuracy: 0.9012 - val_loss: 0.3042\n",
      "Epoch 6/20\n",
      "\u001b[1m396/396\u001b[0m \u001b[32m━━━━━━━━━━━━━━━━━━━━\u001b[0m\u001b[37m\u001b[0m \u001b[1m1s\u001b[0m 2ms/step - accuracy: 0.8886 - loss: 0.3386 - val_accuracy: 0.9002 - val_loss: 0.2986\n",
      "Epoch 7/20\n",
      "\u001b[1m396/396\u001b[0m \u001b[32m━━━━━━━━━━━━━━━━━━━━\u001b[0m\u001b[37m\u001b[0m \u001b[1m1s\u001b[0m 2ms/step - accuracy: 0.8958 - loss: 0.3247 - val_accuracy: 0.8994 - val_loss: 0.3024\n",
      "Epoch 8/20\n",
      "\u001b[1m396/396\u001b[0m \u001b[32m━━━━━━━━━━━━━━━━━━━━\u001b[0m\u001b[37m\u001b[0m \u001b[1m1s\u001b[0m 2ms/step - accuracy: 0.8959 - loss: 0.3250 - val_accuracy: 0.8982 - val_loss: 0.3016\n",
      "Epoch 9/20\n",
      "\u001b[1m396/396\u001b[0m \u001b[32m━━━━━━━━━━━━━━━━━━━━\u001b[0m\u001b[37m\u001b[0m \u001b[1m1s\u001b[0m 2ms/step - accuracy: 0.8958 - loss: 0.3224 - val_accuracy: 0.8976 - val_loss: 0.2965\n",
      "Epoch 10/20\n",
      "\u001b[1m396/396\u001b[0m \u001b[32m━━━━━━━━━━━━━━━━━━━━\u001b[0m\u001b[37m\u001b[0m \u001b[1m1s\u001b[0m 2ms/step - accuracy: 0.8971 - loss: 0.3112 - val_accuracy: 0.9015 - val_loss: 0.3004\n",
      "Epoch 11/20\n",
      "\u001b[1m396/396\u001b[0m \u001b[32m━━━━━━━━━━━━━━━━━━━━\u001b[0m\u001b[37m\u001b[0m \u001b[1m1s\u001b[0m 2ms/step - accuracy: 0.8963 - loss: 0.3222 - val_accuracy: 0.8994 - val_loss: 0.2950\n",
      "Epoch 12/20\n",
      "\u001b[1m396/396\u001b[0m \u001b[32m━━━━━━━━━━━━━━━━━━━━\u001b[0m\u001b[37m\u001b[0m \u001b[1m1s\u001b[0m 2ms/step - accuracy: 0.8970 - loss: 0.3161 - val_accuracy: 0.8979 - val_loss: 0.2969\n",
      "Epoch 13/20\n",
      "\u001b[1m396/396\u001b[0m \u001b[32m━━━━━━━━━━━━━━━━━━━━\u001b[0m\u001b[37m\u001b[0m \u001b[1m1s\u001b[0m 2ms/step - accuracy: 0.8993 - loss: 0.3131 - val_accuracy: 0.8979 - val_loss: 0.2961\n",
      "Epoch 14/20\n",
      "\u001b[1m396/396\u001b[0m \u001b[32m━━━━━━━━━━━━━━━━━━━━\u001b[0m\u001b[37m\u001b[0m \u001b[1m1s\u001b[0m 2ms/step - accuracy: 0.8972 - loss: 0.3166 - val_accuracy: 0.8987 - val_loss: 0.2947\n",
      "Epoch 15/20\n",
      "\u001b[1m396/396\u001b[0m \u001b[32m━━━━━━━━━━━━━━━━━━━━\u001b[0m\u001b[37m\u001b[0m \u001b[1m1s\u001b[0m 2ms/step - accuracy: 0.8942 - loss: 0.3195 - val_accuracy: 0.9021 - val_loss: 0.2925\n",
      "Epoch 16/20\n",
      "\u001b[1m396/396\u001b[0m \u001b[32m━━━━━━━━━━━━━━━━━━━━\u001b[0m\u001b[37m\u001b[0m \u001b[1m1s\u001b[0m 2ms/step - accuracy: 0.8974 - loss: 0.3110 - val_accuracy: 0.8998 - val_loss: 0.2938\n",
      "Epoch 17/20\n",
      "\u001b[1m396/396\u001b[0m \u001b[32m━━━━━━━━━━━━━━━━━━━━\u001b[0m\u001b[37m\u001b[0m \u001b[1m1s\u001b[0m 2ms/step - accuracy: 0.9004 - loss: 0.3071 - val_accuracy: 0.8991 - val_loss: 0.2925\n",
      "Epoch 18/20\n",
      "\u001b[1m396/396\u001b[0m \u001b[32m━━━━━━━━━━━━━━━━━━━━\u001b[0m\u001b[37m\u001b[0m \u001b[1m1s\u001b[0m 2ms/step - accuracy: 0.8995 - loss: 0.3080 - val_accuracy: 0.9002 - val_loss: 0.2928\n"
     ]
    }
   ],
   "source": [
    "new_history = new_model.fit(\n",
    "    X_train, y_train,\n",
    "    epochs=20,\n",
    "    batch_size=64,\n",
    "    validation_data=(X_test, y_test),\n",
    "    verbose=1,\n",
    "    callbacks=[early_stopping]\n",
    ")"
   ]
  },
  {
   "cell_type": "code",
   "execution_count": 41,
   "id": "4bb68a00",
   "metadata": {},
   "outputs": [
    {
     "name": "stdout",
     "output_type": "stream",
     "text": [
      "Test accuracy: 90.21%\n"
     ]
    }
   ],
   "source": [
    "# Avaliação no conjunto de teste\n",
    "new_test_loss, new_test_accuracy = new_model.evaluate(X_test, y_test, verbose=0)\n",
    "print(f'Test accuracy: {new_test_accuracy * 100:.2f}%')"
   ]
  },
  {
   "cell_type": "code",
   "execution_count": 42,
   "id": "1b60f4fd",
   "metadata": {},
   "outputs": [
    {
     "name": "stdout",
     "output_type": "stream",
     "text": [
      "\u001b[1m198/198\u001b[0m \u001b[32m━━━━━━━━━━━━━━━━━━━━\u001b[0m\u001b[37m\u001b[0m \u001b[1m0s\u001b[0m 1ms/step\n",
      "              precision    recall  f1-score   support\n",
      "\n",
      "           0       0.90      0.90      0.90      3126\n",
      "           1       0.90      0.91      0.90      3209\n",
      "\n",
      "    accuracy                           0.90      6335\n",
      "   macro avg       0.90      0.90      0.90      6335\n",
      "weighted avg       0.90      0.90      0.90      6335\n",
      "\n"
     ]
    }
   ],
   "source": [
    "y_pred = (new_model.predict(X_test) > 0.5).astype(\"int32\")\n",
    "print(classification_report(y_test, y_pred))"
   ]
  },
  {
   "cell_type": "code",
   "execution_count": 43,
   "id": "20e166ce",
   "metadata": {},
   "outputs": [
    {
     "data": {
      "image/png": "[encoded data removed]",
      "text/plain": [
       "<Figure size 1200x400 with 2 Axes>"
      ]
     },
     "metadata": {},
     "output_type": "display_data"
    }
   ],
   "source": [
    "plot_history(new_history)"
   ]
  },
  {
   "cell_type": "code",
   "execution_count": 44,
   "id": "0ceeae51",
   "metadata": {},
   "outputs": [
    {
     "name": "stdout",
     "output_type": "stream",
     "text": [
      "\u001b[1m198/198\u001b[0m \u001b[32m━━━━━━━━━━━━━━━━━━━━\u001b[0m\u001b[37m\u001b[0m \u001b[1m0s\u001b[0m 903us/step\n",
      "{'accuracy': 0.9021310181531176, 'precision': 0.8996603890089534, 'recall': 0.908071050171393, 'f1_score': 0.9038461538461539}\n"
     ]
    }
   ],
   "source": [
    "y_pred_ann_2 = (new_model.predict(X_test) > 0.5).astype(int)\n",
    "\n",
    "# Calcula as métricas\n",
    "ann_2_metrics = {\n",
    "    'accuracy': accuracy_score(y_test, y_pred_ann_2),\n",
    "    'precision': precision_score(y_test, y_pred_ann_2, average='binary'),\n",
    "    'recall': recall_score(y_test, y_pred_ann_2, average='binary'),\n",
    "    'f1_score': f1_score(y_test, y_pred_ann_2, average='binary'),\n",
    "}\n",
    "\n",
    "print(ann_2_metrics)"
   ]
  },
  {
   "cell_type": "markdown",
   "id": "711cb20f",
   "metadata": {},
   "source": [
    "Perceba que, a performance de classificação permaneceu quase a mesma, mas o treinamento indica um modelo bem mais consistente e sem indicativo de overfitting."
   ]
  },
  {
   "cell_type": "markdown",
   "id": "ff8204f8",
   "metadata": {},
   "source": [
    "#### **Matriz de Confusão**\n",
    "\n",
    "A **matriz de confusão** é uma ferramenta usada para avaliar o desempenho de um modelo de classificação. Ela mostra o número de **verdadeiros positivos (VP)**, **falsos positivos (FP)**, **verdadeiros negativos (VN)** e **falsos negativos (FN)** produzidos pelo modelo.\n",
    "\n",
    "* **VP (Verdadeiro Positivo)**: O modelo previu corretamente a classe positiva.\n",
    "* **FP (Falso Positivo)**: O modelo previu a classe positiva, mas o valor real era negativo.\n",
    "* **VN (Verdadeiro Negativo)**: O modelo previu corretamente a classe negativa.\n",
    "* **FN (Falso Negativo)**: O modelo previu a classe negativa, mas o valor real era positivo."
   ]
  },
  {
   "cell_type": "code",
   "execution_count": 53,
   "id": "56e02f1e",
   "metadata": {},
   "outputs": [
    {
     "name": "stdout",
     "output_type": "stream",
     "text": [
      "\u001b[1m198/198\u001b[0m \u001b[32m━━━━━━━━━━━━━━━━━━━━\u001b[0m\u001b[37m\u001b[0m \u001b[1m0s\u001b[0m 1ms/step\n"
     ]
    },
    {
     "data": {
      "image/png": "[encoded data removed]",
      "text/plain": [
       "<Figure size 800x600 with 1 Axes>"
      ]
     },
     "metadata": {},
     "output_type": "display_data"
    }
   ],
   "source": [
    "y_true, y_pred_ann = y_test, (new_model.predict(X_test) > 0.5).astype(\"int32\")\n",
    "cm = plot_confusion_matrix(y_true, y_pred_ann)"
   ]
  },
  {
   "cell_type": "markdown",
   "id": "33ef9f7e",
   "metadata": {},
   "source": [
    "### **Salvando Modelos**"
   ]
  },
  {
   "cell_type": "code",
   "execution_count": 63,
   "id": "91d32687",
   "metadata": {},
   "outputs": [],
   "source": [
    "# Save model - pickle\n",
    "\n",
    "src_dir = 'src'\n",
    "models_dir = 'models'\n",
    "ml_dir = 'ml'\n",
    "transformers_dir = 'transformers'\n",
    "model_name = 'ANN_model.keras'\n",
    "\n",
    "model_path = os.path.join(root_path, src_dir, models_dir, ml_dir, 'files', model_name)\n",
    "# preprocessor_path = os.path.join(root_path, src_dir, models_dir, transformers_dir, preprocessor_name)"
   ]
  },
  {
   "cell_type": "code",
   "execution_count": null,
   "id": "085e2794",
   "metadata": {},
   "outputs": [
    {
     "data": {
      "text/plain": [
       "['c:\\\\Users\\\\user\\\\Desktop\\\\UFPB\\\\5-Periodo\\\\ML\\\\Projeto\\\\consumidor_gov\\\\src\\\\models\\\\transformers\\\\preprocessor.joblib']"
      ]
     },
     "execution_count": 64,
     "metadata": {},
     "output_type": "execute_result"
    }
   ],
   "source": [
    "import joblib\n",
    "\n",
    "# Saving ann\n",
    "model.save(model_path)\n",
    "\n",
    "# Saving preprocessor\n",
    "#joblib.dump(preprocessor, preprocessor_path)"
   ]
  },
  {
   "cell_type": "markdown",
   "id": "e5e7e1d4",
   "metadata": {},
   "source": [
    "#### **Saving ANN Metrics**"
   ]
  },
  {
   "cell_type": "code",
   "execution_count": 72,
   "id": "d293bde8",
   "metadata": {},
   "outputs": [],
   "source": [
    "from sklearn.metrics import accuracy_score, precision_score, recall_score, f1_score\n",
    "import json\n",
    "\n",
    "\n",
    "ANN_metrics = {\n",
    "    'accuracy': accuracy_score(y_test, y_pred_ann),\n",
    "    'precision': precision_score(y_test, y_pred_ann, average='binary'),\n",
    "    'recall': recall_score(y_test, y_pred_ann, average='binary'),\n",
    "    'f1_score': f1_score(y_test, y_pred_ann, average='binary'),\n",
    "}\n",
    "\n",
    "ANN_metrics_path = os.path.join(root_path, src_dir, models_dir, ml_dir, 'metrics', 'ANN_metrics.json')\n",
    "\n",
    "# Saving JSON\n",
    "with open(ANN_metrics_path, 'w') as f:\n",
    "    json.dump(ANN_metrics, f, indent=4)"
   ]
  },
  {
   "cell_type": "markdown",
   "id": "cb5bec4a",
   "metadata": {},
   "source": [
    "---"
   ]
  },
  {
   "cell_type": "markdown",
   "id": "78ed0386",
   "metadata": {},
   "source": [
    "### **Regressão Logística**\n",
    "\n",
    "Aqui usarei um modelo de regressão logística para visualizar de certa forma a importância de cada feature."
   ]
  },
  {
   "cell_type": "code",
   "execution_count": 46,
   "id": "961a5c00",
   "metadata": {},
   "outputs": [],
   "source": [
    "from sklearn.linear_model import LogisticRegression\n",
    "from sklearn.metrics import classification_report\n",
    "\n",
    "# Definindo o modelo de Regressão Logística\n",
    "logreg_model = LogisticRegression(max_iter=1000, random_state=42)"
   ]
  },
  {
   "cell_type": "code",
   "execution_count": 47,
   "id": "966d7eef",
   "metadata": {},
   "outputs": [],
   "source": [
    "# Treinamento do modelo\n",
    "logreg_model.fit(X_train, y_train)\n",
    "# Avaliação no conjunto de teste\n",
    "y_pred_logreg = logreg_model.predict(X_test)"
   ]
  },
  {
   "cell_type": "code",
   "execution_count": 48,
   "id": "cf7aac20",
   "metadata": {},
   "outputs": [
    {
     "name": "stdout",
     "output_type": "stream",
     "text": [
      "              precision    recall  f1-score   support\n",
      "\n",
      "           0       0.88      0.91      0.90      3126\n",
      "           1       0.91      0.88      0.90      3209\n",
      "\n",
      "    accuracy                           0.90      6335\n",
      "   macro avg       0.90      0.90      0.90      6335\n",
      "weighted avg       0.90      0.90      0.90      6335\n",
      "\n"
     ]
    }
   ],
   "source": [
    "print(classification_report(y_test, y_pred_logreg))"
   ]
  },
  {
   "cell_type": "code",
   "execution_count": 58,
   "id": "750835ea",
   "metadata": {},
   "outputs": [],
   "source": [
    "from sklearn.metrics import roc_curve, auc\n",
    "import matplotlib.pyplot as plt\n",
    "\n",
    "\n",
    "def plot_roc_curve(y_test, y_pred_proba):\n",
    "    fpr, tpr, thresholds = roc_curve(y_test, y_pred_proba)\n",
    "    roc_auc = auc(fpr, tpr)\n",
    "\n",
    "    # Plota a curva ROC\n",
    "    plt.figure(figsize=(8, 6))\n",
    "    plt.plot(fpr, tpr, color='blue', label=f'ROC curve (area = {roc_auc:.2f})')\n",
    "    plt.plot([0, 1], [0, 1], color='red', linestyle='--')\n",
    "    plt.xlim([0.0, 1.0])\n",
    "    plt.ylim([0.0, 1.05])\n",
    "    plt.xlabel('False Positive Rate')\n",
    "    plt.ylabel('True Positive Rate')\n",
    "    plt.title('Receiver Operating Characteristic (ROC)')\n",
    "    plt.legend(loc='lower right')\n",
    "    plt.grid(True)\n",
    "    plt.show()\n",
    "\n",
    "    return roc_auc, fpr, tpr"
   ]
  },
  {
   "cell_type": "markdown",
   "id": "421c15b8",
   "metadata": {},
   "source": [
    "### **Matriz de Confusão**"
   ]
  },
  {
   "cell_type": "code",
   "execution_count": 49,
   "id": "09be5f2d",
   "metadata": {},
   "outputs": [
    {
     "data": {
      "image/png": "[encoded data removed]",
      "text/plain": [
       "<Figure size 800x600 with 1 Axes>"
      ]
     },
     "metadata": {},
     "output_type": "display_data"
    }
   ],
   "source": [
    "plot_confusion_matrix(y_test, y_pred_logreg)"
   ]
  },
  {
   "cell_type": "code",
   "execution_count": 59,
   "id": "96eca279",
   "metadata": {},
   "outputs": [
    {
     "data": {
      "image/png": "[encoded data removed]",
      "text/plain": [
       "<Figure size 800x600 with 1 Axes>"
      ]
     },
     "metadata": {},
     "output_type": "display_data"
    }
   ],
   "source": [
    "y_pred_proba1 = logreg_model.predict_proba(X_test)[:, 1]\n",
    "auc, fpr, tpr, = plot_roc_curve(y_test, y_pred_proba1)\n"
   ]
  },
  {
   "cell_type": "code",
   "execution_count": 73,
   "id": "cc1ecc04",
   "metadata": {},
   "outputs": [
    {
     "data": {
      "text/plain": [
       "{'accuracy': 0.8970797158642463,\n",
       " 'precision': 0.9114901834567106,\n",
       " 'recall': 0.8825179183546276,\n",
       " 'f1_score': 0.8967701076630779}"
      ]
     },
     "execution_count": 73,
     "metadata": {},
     "output_type": "execute_result"
    }
   ],
   "source": [
    "logit_1_metrics = {\n",
    "    'accuracy': accuracy_score(y_test, y_pred_logreg),\n",
    "    'precision': precision_score(y_test, y_pred_logreg, average='binary'),\n",
    "    'recall': recall_score(y_test, y_pred_logreg, average='binary'),\n",
    "    'f1_score': f1_score(y_test, y_pred_logreg, average='binary'),\n",
    "}\n",
    "\n",
    "logit_1_metrics"
   ]
  },
  {
   "cell_type": "markdown",
   "id": "66514465",
   "metadata": {},
   "source": [
    "#### **Grid Search**\n",
    "\n",
    "O **Grid Search** é uma técnica de otimização de **hiperparâmetros**. Ele testa **todas as combinações possíveis** de um conjunto pré-definido de valores para encontrar a **melhor configuração** para o modelo."
   ]
  },
  {
   "cell_type": "code",
   "execution_count": 64,
   "id": "986740b4",
   "metadata": {},
   "outputs": [],
   "source": [
    "param_grid = {\n",
    "    'C': [0.01, 0.1, 1, 10, 100],\n",
    "    'solver': ['liblinear', 'lbfgs'],\n",
    "    'penalty': ['l2'],\n",
    "}"
   ]
  },
  {
   "cell_type": "code",
   "execution_count": 65,
   "id": "74e9b4b1",
   "metadata": {},
   "outputs": [],
   "source": [
    "# Configurando o GridSearchCV\n",
    "from sklearn.model_selection import GridSearchCV\n",
    "\n",
    "grid_model = LogisticRegression(max_iter=1000, random_state=42)\n",
    "\n",
    "grid_search = GridSearchCV(\n",
    "    estimator=grid_model, \n",
    "    param_grid=param_grid, \n",
    "    cv=5, \n",
    "    n_jobs=-1, \n",
    "    scoring='accuracy', \n",
    "    verbose=1\n",
    ")"
   ]
  },
  {
   "cell_type": "code",
   "execution_count": 66,
   "id": "05cd6e0f",
   "metadata": {},
   "outputs": [
    {
     "name": "stdout",
     "output_type": "stream",
     "text": [
      "Fitting 5 folds for each of 10 candidates, totalling 50 fits\n"
     ]
    },
    {
     "data": {
      "text/html": [
       "<style>#sk-container-id-1 {\n",
       "  /* Definition of color scheme common for light and dark mode */\n",
       "  --sklearn-color-text: black;\n",
       "  --sklearn-color-line: gray;\n",
       "  /* Definition of color scheme for unfitted estimators */\n",
       "  --sklearn-color-unfitted-level-0: #fff5e6;\n",
       "  --sklearn-color-unfitted-level-1: #f6e4d2;\n",
       "  --sklearn-color-unfitted-level-2: #ffe0b3;\n",
       "  --sklearn-color-unfitted-level-3: chocolate;\n",
       "  /* Definition of color scheme for fitted estimators */\n",
       "  --sklearn-color-fitted-level-0: #f0f8ff;\n",
       "  --sklearn-color-fitted-level-1: #d4ebff;\n",
       "  --sklearn-color-fitted-level-2: #b3dbfd;\n",
       "  --sklearn-color-fitted-level-3: cornflowerblue;\n",
       "\n",
       "  /* Specific color for light theme */\n",
       "  --sklearn-color-text-on-default-background: var(--sg-text-color, var(--theme-code-foreground, var(--jp-content-font-color1, black)));\n",
       "  --sklearn-color-background: var(--sg-background-color, var(--theme-background, var(--jp-layout-color0, white)));\n",
       "  --sklearn-color-border-box: var(--sg-text-color, var(--theme-code-foreground, var(--jp-content-font-color1, black)));\n",
       "  --sklearn-color-icon: #696969;\n",
       "\n",
       "  @media (prefers-color-scheme: dark) {\n",
       "    /* Redefinition of color scheme for dark theme */\n",
       "    --sklearn-color-text-on-default-background: var(--sg-text-color, var(--theme-code-foreground, var(--jp-content-font-color1, white)));\n",
       "    --sklearn-color-background: var(--sg-background-color, var(--theme-background, var(--jp-layout-color0, #111)));\n",
       "    --sklearn-color-border-box: var(--sg-text-color, var(--theme-code-foreground, var(--jp-content-font-color1, white)));\n",
       "    --sklearn-color-icon: #878787;\n",
       "  }\n",
       "}\n",
       "\n",
       "#sk-container-id-1 {\n",
       "  color: var(--sklearn-color-text);\n",
       "}\n",
       "\n",
       "#sk-container-id-1 pre {\n",
       "  padding: 0;\n",
       "}\n",
       "\n",
       "#sk-container-id-1 input.sk-hidden--visually {\n",
       "  border: 0;\n",
       "  clip: rect(1px 1px 1px 1px);\n",
       "  clip: rect(1px, 1px, 1px, 1px);\n",
       "  height: 1px;\n",
       "  margin: -1px;\n",
       "  overflow: hidden;\n",
       "  padding: 0;\n",
       "  position: absolute;\n",
       "  width: 1px;\n",
       "}\n",
       "\n",
       "#sk-container-id-1 div.sk-dashed-wrapped {\n",
       "  border: 1px dashed var(--sklearn-color-line);\n",
       "  margin: 0 0.4em 0.5em 0.4em;\n",
       "  box-sizing: border-box;\n",
       "  padding-bottom: 0.4em;\n",
       "  background-color: var(--sklearn-color-background);\n",
       "}\n",
       "\n",
       "#sk-container-id-1 div.sk-container {\n",
       "  /* jupyter's `normalize.less` sets `[hidden] { display: none; }`\n",
       "     but bootstrap.min.css set `[hidden] { display: none !important; }`\n",
       "     so we also need the `!important` here to be able to override the\n",
       "     default hidden behavior on the sphinx rendered scikit-learn.org.\n",
       "     See: https://github.com/scikit-learn/scikit-learn/issues/21755 */\n",
       "  display: inline-block !important;\n",
       "  position: relative;\n",
       "}\n",
       "\n",
       "#sk-container-id-1 div.sk-text-repr-fallback {\n",
       "  display: none;\n",
       "}\n",
       "\n",
       "div.sk-parallel-item,\n",
       "div.sk-serial,\n",
       "div.sk-item {\n",
       "  /* draw centered vertical line to link estimators */\n",
       "  background-image: linear-gradient(var(--sklearn-color-text-on-default-background), var(--sklearn-color-text-on-default-background));\n",
       "  background-size: 2px 100%;\n",
       "  background-repeat: no-repeat;\n",
       "  background-position: center center;\n",
       "}\n",
       "\n",
       "/* Parallel-specific style estimator block */\n",
       "\n",
       "#sk-container-id-1 div.sk-parallel-item::after {\n",
       "  content: \"\";\n",
       "  width: 100%;\n",
       "  border-bottom: 2px solid var(--sklearn-color-text-on-default-background);\n",
       "  flex-grow: 1;\n",
       "}\n",
       "\n",
       "#sk-container-id-1 div.sk-parallel {\n",
       "  display: flex;\n",
       "  align-items: stretch;\n",
       "  justify-content: center;\n",
       "  background-color: var(--sklearn-color-background);\n",
       "  position: relative;\n",
       "}\n",
       "\n",
       "#sk-container-id-1 div.sk-parallel-item {\n",
       "  display: flex;\n",
       "  flex-direction: column;\n",
       "}\n",
       "\n",
       "#sk-container-id-1 div.sk-parallel-item:first-child::after {\n",
       "  align-self: flex-end;\n",
       "  width: 50%;\n",
       "}\n",
       "\n",
       "#sk-container-id-1 div.sk-parallel-item:last-child::after {\n",
       "  align-self: flex-start;\n",
       "  width: 50%;\n",
       "}\n",
       "\n",
       "#sk-container-id-1 div.sk-parallel-item:only-child::after {\n",
       "  width: 0;\n",
       "}\n",
       "\n",
       "/* Serial-specific style estimator block */\n",
       "\n",
       "#sk-container-id-1 div.sk-serial {\n",
       "  display: flex;\n",
       "  flex-direction: column;\n",
       "  align-items: center;\n",
       "  background-color: var(--sklearn-color-background);\n",
       "  padding-right: 1em;\n",
       "  padding-left: 1em;\n",
       "}\n",
       "\n",
       "\n",
       "/* Toggleable style: style used for estimator/Pipeline/ColumnTransformer box that is\n",
       "clickable and can be expanded/collapsed.\n",
       "- Pipeline and ColumnTransformer use this feature and define the default style\n",
       "- Estimators will overwrite some part of the style using the `sk-estimator` class\n",
       "*/\n",
       "\n",
       "/* Pipeline and ColumnTransformer style (default) */\n",
       "\n",
       "#sk-container-id-1 div.sk-toggleable {\n",
       "  /* Default theme specific background. It is overwritten whether we have a\n",
       "  specific estimator or a Pipeline/ColumnTransformer */\n",
       "  background-color: var(--sklearn-color-background);\n",
       "}\n",
       "\n",
       "/* Toggleable label */\n",
       "#sk-container-id-1 label.sk-toggleable__label {\n",
       "  cursor: pointer;\n",
       "  display: block;\n",
       "  width: 100%;\n",
       "  margin-bottom: 0;\n",
       "  padding: 0.5em;\n",
       "  box-sizing: border-box;\n",
       "  text-align: center;\n",
       "}\n",
       "\n",
       "#sk-container-id-1 label.sk-toggleable__label-arrow:before {\n",
       "  /* Arrow on the left of the label */\n",
       "  content: \"▸\";\n",
       "  float: left;\n",
       "  margin-right: 0.25em;\n",
       "  color: var(--sklearn-color-icon);\n",
       "}\n",
       "\n",
       "#sk-container-id-1 label.sk-toggleable__label-arrow:hover:before {\n",
       "  color: var(--sklearn-color-text);\n",
       "}\n",
       "\n",
       "/* Toggleable content - dropdown */\n",
       "\n",
       "#sk-container-id-1 div.sk-toggleable__content {\n",
       "  max-height: 0;\n",
       "  max-width: 0;\n",
       "  overflow: hidden;\n",
       "  text-align: left;\n",
       "  /* unfitted */\n",
       "  background-color: var(--sklearn-color-unfitted-level-0);\n",
       "}\n",
       "\n",
       "#sk-container-id-1 div.sk-toggleable__content.fitted {\n",
       "  /* fitted */\n",
       "  background-color: var(--sklearn-color-fitted-level-0);\n",
       "}\n",
       "\n",
       "#sk-container-id-1 div.sk-toggleable__content pre {\n",
       "  margin: 0.2em;\n",
       "  border-radius: 0.25em;\n",
       "  color: var(--sklearn-color-text);\n",
       "  /* unfitted */\n",
       "  background-color: var(--sklearn-color-unfitted-level-0);\n",
       "}\n",
       "\n",
       "#sk-container-id-1 div.sk-toggleable__content.fitted pre {\n",
       "  /* unfitted */\n",
       "  background-color: var(--sklearn-color-fitted-level-0);\n",
       "}\n",
       "\n",
       "#sk-container-id-1 input.sk-toggleable__control:checked~div.sk-toggleable__content {\n",
       "  /* Expand drop-down */\n",
       "  max-height: 200px;\n",
       "  max-width: 100%;\n",
       "  overflow: auto;\n",
       "}\n",
       "\n",
       "#sk-container-id-1 input.sk-toggleable__control:checked~label.sk-toggleable__label-arrow:before {\n",
       "  content: \"▾\";\n",
       "}\n",
       "\n",
       "/* Pipeline/ColumnTransformer-specific style */\n",
       "\n",
       "#sk-container-id-1 div.sk-label input.sk-toggleable__control:checked~label.sk-toggleable__label {\n",
       "  color: var(--sklearn-color-text);\n",
       "  background-color: var(--sklearn-color-unfitted-level-2);\n",
       "}\n",
       "\n",
       "#sk-container-id-1 div.sk-label.fitted input.sk-toggleable__control:checked~label.sk-toggleable__label {\n",
       "  background-color: var(--sklearn-color-fitted-level-2);\n",
       "}\n",
       "\n",
       "/* Estimator-specific style */\n",
       "\n",
       "/* Colorize estimator box */\n",
       "#sk-container-id-1 div.sk-estimator input.sk-toggleable__control:checked~label.sk-toggleable__label {\n",
       "  /* unfitted */\n",
       "  background-color: var(--sklearn-color-unfitted-level-2);\n",
       "}\n",
       "\n",
       "#sk-container-id-1 div.sk-estimator.fitted input.sk-toggleable__control:checked~label.sk-toggleable__label {\n",
       "  /* fitted */\n",
       "  background-color: var(--sklearn-color-fitted-level-2);\n",
       "}\n",
       "\n",
       "#sk-container-id-1 div.sk-label label.sk-toggleable__label,\n",
       "#sk-container-id-1 div.sk-label label {\n",
       "  /* The background is the default theme color */\n",
       "  color: var(--sklearn-color-text-on-default-background);\n",
       "}\n",
       "\n",
       "/* On hover, darken the color of the background */\n",
       "#sk-container-id-1 div.sk-label:hover label.sk-toggleable__label {\n",
       "  color: var(--sklearn-color-text);\n",
       "  background-color: var(--sklearn-color-unfitted-level-2);\n",
       "}\n",
       "\n",
       "/* Label box, darken color on hover, fitted */\n",
       "#sk-container-id-1 div.sk-label.fitted:hover label.sk-toggleable__label.fitted {\n",
       "  color: var(--sklearn-color-text);\n",
       "  background-color: var(--sklearn-color-fitted-level-2);\n",
       "}\n",
       "\n",
       "/* Estimator label */\n",
       "\n",
       "#sk-container-id-1 div.sk-label label {\n",
       "  font-family: monospace;\n",
       "  font-weight: bold;\n",
       "  display: inline-block;\n",
       "  line-height: 1.2em;\n",
       "}\n",
       "\n",
       "#sk-container-id-1 div.sk-label-container {\n",
       "  text-align: center;\n",
       "}\n",
       "\n",
       "/* Estimator-specific */\n",
       "#sk-container-id-1 div.sk-estimator {\n",
       "  font-family: monospace;\n",
       "  border: 1px dotted var(--sklearn-color-border-box);\n",
       "  border-radius: 0.25em;\n",
       "  box-sizing: border-box;\n",
       "  margin-bottom: 0.5em;\n",
       "  /* unfitted */\n",
       "  background-color: var(--sklearn-color-unfitted-level-0);\n",
       "}\n",
       "\n",
       "#sk-container-id-1 div.sk-estimator.fitted {\n",
       "  /* fitted */\n",
       "  background-color: var(--sklearn-color-fitted-level-0);\n",
       "}\n",
       "\n",
       "/* on hover */\n",
       "#sk-container-id-1 div.sk-estimator:hover {\n",
       "  /* unfitted */\n",
       "  background-color: var(--sklearn-color-unfitted-level-2);\n",
       "}\n",
       "\n",
       "#sk-container-id-1 div.sk-estimator.fitted:hover {\n",
       "  /* fitted */\n",
       "  background-color: var(--sklearn-color-fitted-level-2);\n",
       "}\n",
       "\n",
       "/* Specification for estimator info (e.g. \"i\" and \"?\") */\n",
       "\n",
       "/* Common style for \"i\" and \"?\" */\n",
       "\n",
       ".sk-estimator-doc-link,\n",
       "a:link.sk-estimator-doc-link,\n",
       "a:visited.sk-estimator-doc-link {\n",
       "  float: right;\n",
       "  font-size: smaller;\n",
       "  line-height: 1em;\n",
       "  font-family: monospace;\n",
       "  background-color: var(--sklearn-color-background);\n",
       "  border-radius: 1em;\n",
       "  height: 1em;\n",
       "  width: 1em;\n",
       "  text-decoration: none !important;\n",
       "  margin-left: 1ex;\n",
       "  /* unfitted */\n",
       "  border: var(--sklearn-color-unfitted-level-1) 1pt solid;\n",
       "  color: var(--sklearn-color-unfitted-level-1);\n",
       "}\n",
       "\n",
       ".sk-estimator-doc-link.fitted,\n",
       "a:link.sk-estimator-doc-link.fitted,\n",
       "a:visited.sk-estimator-doc-link.fitted {\n",
       "  /* fitted */\n",
       "  border: var(--sklearn-color-fitted-level-1) 1pt solid;\n",
       "  color: var(--sklearn-color-fitted-level-1);\n",
       "}\n",
       "\n",
       "/* On hover */\n",
       "div.sk-estimator:hover .sk-estimator-doc-link:hover,\n",
       ".sk-estimator-doc-link:hover,\n",
       "div.sk-label-container:hover .sk-estimator-doc-link:hover,\n",
       ".sk-estimator-doc-link:hover {\n",
       "  /* unfitted */\n",
       "  background-color: var(--sklearn-color-unfitted-level-3);\n",
       "  color: var(--sklearn-color-background);\n",
       "  text-decoration: none;\n",
       "}\n",
       "\n",
       "div.sk-estimator.fitted:hover .sk-estimator-doc-link.fitted:hover,\n",
       ".sk-estimator-doc-link.fitted:hover,\n",
       "div.sk-label-container:hover .sk-estimator-doc-link.fitted:hover,\n",
       ".sk-estimator-doc-link.fitted:hover {\n",
       "  /* fitted */\n",
       "  background-color: var(--sklearn-color-fitted-level-3);\n",
       "  color: var(--sklearn-color-background);\n",
       "  text-decoration: none;\n",
       "}\n",
       "\n",
       "/* Span, style for the box shown on hovering the info icon */\n",
       ".sk-estimator-doc-link span {\n",
       "  display: none;\n",
       "  z-index: 9999;\n",
       "  position: relative;\n",
       "  font-weight: normal;\n",
       "  right: .2ex;\n",
       "  padding: .5ex;\n",
       "  margin: .5ex;\n",
       "  width: min-content;\n",
       "  min-width: 20ex;\n",
       "  max-width: 50ex;\n",
       "  color: var(--sklearn-color-text);\n",
       "  box-shadow: 2pt 2pt 4pt #999;\n",
       "  /* unfitted */\n",
       "  background: var(--sklearn-color-unfitted-level-0);\n",
       "  border: .5pt solid var(--sklearn-color-unfitted-level-3);\n",
       "}\n",
       "\n",
       ".sk-estimator-doc-link.fitted span {\n",
       "  /* fitted */\n",
       "  background: var(--sklearn-color-fitted-level-0);\n",
       "  border: var(--sklearn-color-fitted-level-3);\n",
       "}\n",
       "\n",
       ".sk-estimator-doc-link:hover span {\n",
       "  display: block;\n",
       "}\n",
       "\n",
       "/* \"?\"-specific style due to the `<a>` HTML tag */\n",
       "\n",
       "#sk-container-id-1 a.estimator_doc_link {\n",
       "  float: right;\n",
       "  font-size: 1rem;\n",
       "  line-height: 1em;\n",
       "  font-family: monospace;\n",
       "  background-color: var(--sklearn-color-background);\n",
       "  border-radius: 1rem;\n",
       "  height: 1rem;\n",
       "  width: 1rem;\n",
       "  text-decoration: none;\n",
       "  /* unfitted */\n",
       "  color: var(--sklearn-color-unfitted-level-1);\n",
       "  border: var(--sklearn-color-unfitted-level-1) 1pt solid;\n",
       "}\n",
       "\n",
       "#sk-container-id-1 a.estimator_doc_link.fitted {\n",
       "  /* fitted */\n",
       "  border: var(--sklearn-color-fitted-level-1) 1pt solid;\n",
       "  color: var(--sklearn-color-fitted-level-1);\n",
       "}\n",
       "\n",
       "/* On hover */\n",
       "#sk-container-id-1 a.estimator_doc_link:hover {\n",
       "  /* unfitted */\n",
       "  background-color: var(--sklearn-color-unfitted-level-3);\n",
       "  color: var(--sklearn-color-background);\n",
       "  text-decoration: none;\n",
       "}\n",
       "\n",
       "#sk-container-id-1 a.estimator_doc_link.fitted:hover {\n",
       "  /* fitted */\n",
       "  background-color: var(--sklearn-color-fitted-level-3);\n",
       "}\n",
       "</style><div id=\"sk-container-id-1\" class=\"sk-top-container\"><div class=\"sk-text-repr-fallback\"><pre>GridSearchCV(cv=5, estimator=LogisticRegression(max_iter=1000, random_state=42),\n",
       "             n_jobs=-1,\n",
       "             param_grid={&#x27;C&#x27;: [0.01, 0.1, 1, 10, 100], &#x27;penalty&#x27;: [&#x27;l2&#x27;],\n",
       "                         &#x27;solver&#x27;: [&#x27;liblinear&#x27;, &#x27;lbfgs&#x27;]},\n",
       "             scoring=&#x27;accuracy&#x27;, verbose=1)</pre><b>In a Jupyter environment, please rerun this cell to show the HTML representation or trust the notebook. <br />On GitHub, the HTML representation is unable to render, please try loading this page with nbviewer.org.</b></div><div class=\"sk-container\" hidden><div class=\"sk-item sk-dashed-wrapped\"><div class=\"sk-label-container\"><div class=\"sk-label fitted sk-toggleable\"><input class=\"sk-toggleable__control sk-hidden--visually\" id=\"sk-estimator-id-1\" type=\"checkbox\" ><label for=\"sk-estimator-id-1\" class=\"sk-toggleable__label fitted sk-toggleable__label-arrow fitted\">&nbsp;&nbsp;GridSearchCV<a class=\"sk-estimator-doc-link fitted\" rel=\"noreferrer\" target=\"_blank\" href=\"https://scikit-learn.org/1.4/modules/generated/sklearn.model_selection.GridSearchCV.html\">?<span>Documentation for GridSearchCV</span></a><span class=\"sk-estimator-doc-link fitted\">i<span>Fitted</span></span></label><div class=\"sk-toggleable__content fitted\"><pre>GridSearchCV(cv=5, estimator=LogisticRegression(max_iter=1000, random_state=42),\n",
       "             n_jobs=-1,\n",
       "             param_grid={&#x27;C&#x27;: [0.01, 0.1, 1, 10, 100], &#x27;penalty&#x27;: [&#x27;l2&#x27;],\n",
       "                         &#x27;solver&#x27;: [&#x27;liblinear&#x27;, &#x27;lbfgs&#x27;]},\n",
       "             scoring=&#x27;accuracy&#x27;, verbose=1)</pre></div> </div></div><div class=\"sk-parallel\"><div class=\"sk-parallel-item\"><div class=\"sk-item\"><div class=\"sk-label-container\"><div class=\"sk-label fitted sk-toggleable\"><input class=\"sk-toggleable__control sk-hidden--visually\" id=\"sk-estimator-id-2\" type=\"checkbox\" ><label for=\"sk-estimator-id-2\" class=\"sk-toggleable__label fitted sk-toggleable__label-arrow fitted\">estimator: LogisticRegression</label><div class=\"sk-toggleable__content fitted\"><pre>LogisticRegression(max_iter=1000, random_state=42)</pre></div> </div></div><div class=\"sk-serial\"><div class=\"sk-item\"><div class=\"sk-estimator fitted sk-toggleable\"><input class=\"sk-toggleable__control sk-hidden--visually\" id=\"sk-estimator-id-3\" type=\"checkbox\" ><label for=\"sk-estimator-id-3\" class=\"sk-toggleable__label fitted sk-toggleable__label-arrow fitted\">&nbsp;LogisticRegression<a class=\"sk-estimator-doc-link fitted\" rel=\"noreferrer\" target=\"_blank\" href=\"https://scikit-learn.org/1.4/modules/generated/sklearn.linear_model.LogisticRegression.html\">?<span>Documentation for LogisticRegression</span></a></label><div class=\"sk-toggleable__content fitted\"><pre>LogisticRegression(max_iter=1000, random_state=42)</pre></div> </div></div></div></div></div></div></div></div></div>"
      ],
      "text/plain": [
       "GridSearchCV(cv=5, estimator=LogisticRegression(max_iter=1000, random_state=42),\n",
       "             n_jobs=-1,\n",
       "             param_grid={'C': [0.01, 0.1, 1, 10, 100], 'penalty': ['l2'],\n",
       "                         'solver': ['liblinear', 'lbfgs']},\n",
       "             scoring='accuracy', verbose=1)"
      ]
     },
     "execution_count": 66,
     "metadata": {},
     "output_type": "execute_result"
    }
   ],
   "source": [
    "grid_search.fit(X_train, y_train)"
   ]
  },
  {
   "cell_type": "code",
   "execution_count": 67,
   "id": "1c458374",
   "metadata": {},
   "outputs": [
    {
     "name": "stdout",
     "output_type": "stream",
     "text": [
      "Best parameters: {'C': 0.01, 'penalty': 'l2', 'solver': 'liblinear'}\n"
     ]
    }
   ],
   "source": [
    "print(\"Best parameters:\", grid_search.best_params_)"
   ]
  },
  {
   "cell_type": "markdown",
   "id": "dfadbfd2",
   "metadata": {},
   "source": [
    "Esses foram os parâmetros que resultaram em uma melhor performance do modelo."
   ]
  },
  {
   "cell_type": "code",
   "execution_count": 68,
   "id": "e63fc28b",
   "metadata": {},
   "outputs": [],
   "source": [
    "best_lr_model = grid_search.best_estimator_"
   ]
  },
  {
   "cell_type": "code",
   "execution_count": 69,
   "id": "0eaad778",
   "metadata": {},
   "outputs": [
    {
     "name": "stdout",
     "output_type": "stream",
     "text": [
      "Test accuracy: 89.64%\n"
     ]
    }
   ],
   "source": [
    "test_accuracy = best_lr_model.score(X_test, y_test)\n",
    "print(f'Test accuracy: {test_accuracy * 100:.2f}%')"
   ]
  },
  {
   "cell_type": "code",
   "execution_count": 70,
   "id": "5cc19705",
   "metadata": {},
   "outputs": [
    {
     "name": "stdout",
     "output_type": "stream",
     "text": [
      "              precision    recall  f1-score   support\n",
      "\n",
      "           0       0.88      0.91      0.90      3126\n",
      "           1       0.91      0.88      0.90      3209\n",
      "\n",
      "    accuracy                           0.90      6335\n",
      "   macro avg       0.90      0.90      0.90      6335\n",
      "weighted avg       0.90      0.90      0.90      6335\n",
      "\n"
     ]
    }
   ],
   "source": [
    "y_pred_new_logreg = best_lr_model.predict(X_test)\n",
    "\n",
    "print(classification_report(y_test, y_pred_new_logreg))"
   ]
  },
  {
   "cell_type": "markdown",
   "id": "267b528e",
   "metadata": {},
   "source": [
    "#### **Gráfico AUC - ROC (Regressão Logística)**\n",
    "\n",
    "O gráfico **ROC (Receiver Operating Characteristic)** é uma ferramenta para avaliar o desempenho de classificadores binários. Ele mostra a relação entre:\n",
    "\n",
    "* **True Positive Rate (TPR)**: sensibilidade.\n",
    "* **False Positive Rate (FPR)**: taxa de falsos positivos.\n",
    "\n",
    "#### **AUC (Area Under the Curve)**\n",
    "\n",
    "A área sob a curva (**AUC**) resume o desempenho do modelo.\n",
    "\n",
    "* Valor **próximo de 1.0** indica excelente separação entre classes.\n",
    "* Valor **próximo de 0.5** indica que o modelo **não está melhor do que o chute aleatório**."
   ]
  },
  {
   "cell_type": "code",
   "execution_count": 74,
   "id": "6a51769f",
   "metadata": {},
   "outputs": [
    {
     "data": {
      "image/png": "[encoded data removed]",
      "text/plain": [
       "<Figure size 800x600 with 1 Axes>"
      ]
     },
     "metadata": {},
     "output_type": "display_data"
    },
    {
     "data": {
      "text/plain": [
       "(0.9467207452169374,\n",
       " array([0.00000000e+00, 0.00000000e+00, 0.00000000e+00, 3.19897633e-04,\n",
       "        3.19897633e-04, 6.39795266e-04, 6.39795266e-04, 9.59692898e-04,\n",
       "        9.59692898e-04, 1.27959053e-03, 1.27959053e-03, 1.59948816e-03,\n",
       "        1.59948816e-03, 1.91938580e-03, 1.91938580e-03, 2.23928343e-03,\n",
       "        2.23928343e-03, 2.55918106e-03, 2.55918106e-03, 2.87907869e-03,\n",
       "        2.87907869e-03, 3.19897633e-03, 3.19897633e-03, 3.51887396e-03,\n",
       "        3.51887396e-03, 3.51887396e-03, 3.51887396e-03, 3.83877159e-03,\n",
       "        3.83877159e-03, 4.15866923e-03, 4.15866923e-03, 4.47856686e-03,\n",
       "        4.47856686e-03, 4.79846449e-03, 4.79846449e-03, 5.11836212e-03,\n",
       "        5.11836212e-03, 5.75815739e-03, 5.75815739e-03, 6.07805502e-03,\n",
       "        6.07805502e-03, 6.39795266e-03, 6.39795266e-03, 7.03774792e-03,\n",
       "        7.03774792e-03, 7.35764555e-03, 7.35764555e-03, 7.67754319e-03,\n",
       "        7.67754319e-03, 7.99744082e-03, 7.99744082e-03, 8.31733845e-03,\n",
       "        8.31733845e-03, 8.63723608e-03, 8.63723608e-03, 9.59692898e-03,\n",
       "        9.59692898e-03, 9.91682662e-03, 9.91682662e-03, 1.02367242e-02,\n",
       "        1.02367242e-02, 1.05566219e-02, 1.05566219e-02, 1.08765195e-02,\n",
       "        1.08765195e-02, 1.11964171e-02, 1.11964171e-02, 1.15163148e-02,\n",
       "        1.15163148e-02, 1.18362124e-02, 1.18362124e-02, 1.21561100e-02,\n",
       "        1.21561100e-02, 1.24760077e-02, 1.24760077e-02, 1.24760077e-02,\n",
       "        1.24760077e-02, 1.27959053e-02, 1.27959053e-02, 1.31158029e-02,\n",
       "        1.31158029e-02, 1.37555982e-02, 1.37555982e-02, 1.40754958e-02,\n",
       "        1.40754958e-02, 1.43953935e-02, 1.43953935e-02, 1.47152911e-02,\n",
       "        1.47152911e-02, 1.50351887e-02, 1.50351887e-02, 1.53550864e-02,\n",
       "        1.53550864e-02, 1.56749840e-02, 1.56749840e-02, 1.59948816e-02,\n",
       "        1.59948816e-02, 1.63147793e-02, 1.63147793e-02, 1.66346769e-02,\n",
       "        1.66346769e-02, 1.69545745e-02, 1.69545745e-02, 1.72744722e-02,\n",
       "        1.72744722e-02, 1.75943698e-02, 1.75943698e-02, 1.79142674e-02,\n",
       "        1.79142674e-02, 1.82341651e-02, 1.82341651e-02, 1.85540627e-02,\n",
       "        1.85540627e-02, 1.88739603e-02, 1.88739603e-02, 1.91938580e-02,\n",
       "        1.91938580e-02, 1.95137556e-02, 1.95137556e-02, 1.98336532e-02,\n",
       "        1.98336532e-02, 2.01535509e-02, 2.01535509e-02, 2.04734485e-02,\n",
       "        2.04734485e-02, 2.07933461e-02, 2.07933461e-02, 2.11132438e-02,\n",
       "        2.11132438e-02, 2.14331414e-02, 2.14331414e-02, 2.17530390e-02,\n",
       "        2.17530390e-02, 2.20729367e-02, 2.20729367e-02, 2.23928343e-02,\n",
       "        2.23928343e-02, 2.27127319e-02, 2.27127319e-02, 2.30326296e-02,\n",
       "        2.30326296e-02, 2.33525272e-02, 2.33525272e-02, 2.36724248e-02,\n",
       "        2.36724248e-02, 2.39923225e-02, 2.39923225e-02, 2.43122201e-02,\n",
       "        2.43122201e-02, 2.46321177e-02, 2.46321177e-02, 2.49520154e-02,\n",
       "        2.49520154e-02, 2.52719130e-02, 2.52719130e-02, 2.55918106e-02,\n",
       "        2.55918106e-02, 2.59117083e-02, 2.59117083e-02, 2.62316059e-02,\n",
       "        2.62316059e-02, 2.65515035e-02, 2.65515035e-02, 2.68714012e-02,\n",
       "        2.68714012e-02, 2.71912988e-02, 2.71912988e-02, 2.75111964e-02,\n",
       "        2.75111964e-02, 2.81509917e-02, 2.81509917e-02, 2.84708893e-02,\n",
       "        2.84708893e-02, 2.87907869e-02, 2.87907869e-02, 2.91106846e-02,\n",
       "        2.91106846e-02, 2.94305822e-02, 2.94305822e-02, 3.00703775e-02,\n",
       "        3.00703775e-02, 3.03902751e-02, 3.03902751e-02, 3.07101727e-02,\n",
       "        3.07101727e-02, 3.10300704e-02, 3.10300704e-02, 3.13499680e-02,\n",
       "        3.13499680e-02, 3.16698656e-02, 3.16698656e-02, 3.19897633e-02,\n",
       "        3.19897633e-02, 3.26295585e-02, 3.26295585e-02, 3.29494562e-02,\n",
       "        3.29494562e-02, 3.32693538e-02, 3.32693538e-02, 3.35892514e-02,\n",
       "        3.35892514e-02, 3.39091491e-02, 3.39091491e-02, 3.42290467e-02,\n",
       "        3.42290467e-02, 3.45489443e-02, 3.45489443e-02, 3.48688420e-02,\n",
       "        3.48688420e-02, 3.51887396e-02, 3.51887396e-02, 3.55086372e-02,\n",
       "        3.55086372e-02, 3.58285349e-02, 3.58285349e-02, 3.61484325e-02,\n",
       "        3.61484325e-02, 3.64683301e-02, 3.64683301e-02, 3.67882278e-02,\n",
       "        3.67882278e-02, 3.71081254e-02, 3.71081254e-02, 3.74280230e-02,\n",
       "        3.74280230e-02, 3.77479207e-02, 3.77479207e-02, 3.80678183e-02,\n",
       "        3.80678183e-02, 3.83877159e-02, 3.83877159e-02, 3.90275112e-02,\n",
       "        3.90275112e-02, 3.96673065e-02, 3.96673065e-02, 3.99872041e-02,\n",
       "        3.99872041e-02, 4.06269994e-02, 4.06269994e-02, 4.09468970e-02,\n",
       "        4.09468970e-02, 4.12667946e-02, 4.12667946e-02, 4.15866923e-02,\n",
       "        4.15866923e-02, 4.19065899e-02, 4.19065899e-02, 4.22264875e-02,\n",
       "        4.22264875e-02, 4.25463852e-02, 4.25463852e-02, 4.31861804e-02,\n",
       "        4.31861804e-02, 4.35060781e-02, 4.35060781e-02, 4.38259757e-02,\n",
       "        4.38259757e-02, 4.44657710e-02, 4.44657710e-02, 4.47856686e-02,\n",
       "        4.47856686e-02, 4.51055662e-02, 4.51055662e-02, 4.54254639e-02,\n",
       "        4.54254639e-02, 4.67050544e-02, 4.67050544e-02, 4.70249520e-02,\n",
       "        4.70249520e-02, 4.73448496e-02, 4.73448496e-02, 4.76647473e-02,\n",
       "        4.76647473e-02, 4.79846449e-02, 4.79846449e-02, 4.83045425e-02,\n",
       "        4.83045425e-02, 4.86244402e-02, 4.86244402e-02, 4.89443378e-02,\n",
       "        4.89443378e-02, 4.92642354e-02, 4.92642354e-02, 4.95841331e-02,\n",
       "        4.95841331e-02, 4.99040307e-02, 4.99040307e-02, 5.05438260e-02,\n",
       "        5.05438260e-02, 5.08637236e-02, 5.08637236e-02, 5.11836212e-02,\n",
       "        5.11836212e-02, 5.15035189e-02, 5.15035189e-02, 5.18234165e-02,\n",
       "        5.18234165e-02, 5.21433141e-02, 5.21433141e-02, 5.24632118e-02,\n",
       "        5.24632118e-02, 5.27831094e-02, 5.27831094e-02, 5.31030070e-02,\n",
       "        5.31030070e-02, 5.34229047e-02, 5.34229047e-02, 5.37428023e-02,\n",
       "        5.37428023e-02, 5.40626999e-02, 5.40626999e-02, 5.43825976e-02,\n",
       "        5.43825976e-02, 5.47024952e-02, 5.47024952e-02, 5.50223928e-02,\n",
       "        5.50223928e-02, 5.53422905e-02, 5.53422905e-02, 5.56621881e-02,\n",
       "        5.56621881e-02, 5.63019834e-02, 5.63019834e-02, 5.66218810e-02,\n",
       "        5.66218810e-02, 5.69417786e-02, 5.69417786e-02, 5.72616763e-02,\n",
       "        5.72616763e-02, 5.75815739e-02, 5.75815739e-02, 5.79014715e-02,\n",
       "        5.79014715e-02, 5.82213692e-02, 5.82213692e-02, 5.85412668e-02,\n",
       "        5.85412668e-02, 5.88611644e-02, 5.88611644e-02, 5.91810621e-02,\n",
       "        5.91810621e-02, 5.95009597e-02, 5.95009597e-02, 5.98208573e-02,\n",
       "        5.98208573e-02, 6.01407550e-02, 6.01407550e-02, 6.04606526e-02,\n",
       "        6.04606526e-02, 6.07805502e-02, 6.07805502e-02, 6.11004479e-02,\n",
       "        6.11004479e-02, 6.20601408e-02, 6.20601408e-02, 6.26999360e-02,\n",
       "        6.26999360e-02, 6.30198337e-02, 6.30198337e-02, 6.33397313e-02,\n",
       "        6.33397313e-02, 6.39795266e-02, 6.39795266e-02, 6.42994242e-02,\n",
       "        6.42994242e-02, 6.46193218e-02, 6.46193218e-02, 6.49392194e-02,\n",
       "        6.49392194e-02, 6.52591171e-02, 6.52591171e-02, 6.55790147e-02,\n",
       "        6.55790147e-02, 6.58989123e-02, 6.58989123e-02, 6.62188100e-02,\n",
       "        6.62188100e-02, 6.71785029e-02, 6.71785029e-02, 6.74984005e-02,\n",
       "        6.74984005e-02, 6.78182981e-02, 6.78182981e-02, 6.84580934e-02,\n",
       "        6.84580934e-02, 6.87779910e-02, 6.87779910e-02, 6.90978887e-02,\n",
       "        6.90978887e-02, 7.00575816e-02, 7.00575816e-02, 7.10172745e-02,\n",
       "        7.10172745e-02, 7.13371721e-02, 7.13371721e-02, 7.16570697e-02,\n",
       "        7.16570697e-02, 7.19769674e-02, 7.19769674e-02, 7.32565579e-02,\n",
       "        7.32565579e-02, 7.42162508e-02, 7.42162508e-02, 7.51759437e-02,\n",
       "        7.51759437e-02, 7.58157390e-02, 7.58157390e-02, 7.61356366e-02,\n",
       "        7.61356366e-02, 7.64555342e-02, 7.64555342e-02, 7.67754319e-02,\n",
       "        7.67754319e-02, 7.70953295e-02, 7.70953295e-02, 7.77351248e-02,\n",
       "        7.77351248e-02, 7.86948177e-02, 7.86948177e-02, 7.90147153e-02,\n",
       "        7.90147153e-02, 7.93346129e-02, 7.93346129e-02, 7.96545106e-02,\n",
       "        7.96545106e-02, 7.99744082e-02, 7.99744082e-02, 8.06142035e-02,\n",
       "        8.06142035e-02, 8.09341011e-02, 8.09341011e-02, 8.15738964e-02,\n",
       "        8.15738964e-02, 8.18937940e-02, 8.18937940e-02, 8.22136916e-02,\n",
       "        8.22136916e-02, 8.25335893e-02, 8.25335893e-02, 8.34932821e-02,\n",
       "        8.34932821e-02, 8.38131798e-02, 8.38131798e-02, 8.47728727e-02,\n",
       "        8.47728727e-02, 8.50927703e-02, 8.50927703e-02, 8.54126679e-02,\n",
       "        8.54126679e-02, 8.57325656e-02, 8.57325656e-02, 8.60524632e-02,\n",
       "        8.60524632e-02, 8.63723608e-02, 8.63723608e-02, 8.66922585e-02,\n",
       "        8.66922585e-02, 8.76519514e-02, 8.76519514e-02, 8.79718490e-02,\n",
       "        8.79718490e-02, 8.82917466e-02, 8.82917466e-02, 8.92514395e-02,\n",
       "        8.92514395e-02, 8.95713372e-02, 8.95713372e-02, 9.05310301e-02,\n",
       "        9.05310301e-02, 9.14907230e-02, 9.14907230e-02, 9.18106206e-02,\n",
       "        9.18106206e-02, 9.24504159e-02, 9.24504159e-02, 9.30902111e-02,\n",
       "        9.30902111e-02, 9.37300064e-02, 9.37300064e-02, 9.40499040e-02,\n",
       "        9.40499040e-02, 9.43698017e-02, 9.43698017e-02, 9.46896993e-02,\n",
       "        9.46896993e-02, 9.53294946e-02, 9.53294946e-02, 9.66090851e-02,\n",
       "        9.66090851e-02, 9.72488804e-02, 9.72488804e-02, 9.75687780e-02,\n",
       "        9.75687780e-02, 9.82085733e-02, 9.82085733e-02, 9.85284709e-02,\n",
       "        9.85284709e-02, 9.98080614e-02, 9.98080614e-02, 1.00447857e-01,\n",
       "        1.00447857e-01, 1.01087652e-01, 1.01087652e-01, 1.01407550e-01,\n",
       "        1.01407550e-01, 1.01727447e-01, 1.01727447e-01, 1.02687140e-01,\n",
       "        1.02687140e-01, 1.03007038e-01, 1.03007038e-01, 1.03646833e-01,\n",
       "        1.03646833e-01, 1.05566219e-01, 1.05566219e-01, 1.07165707e-01,\n",
       "        1.07165707e-01, 1.07805502e-01, 1.07805502e-01, 1.08125400e-01,\n",
       "        1.08125400e-01, 1.09085093e-01, 1.09085093e-01, 1.09404990e-01,\n",
       "        1.09404990e-01, 1.09724888e-01, 1.09724888e-01, 1.10044786e-01,\n",
       "        1.10044786e-01, 1.10364683e-01, 1.10364683e-01, 1.11004479e-01,\n",
       "        1.11004479e-01, 1.11324376e-01, 1.11324376e-01, 1.11644274e-01,\n",
       "        1.11644274e-01, 1.12284069e-01, 1.12284069e-01, 1.12603967e-01,\n",
       "        1.12603967e-01, 1.12923864e-01, 1.12923864e-01, 1.13243762e-01,\n",
       "        1.13243762e-01, 1.13563660e-01, 1.13563660e-01, 1.13883557e-01,\n",
       "        1.13883557e-01, 1.14843250e-01, 1.14843250e-01, 1.16122841e-01,\n",
       "        1.16122841e-01, 1.16442738e-01, 1.16442738e-01, 1.17722329e-01,\n",
       "        1.17722329e-01, 1.18682022e-01, 1.18682022e-01, 1.19321817e-01,\n",
       "        1.19321817e-01, 1.19961612e-01, 1.19961612e-01, 1.20281510e-01,\n",
       "        1.20281510e-01, 1.20601408e-01, 1.20601408e-01, 1.21241203e-01,\n",
       "        1.21241203e-01, 1.22520793e-01, 1.22520793e-01, 1.23800384e-01,\n",
       "        1.23800384e-01, 1.24120282e-01, 1.24120282e-01, 1.25079974e-01,\n",
       "        1.25079974e-01, 1.25399872e-01, 1.25399872e-01, 1.26359565e-01,\n",
       "        1.26359565e-01, 1.26679463e-01, 1.26679463e-01, 1.27639155e-01,\n",
       "        1.27639155e-01, 1.27959053e-01, 1.27959053e-01, 1.28598848e-01,\n",
       "        1.28598848e-01, 1.29238644e-01, 1.29238644e-01, 1.29558541e-01,\n",
       "        1.29558541e-01, 1.30198337e-01, 1.30198337e-01, 1.32117722e-01,\n",
       "        1.32117722e-01, 1.32437620e-01, 1.32437620e-01, 1.33717210e-01,\n",
       "        1.33717210e-01, 1.34676903e-01, 1.34676903e-01, 1.35956494e-01,\n",
       "        1.35956494e-01, 1.37236084e-01, 1.37236084e-01, 1.39155470e-01,\n",
       "        1.39155470e-01, 1.41074856e-01, 1.41074856e-01, 1.42354447e-01,\n",
       "        1.42354447e-01, 1.42674344e-01, 1.42674344e-01, 1.43953935e-01,\n",
       "        1.43953935e-01, 1.45873321e-01, 1.45873321e-01, 1.48112604e-01,\n",
       "        1.48112604e-01, 1.49072297e-01, 1.49072297e-01, 1.53550864e-01,\n",
       "        1.53550864e-01, 1.53870761e-01, 1.53870761e-01, 1.55150352e-01,\n",
       "        1.55150352e-01, 1.57709533e-01, 1.57709533e-01, 1.60588612e-01,\n",
       "        1.60588612e-01, 1.61228407e-01, 1.61228407e-01, 1.63467690e-01,\n",
       "        1.63467690e-01, 1.69545745e-01, 1.69545745e-01, 1.70185541e-01,\n",
       "        1.70185541e-01, 1.71145234e-01, 1.71145234e-01, 1.72744722e-01,\n",
       "        1.72744722e-01, 1.73704415e-01, 1.73704415e-01, 1.74024312e-01,\n",
       "        1.74024312e-01, 1.79142674e-01, 1.79142674e-01, 1.80422265e-01,\n",
       "        1.80422265e-01, 1.80742163e-01, 1.80742163e-01, 1.81062060e-01,\n",
       "        1.81062060e-01, 1.81701855e-01, 1.81701855e-01, 1.85860525e-01,\n",
       "        1.85860525e-01, 1.86500320e-01, 1.86500320e-01, 1.87779910e-01,\n",
       "        1.87779910e-01, 1.90019194e-01, 1.90019194e-01, 1.90978887e-01,\n",
       "        1.90978887e-01, 1.94497761e-01, 1.94497761e-01, 2.00575816e-01,\n",
       "        2.00575816e-01, 2.06973768e-01, 2.06973768e-01, 2.09213052e-01,\n",
       "        2.09213052e-01, 2.09532949e-01, 2.09532949e-01, 2.10172745e-01,\n",
       "        2.10172745e-01, 2.11132438e-01, 2.11132438e-01, 2.14651312e-01,\n",
       "        2.14651312e-01, 2.17530390e-01, 2.17530390e-01, 2.20409469e-01,\n",
       "        2.20409469e-01, 2.21049264e-01, 2.21049264e-01, 2.22968650e-01,\n",
       "        2.22968650e-01, 2.23608445e-01, 2.23608445e-01, 2.23928343e-01,\n",
       "        2.23928343e-01, 2.33205374e-01, 2.33205374e-01, 2.35764555e-01,\n",
       "        2.35764555e-01, 2.37683941e-01, 2.37683941e-01, 2.40882917e-01,\n",
       "        2.40882917e-01, 2.42482406e-01, 2.42482406e-01, 2.43442099e-01,\n",
       "        2.43442099e-01, 2.45361484e-01, 2.45361484e-01, 2.52399232e-01,\n",
       "        2.52399232e-01, 2.55598209e-01, 2.55598209e-01, 2.56557901e-01,\n",
       "        2.56557901e-01, 2.59436980e-01, 2.59436980e-01, 2.77031350e-01,\n",
       "        2.77031350e-01, 2.79270633e-01, 2.79270633e-01, 2.82149712e-01,\n",
       "        2.82149712e-01, 2.82469610e-01, 2.82469610e-01, 2.83109405e-01,\n",
       "        2.83109405e-01, 2.85028791e-01, 2.85028791e-01, 2.85348688e-01,\n",
       "        2.85348688e-01, 2.91106846e-01, 2.91106846e-01, 2.96545106e-01,\n",
       "        2.96545106e-01, 2.98784389e-01, 2.98784389e-01, 3.04862444e-01,\n",
       "        3.04862444e-01, 3.05182342e-01, 3.05182342e-01, 3.08701216e-01,\n",
       "        3.08701216e-01, 3.09341011e-01, 3.09341011e-01, 3.11900192e-01,\n",
       "        3.11900192e-01, 3.13819578e-01, 3.13819578e-01, 3.14139475e-01,\n",
       "        3.14139475e-01, 3.14779271e-01, 3.14779271e-01, 3.15419066e-01,\n",
       "        3.15419066e-01, 3.18937940e-01, 3.18937940e-01, 3.19577735e-01,\n",
       "        3.19577735e-01, 3.20537428e-01, 3.20537428e-01, 3.25015995e-01,\n",
       "        3.25015995e-01, 3.29814459e-01, 3.29814459e-01, 3.31094050e-01,\n",
       "        3.31094050e-01, 3.39091491e-01, 3.39091491e-01, 3.41010877e-01,\n",
       "        3.41010877e-01, 3.41970569e-01, 3.41970569e-01, 3.48368522e-01,\n",
       "        3.48368522e-01, 3.49648113e-01, 3.49648113e-01, 3.53486884e-01,\n",
       "        3.53486884e-01, 3.53806782e-01, 3.53806782e-01, 3.55086372e-01,\n",
       "        3.55086372e-01, 3.57325656e-01, 3.57325656e-01, 3.59564939e-01,\n",
       "        3.59564939e-01, 3.60844530e-01, 3.60844530e-01, 3.63403711e-01,\n",
       "        3.63403711e-01, 3.67562380e-01, 3.67562380e-01, 3.71401152e-01,\n",
       "        3.71401152e-01, 3.75559821e-01, 3.75559821e-01, 3.76199616e-01,\n",
       "        3.76199616e-01, 3.78758797e-01, 3.78758797e-01, 3.80998081e-01,\n",
       "        3.80998081e-01, 3.83237364e-01, 3.83237364e-01, 3.86436340e-01,\n",
       "        3.86436340e-01, 3.95393474e-01, 3.95393474e-01, 3.96353167e-01,\n",
       "        3.96353167e-01, 3.99232246e-01, 3.99232246e-01, 4.00831734e-01,\n",
       "        4.00831734e-01, 4.09149072e-01, 4.09149072e-01, 4.20025592e-01,\n",
       "        4.20025592e-01, 4.20665387e-01, 4.20665387e-01, 4.32821497e-01,\n",
       "        4.32821497e-01, 4.47536788e-01, 4.47536788e-01, 4.50095969e-01,\n",
       "        4.50095969e-01, 4.54574536e-01, 4.54574536e-01, 4.59053103e-01,\n",
       "        4.59053103e-01, 4.67370441e-01, 4.67370441e-01, 4.68650032e-01,\n",
       "        4.68650032e-01, 4.76647473e-01, 4.76647473e-01, 4.77927063e-01,\n",
       "        4.77927063e-01, 4.86244402e-01, 4.86244402e-01, 4.87523992e-01,\n",
       "        4.87523992e-01, 4.90083173e-01, 4.90083173e-01, 5.02239283e-01,\n",
       "        5.02239283e-01, 5.02559181e-01, 5.02559181e-01, 5.07997441e-01,\n",
       "        5.07997441e-01, 5.08957134e-01, 5.08957134e-01, 5.12476008e-01,\n",
       "        5.12476008e-01, 5.13435701e-01, 5.13435701e-01, 5.13755598e-01,\n",
       "        5.13755598e-01, 5.20153551e-01, 5.20153551e-01, 5.27831094e-01,\n",
       "        5.28470889e-01, 5.30710173e-01, 5.30710173e-01, 5.37108125e-01,\n",
       "        5.37108125e-01, 5.37428023e-01, 5.37428023e-01, 5.38707614e-01,\n",
       "        5.38707614e-01, 5.39347409e-01, 5.39347409e-01, 5.44145873e-01,\n",
       "        5.44145873e-01, 5.48624440e-01, 5.48624440e-01, 5.53742802e-01,\n",
       "        5.53742802e-01, 5.60140755e-01, 5.60140755e-01, 5.61740243e-01,\n",
       "        5.61740243e-01, 5.68138196e-01, 5.68138196e-01, 5.68458093e-01,\n",
       "        5.68458093e-01, 5.70057582e-01, 5.70057582e-01, 5.79014715e-01,\n",
       "        5.79014715e-01, 5.84133077e-01, 5.84133077e-01, 5.87012156e-01,\n",
       "        5.87012156e-01, 5.91810621e-01, 5.91810621e-01, 5.96289187e-01,\n",
       "        5.96289187e-01, 5.99168266e-01, 5.99168266e-01, 6.01407550e-01,\n",
       "        6.01407550e-01, 6.42354447e-01, 6.42354447e-01, 6.47472809e-01,\n",
       "        6.47472809e-01, 6.58029431e-01, 6.58029431e-01, 6.61548305e-01,\n",
       "        6.61548305e-01, 6.65067179e-01, 6.65067179e-01, 6.66666667e-01,\n",
       "        6.66666667e-01, 6.68266155e-01, 6.68266155e-01, 6.70185541e-01,\n",
       "        6.70185541e-01, 6.87779910e-01, 6.87779910e-01, 6.88739603e-01,\n",
       "        6.88739603e-01, 6.91938580e-01, 6.91938580e-01, 6.94497761e-01,\n",
       "        6.94497761e-01, 6.98336532e-01, 6.98336532e-01, 7.19769674e-01,\n",
       "        7.19769674e-01, 7.29686500e-01, 7.29686500e-01, 7.31285988e-01,\n",
       "        7.31285988e-01, 7.40243122e-01, 7.40243122e-01, 7.43122201e-01,\n",
       "        7.43122201e-01, 7.46641075e-01, 7.46641075e-01, 7.52719130e-01,\n",
       "        7.52719130e-01, 7.77351248e-01, 7.77351248e-01, 8.28214971e-01,\n",
       "        8.28214971e-01, 8.30134357e-01, 8.30134357e-01, 8.41010877e-01,\n",
       "        8.41010877e-01, 8.47088932e-01, 8.47088932e-01, 8.49648113e-01,\n",
       "        8.49648113e-01, 8.49968010e-01, 8.49968010e-01, 8.57005758e-01,\n",
       "        8.57005758e-01, 8.62763916e-01, 8.62763916e-01, 8.70441459e-01,\n",
       "        8.70441459e-01, 8.72040947e-01, 8.72040947e-01, 8.74600128e-01,\n",
       "        8.74600128e-01, 8.87715931e-01, 8.87715931e-01, 9.05630198e-01,\n",
       "        9.05630198e-01, 9.08189379e-01, 9.08189379e-01, 9.12028151e-01,\n",
       "        9.12028151e-01, 9.13627639e-01, 9.13627639e-01, 9.22904671e-01,\n",
       "        9.22904671e-01, 9.28662828e-01, 9.28662828e-01, 9.60012796e-01,\n",
       "        9.60012796e-01, 9.67050544e-01, 9.67050544e-01, 9.71209213e-01,\n",
       "        9.71209213e-01, 9.80486244e-01, 9.80486244e-01, 9.83685221e-01,\n",
       "        9.83685221e-01, 9.98080614e-01, 9.98080614e-01, 9.98720409e-01,\n",
       "        9.98720409e-01, 1.00000000e+00]),\n",
       " array([0.00000000e+00, 3.11623559e-04, 3.98878155e-02, 3.98878155e-02,\n",
       "        4.11343098e-02, 4.11343098e-02, 6.29479589e-02, 6.29479589e-02,\n",
       "        1.05017139e-01, 1.05017139e-01, 1.14677470e-01, 1.14677470e-01,\n",
       "        1.24026176e-01, 1.24026176e-01, 1.43035213e-01, 1.43035213e-01,\n",
       "        1.67653475e-01, 1.67653475e-01, 2.05983172e-01, 2.05983172e-01,\n",
       "        2.37145528e-01, 2.37145528e-01, 2.46494235e-01, 2.46494235e-01,\n",
       "        2.53661577e-01, 2.54284824e-01, 2.62075413e-01, 2.62075413e-01,\n",
       "        3.07260829e-01, 3.07260829e-01, 3.15051418e-01, 3.15051418e-01,\n",
       "        3.21283889e-01, 3.21283889e-01, 3.22530383e-01, 3.22530383e-01,\n",
       "        3.22842007e-01, 3.22842007e-01, 3.32190714e-01, 3.32190714e-01,\n",
       "        3.32502337e-01, 3.32502337e-01, 3.39669679e-01, 3.39669679e-01,\n",
       "        3.53692739e-01, 3.53692739e-01, 3.60548457e-01, 3.60548457e-01,\n",
       "        3.75194765e-01, 3.75194765e-01, 3.84543471e-01, 3.84543471e-01,\n",
       "        3.88906201e-01, 3.88906201e-01, 4.07915238e-01, 4.07915238e-01,\n",
       "        4.14770957e-01, 4.14770957e-01, 4.17263945e-01, 4.17263945e-01,\n",
       "        4.24742911e-01, 4.24742911e-01, 4.26301028e-01, 4.26301028e-01,\n",
       "        4.29105640e-01, 4.29105640e-01, 4.30040511e-01, 4.30040511e-01,\n",
       "        4.35961359e-01, 4.35961359e-01, 4.37207853e-01, 4.37207853e-01,\n",
       "        4.43440324e-01, 4.43440324e-01, 4.44375195e-01, 4.44998442e-01,\n",
       "        4.52165784e-01, 4.52165784e-01, 4.58398255e-01, 4.58398255e-01,\n",
       "        4.61826114e-01, 4.61826114e-01, 4.66188844e-01, 4.66188844e-01,\n",
       "        4.68993456e-01, 4.68993456e-01, 4.71486444e-01, 4.71486444e-01,\n",
       "        4.74602680e-01, 4.74602680e-01, 4.75225927e-01, 4.75225927e-01,\n",
       "        4.79588657e-01, 4.79588657e-01, 4.81458398e-01, 4.81458398e-01,\n",
       "        4.84263010e-01, 4.84263010e-01, 4.92365223e-01, 4.92365223e-01,\n",
       "        4.97351200e-01, 4.97351200e-01, 5.01090682e-01, 5.01090682e-01,\n",
       "        5.01713930e-01, 5.01713930e-01, 5.10439389e-01, 5.10439389e-01,\n",
       "        5.10751013e-01, 5.10751013e-01, 5.20099720e-01, 5.20099720e-01,\n",
       "        5.22592708e-01, 5.22592708e-01, 5.28201932e-01, 5.28201932e-01,\n",
       "        5.38173886e-01, 5.38173886e-01, 5.40043627e-01, 5.40043627e-01,\n",
       "        5.40978498e-01, 5.40978498e-01, 5.51262075e-01, 5.51262075e-01,\n",
       "        5.53131817e-01, 5.53131817e-01, 5.73698972e-01, 5.73698972e-01,\n",
       "        5.79619819e-01, 5.79619819e-01, 5.83047678e-01, 5.83047678e-01,\n",
       "        5.84294173e-01, 5.84294173e-01, 5.85852290e-01, 5.85852290e-01,\n",
       "        5.93642879e-01, 5.93642879e-01, 6.02991586e-01, 6.02991586e-01,\n",
       "        6.04861328e-01, 6.04861328e-01, 6.05796198e-01, 6.05796198e-01,\n",
       "        6.06731069e-01, 6.06731069e-01, 6.08912434e-01, 6.08912434e-01,\n",
       "        6.10782175e-01, 6.10782175e-01, 6.12651916e-01, 6.12651916e-01,\n",
       "        6.14833281e-01, 6.14833281e-01, 6.19196011e-01, 6.19196011e-01,\n",
       "        6.20754129e-01, 6.20754129e-01, 6.22312247e-01, 6.22312247e-01,\n",
       "        6.23558741e-01, 6.23558741e-01, 6.28856342e-01, 6.28856342e-01,\n",
       "        6.32595824e-01, 6.32595824e-01, 6.34777189e-01, 6.34777189e-01,\n",
       "        6.39763166e-01, 6.39763166e-01, 6.45684014e-01, 6.45684014e-01,\n",
       "        6.46618884e-01, 6.46618884e-01, 6.46930508e-01, 6.46930508e-01,\n",
       "        6.49111873e-01, 6.49111873e-01, 6.50046744e-01, 6.50046744e-01,\n",
       "        6.55344344e-01, 6.55344344e-01, 6.56279215e-01, 6.56279215e-01,\n",
       "        6.61888439e-01, 6.61888439e-01, 6.62200062e-01, 6.62200062e-01,\n",
       "        6.64693051e-01, 6.64693051e-01, 6.69367404e-01, 6.69367404e-01,\n",
       "        6.70302275e-01, 6.70302275e-01, 6.71548769e-01, 6.71548769e-01,\n",
       "        6.74353381e-01, 6.74353381e-01, 6.76534746e-01, 6.76534746e-01,\n",
       "        6.81832347e-01, 6.81832347e-01, 6.83078841e-01, 6.83078841e-01,\n",
       "        6.90246183e-01, 6.90246183e-01, 6.97101901e-01, 6.97101901e-01,\n",
       "        6.97725148e-01, 6.97725148e-01, 7.01464631e-01, 7.01464631e-01,\n",
       "        7.02711125e-01, 7.02711125e-01, 7.04892490e-01, 7.04892490e-01,\n",
       "        7.06138984e-01, 7.06138984e-01, 7.08320349e-01, 7.08320349e-01,\n",
       "        7.10501714e-01, 7.10501714e-01, 7.11436585e-01, 7.11436585e-01,\n",
       "        7.11748208e-01, 7.11748208e-01, 7.14241197e-01, 7.14241197e-01,\n",
       "        7.18292303e-01, 7.18292303e-01, 7.22655033e-01, 7.22655033e-01,\n",
       "        7.22966656e-01, 7.22966656e-01, 7.23278280e-01, 7.23278280e-01,\n",
       "        7.23901527e-01, 7.23901527e-01, 7.24836398e-01, 7.24836398e-01,\n",
       "        7.29199127e-01, 7.29199127e-01, 7.30445622e-01, 7.30445622e-01,\n",
       "        7.31068869e-01, 7.31068869e-01, 7.32003739e-01, 7.32003739e-01,\n",
       "        7.34185104e-01, 7.34185104e-01, 7.36366469e-01, 7.36366469e-01,\n",
       "        7.36989716e-01, 7.36989716e-01, 7.37612964e-01, 7.37612964e-01,\n",
       "        7.37924587e-01, 7.37924587e-01, 7.43222188e-01, 7.43222188e-01,\n",
       "        7.47896541e-01, 7.47896541e-01, 7.49454659e-01, 7.49454659e-01,\n",
       "        7.51947647e-01, 7.51947647e-01, 7.53505765e-01, 7.53505765e-01,\n",
       "        7.54752259e-01, 7.54752259e-01, 7.55375506e-01, 7.55375506e-01,\n",
       "        7.56310377e-01, 7.56310377e-01, 7.57868495e-01, 7.57868495e-01,\n",
       "        7.61919601e-01, 7.61919601e-01, 7.63789342e-01, 7.63789342e-01,\n",
       "        7.64100966e-01, 7.64100966e-01, 7.66593955e-01, 7.66593955e-01,\n",
       "        7.67528825e-01, 7.67528825e-01, 7.71891555e-01, 7.71891555e-01,\n",
       "        7.72514802e-01, 7.72514802e-01, 7.74384543e-01, 7.74384543e-01,\n",
       "        7.75007791e-01, 7.75007791e-01, 7.77189156e-01, 7.77189156e-01,\n",
       "        7.80305391e-01, 7.80305391e-01, 7.80928638e-01, 7.80928638e-01,\n",
       "        7.83733250e-01, 7.83733250e-01, 7.86226239e-01, 7.86226239e-01,\n",
       "        7.87472733e-01, 7.87472733e-01, 7.88407604e-01, 7.88407604e-01,\n",
       "        7.89030851e-01, 7.89030851e-01, 7.91212216e-01, 7.91212216e-01,\n",
       "        7.95263322e-01, 7.95263322e-01, 7.95574945e-01, 7.95574945e-01,\n",
       "        7.97444687e-01, 7.97444687e-01, 8.01184170e-01, 8.01184170e-01,\n",
       "        8.01807417e-01, 8.01807417e-01, 8.03677158e-01, 8.03677158e-01,\n",
       "        8.05235276e-01, 8.05235276e-01, 8.11156123e-01, 8.11156123e-01,\n",
       "        8.13025865e-01, 8.13025865e-01, 8.13649112e-01, 8.13649112e-01,\n",
       "        8.16453724e-01, 8.16453724e-01, 8.17076971e-01, 8.17076971e-01,\n",
       "        8.18635089e-01, 8.18635089e-01, 8.18946712e-01, 8.18946712e-01,\n",
       "        8.19258336e-01, 8.19258336e-01, 8.23932689e-01, 8.23932689e-01,\n",
       "        8.24555936e-01, 8.24555936e-01, 8.24867560e-01, 8.24867560e-01,\n",
       "        8.25802431e-01, 8.25802431e-01, 8.27048925e-01, 8.27048925e-01,\n",
       "        8.29853537e-01, 8.29853537e-01, 8.30476784e-01, 8.30476784e-01,\n",
       "        8.32034902e-01, 8.32034902e-01, 8.32658149e-01, 8.32658149e-01,\n",
       "        8.35462761e-01, 8.35462761e-01, 8.36397632e-01, 8.36397632e-01,\n",
       "        8.38578997e-01, 8.38578997e-01, 8.38890620e-01, 8.38890620e-01,\n",
       "        8.39513867e-01, 8.39513867e-01, 8.41071985e-01, 8.41071985e-01,\n",
       "        8.41695232e-01, 8.41695232e-01, 8.42006856e-01, 8.42006856e-01,\n",
       "        8.42630103e-01, 8.42630103e-01, 8.43564974e-01, 8.43564974e-01,\n",
       "        8.43876597e-01, 8.43876597e-01, 8.45123091e-01, 8.45123091e-01,\n",
       "        8.45746338e-01, 8.45746338e-01, 8.46681209e-01, 8.46681209e-01,\n",
       "        8.47927703e-01, 8.47927703e-01, 8.48239327e-01, 8.48239327e-01,\n",
       "        8.49797445e-01, 8.49797445e-01, 8.50420692e-01, 8.50420692e-01,\n",
       "        8.51978810e-01, 8.51978810e-01, 8.56653163e-01, 8.56653163e-01,\n",
       "        8.57276410e-01, 8.57276410e-01, 8.57588034e-01, 8.57588034e-01,\n",
       "        8.58211281e-01, 8.58211281e-01, 8.59457775e-01, 8.59457775e-01,\n",
       "        8.59769399e-01, 8.59769399e-01, 8.60392646e-01, 8.60392646e-01,\n",
       "        8.61327516e-01, 8.61327516e-01, 8.61639140e-01, 8.61639140e-01,\n",
       "        8.62885634e-01, 8.62885634e-01, 8.63197258e-01, 8.63197258e-01,\n",
       "        8.63508881e-01, 8.63508881e-01, 8.64132128e-01, 8.64132128e-01,\n",
       "        8.66313493e-01, 8.66313493e-01, 8.66936740e-01, 8.66936740e-01,\n",
       "        8.67871611e-01, 8.67871611e-01, 8.69741352e-01, 8.69741352e-01,\n",
       "        8.70676223e-01, 8.70676223e-01, 8.71922717e-01, 8.71922717e-01,\n",
       "        8.72857588e-01, 8.72857588e-01, 8.73480835e-01, 8.73480835e-01,\n",
       "        8.75038953e-01, 8.75038953e-01, 8.75350577e-01, 8.75350577e-01,\n",
       "        8.75662200e-01, 8.75662200e-01, 8.77220318e-01, 8.77220318e-01,\n",
       "        8.77531941e-01, 8.77531941e-01, 8.79090059e-01, 8.79090059e-01,\n",
       "        8.79401683e-01, 8.79401683e-01, 8.79713306e-01, 8.79713306e-01,\n",
       "        8.80648177e-01, 8.80648177e-01, 8.82206295e-01, 8.82206295e-01,\n",
       "        8.82829542e-01, 8.82829542e-01, 8.83141165e-01, 8.83141165e-01,\n",
       "        8.83764413e-01, 8.83764413e-01, 8.84387660e-01, 8.84387660e-01,\n",
       "        8.85010907e-01, 8.85010907e-01, 8.85322530e-01, 8.85322530e-01,\n",
       "        8.88750390e-01, 8.88750390e-01, 8.90931754e-01, 8.90931754e-01,\n",
       "        8.91866625e-01, 8.91866625e-01, 8.92489872e-01, 8.92489872e-01,\n",
       "        8.92801496e-01, 8.92801496e-01, 8.93113119e-01, 8.93113119e-01,\n",
       "        8.93424743e-01, 8.93424743e-01, 8.94671237e-01, 8.94671237e-01,\n",
       "        8.94982861e-01, 8.94982861e-01, 8.95606108e-01, 8.95606108e-01,\n",
       "        8.96229355e-01, 8.96229355e-01, 8.97787473e-01, 8.97787473e-01,\n",
       "        8.98099096e-01, 8.98099096e-01, 8.99033967e-01, 8.99033967e-01,\n",
       "        8.99657214e-01, 8.99657214e-01, 9.00280461e-01, 9.00280461e-01,\n",
       "        9.00592085e-01, 9.00592085e-01, 9.01215332e-01, 9.01215332e-01,\n",
       "        9.02150203e-01, 9.02150203e-01, 9.02461826e-01, 9.02461826e-01,\n",
       "        9.02773450e-01, 9.02773450e-01, 9.03085073e-01, 9.03085073e-01,\n",
       "        9.03396697e-01, 9.03396697e-01, 9.04019944e-01, 9.04019944e-01,\n",
       "        9.04331567e-01, 9.04331567e-01, 9.05578062e-01, 9.05578062e-01,\n",
       "        9.05889685e-01, 9.05889685e-01, 9.07447803e-01, 9.07447803e-01,\n",
       "        9.08382674e-01, 9.08382674e-01, 9.09940792e-01, 9.09940792e-01,\n",
       "        9.10252415e-01, 9.10252415e-01, 9.10875662e-01, 9.10875662e-01,\n",
       "        9.11187286e-01, 9.11187286e-01, 9.12122156e-01, 9.12122156e-01,\n",
       "        9.12433780e-01, 9.12433780e-01, 9.12745404e-01, 9.12745404e-01,\n",
       "        9.13057027e-01, 9.13057027e-01, 9.13368651e-01, 9.13368651e-01,\n",
       "        9.13680274e-01, 9.13680274e-01, 9.14615145e-01, 9.14615145e-01,\n",
       "        9.14926768e-01, 9.14926768e-01, 9.15238392e-01, 9.15238392e-01,\n",
       "        9.16484886e-01, 9.16484886e-01, 9.16796510e-01, 9.16796510e-01,\n",
       "        9.17419757e-01, 9.17419757e-01, 9.18666251e-01, 9.18666251e-01,\n",
       "        9.18977875e-01, 9.18977875e-01, 9.19289498e-01, 9.19289498e-01,\n",
       "        9.19601122e-01, 9.19601122e-01, 9.19912745e-01, 9.19912745e-01,\n",
       "        9.20224369e-01, 9.20224369e-01, 9.20535993e-01, 9.20535993e-01,\n",
       "        9.21159240e-01, 9.21159240e-01, 9.21470863e-01, 9.21470863e-01,\n",
       "        9.22094110e-01, 9.22094110e-01, 9.22405734e-01, 9.22405734e-01,\n",
       "        9.23028981e-01, 9.23028981e-01, 9.23963852e-01, 9.23963852e-01,\n",
       "        9.25833593e-01, 9.25833593e-01, 9.26768464e-01, 9.26768464e-01,\n",
       "        9.27080087e-01, 9.27080087e-01, 9.28014958e-01, 9.28014958e-01,\n",
       "        9.28638205e-01, 9.28638205e-01, 9.28949829e-01, 9.28949829e-01,\n",
       "        9.29573076e-01, 9.29573076e-01, 9.29884699e-01, 9.29884699e-01,\n",
       "        9.30196323e-01, 9.30196323e-01, 9.30819570e-01, 9.30819570e-01,\n",
       "        9.31131194e-01, 9.31131194e-01, 9.31442817e-01, 9.31442817e-01,\n",
       "        9.31754441e-01, 9.31754441e-01, 9.32066064e-01, 9.32066064e-01,\n",
       "        9.32377688e-01, 9.32377688e-01, 9.32689311e-01, 9.32689311e-01,\n",
       "        9.33000935e-01, 9.33000935e-01, 9.33312558e-01, 9.33312558e-01,\n",
       "        9.33624182e-01, 9.33624182e-01, 9.33935806e-01, 9.33935806e-01,\n",
       "        9.34559053e-01, 9.34559053e-01, 9.34870676e-01, 9.34870676e-01,\n",
       "        9.35182300e-01, 9.35182300e-01, 9.35493923e-01, 9.35493923e-01,\n",
       "        9.36117170e-01, 9.36117170e-01, 9.36428794e-01, 9.36428794e-01,\n",
       "        9.36740418e-01, 9.36740418e-01, 9.37052041e-01, 9.37052041e-01,\n",
       "        9.37363665e-01, 9.37363665e-01, 9.37986912e-01, 9.37986912e-01,\n",
       "        9.38298535e-01, 9.38298535e-01, 9.38610159e-01, 9.38610159e-01,\n",
       "        9.39233406e-01, 9.39233406e-01, 9.39856653e-01, 9.39856653e-01,\n",
       "        9.40479900e-01, 9.40479900e-01, 9.40791524e-01, 9.40791524e-01,\n",
       "        9.41103147e-01, 9.41103147e-01, 9.42038018e-01, 9.42038018e-01,\n",
       "        9.42349642e-01, 9.42349642e-01, 9.42661265e-01, 9.42661265e-01,\n",
       "        9.43284512e-01, 9.43284512e-01, 9.43596136e-01, 9.43596136e-01,\n",
       "        9.43907759e-01, 9.43907759e-01, 9.44219383e-01, 9.44219383e-01,\n",
       "        9.44531007e-01, 9.44531007e-01, 9.44842630e-01, 9.44842630e-01,\n",
       "        9.45154254e-01, 9.45154254e-01, 9.45465877e-01, 9.45465877e-01,\n",
       "        9.45777501e-01, 9.45777501e-01, 9.46089124e-01, 9.46089124e-01,\n",
       "        9.46400748e-01, 9.46400748e-01, 9.46712371e-01, 9.46712371e-01,\n",
       "        9.47335619e-01, 9.47335619e-01, 9.47647242e-01, 9.47647242e-01,\n",
       "        9.47958866e-01, 9.47958866e-01, 9.48270489e-01, 9.48270489e-01,\n",
       "        9.48582113e-01, 9.48582113e-01, 9.48893736e-01, 9.48893736e-01,\n",
       "        9.49205360e-01, 9.49205360e-01, 9.49516983e-01, 9.49516983e-01,\n",
       "        9.49828607e-01, 9.49828607e-01, 9.50140231e-01, 9.50140231e-01,\n",
       "        9.50451854e-01, 9.50451854e-01, 9.50763478e-01, 9.50763478e-01,\n",
       "        9.51075101e-01, 9.51075101e-01, 9.51698348e-01, 9.51698348e-01,\n",
       "        9.52009972e-01, 9.52009972e-01, 9.52321596e-01, 9.52321596e-01,\n",
       "        9.52633219e-01, 9.52633219e-01, 9.52944843e-01, 9.52944843e-01,\n",
       "        9.53256466e-01, 9.53256466e-01, 9.53879713e-01, 9.53879713e-01,\n",
       "        9.54191337e-01, 9.54191337e-01, 9.54814584e-01, 9.54814584e-01,\n",
       "        9.55126208e-01, 9.55126208e-01, 9.55749455e-01, 9.55749455e-01,\n",
       "        9.56061078e-01, 9.56061078e-01, 9.56372702e-01, 9.56372702e-01,\n",
       "        9.57307572e-01, 9.57307572e-01, 9.57619196e-01, 9.57619196e-01,\n",
       "        9.57930820e-01, 9.57930820e-01, 9.58242443e-01, 9.58242443e-01,\n",
       "        9.58554067e-01, 9.58554067e-01, 9.59177314e-01, 9.59177314e-01,\n",
       "        9.59488937e-01, 9.59488937e-01, 9.59800561e-01, 9.59800561e-01,\n",
       "        9.60112184e-01, 9.60112184e-01, 9.60423808e-01, 9.60423808e-01,\n",
       "        9.60735432e-01, 9.60735432e-01, 9.61047055e-01, 9.61047055e-01,\n",
       "        9.61358679e-01, 9.61358679e-01, 9.61670302e-01, 9.61670302e-01,\n",
       "        9.61981926e-01, 9.61981926e-01, 9.62293549e-01, 9.62293549e-01,\n",
       "        9.62605173e-01, 9.62605173e-01, 9.62916797e-01, 9.62916797e-01,\n",
       "        9.63228420e-01, 9.63228420e-01, 9.63540044e-01, 9.63540044e-01,\n",
       "        9.63851667e-01, 9.63851667e-01, 9.64163291e-01, 9.64163291e-01,\n",
       "        9.64474914e-01, 9.64474914e-01, 9.64786538e-01, 9.64786538e-01,\n",
       "        9.65098161e-01, 9.65098161e-01, 9.65409785e-01, 9.65409785e-01,\n",
       "        9.65721409e-01, 9.65721409e-01, 9.66033032e-01, 9.66033032e-01,\n",
       "        9.66656279e-01, 9.66656279e-01, 9.66967903e-01, 9.66967903e-01,\n",
       "        9.67279526e-01, 9.67279526e-01, 9.67591150e-01, 9.67591150e-01,\n",
       "        9.68214397e-01, 9.68214397e-01, 9.68526021e-01, 9.68526021e-01,\n",
       "        9.68837644e-01, 9.68837644e-01, 9.69149268e-01, 9.69149268e-01,\n",
       "        9.69460891e-01, 9.69460891e-01, 9.69772515e-01, 9.69772515e-01,\n",
       "        9.70084138e-01, 9.70084138e-01, 9.70395762e-01, 9.70395762e-01,\n",
       "        9.70707385e-01, 9.70707385e-01, 9.71019009e-01, 9.71019009e-01,\n",
       "        9.71330633e-01, 9.71330633e-01, 9.71642256e-01, 9.71642256e-01,\n",
       "        9.72265503e-01, 9.72265503e-01, 9.72577127e-01, 9.72577127e-01,\n",
       "        9.72888750e-01, 9.72888750e-01, 9.73200374e-01, 9.73200374e-01,\n",
       "        9.73511998e-01, 9.73511998e-01, 9.73823621e-01, 9.73823621e-01,\n",
       "        9.74135245e-01, 9.74135245e-01, 9.74446868e-01, 9.74446868e-01,\n",
       "        9.74758492e-01, 9.74758492e-01, 9.75070115e-01, 9.75070115e-01,\n",
       "        9.75693362e-01, 9.75693362e-01, 9.76004986e-01, 9.76004986e-01,\n",
       "        9.76628233e-01, 9.76628233e-01, 9.76939857e-01, 9.76939857e-01,\n",
       "        9.77251480e-01, 9.77251480e-01, 9.77563104e-01, 9.77563104e-01,\n",
       "        9.77563104e-01, 9.77563104e-01, 9.77874727e-01, 9.77874727e-01,\n",
       "        9.78186351e-01, 9.78186351e-01, 9.78497974e-01, 9.78497974e-01,\n",
       "        9.78809598e-01, 9.78809598e-01, 9.79121222e-01, 9.79121222e-01,\n",
       "        9.79432845e-01, 9.79432845e-01, 9.79744469e-01, 9.79744469e-01,\n",
       "        9.80056092e-01, 9.80056092e-01, 9.80367716e-01, 9.80367716e-01,\n",
       "        9.80679339e-01, 9.80679339e-01, 9.80990963e-01, 9.80990963e-01,\n",
       "        9.81302586e-01, 9.81302586e-01, 9.81614210e-01, 9.81614210e-01,\n",
       "        9.81925834e-01, 9.81925834e-01, 9.82237457e-01, 9.82237457e-01,\n",
       "        9.82860704e-01, 9.82860704e-01, 9.83172328e-01, 9.83172328e-01,\n",
       "        9.83795575e-01, 9.83795575e-01, 9.84107199e-01, 9.84107199e-01,\n",
       "        9.84418822e-01, 9.84418822e-01, 9.84730446e-01, 9.84730446e-01,\n",
       "        9.85353693e-01, 9.85353693e-01, 9.85665316e-01, 9.85665316e-01,\n",
       "        9.85976940e-01, 9.85976940e-01, 9.86600187e-01, 9.86600187e-01,\n",
       "        9.86911811e-01, 9.86911811e-01, 9.87223434e-01, 9.87223434e-01,\n",
       "        9.87535058e-01, 9.87535058e-01, 9.87846681e-01, 9.87846681e-01,\n",
       "        9.88158305e-01, 9.88158305e-01, 9.88469928e-01, 9.88469928e-01,\n",
       "        9.88781552e-01, 9.88781552e-01, 9.89093175e-01, 9.89093175e-01,\n",
       "        9.89404799e-01, 9.89404799e-01, 9.89716423e-01, 9.89716423e-01,\n",
       "        9.90028046e-01, 9.90028046e-01, 9.90339670e-01, 9.90339670e-01,\n",
       "        9.90651293e-01, 9.90651293e-01, 9.90962917e-01, 9.90962917e-01,\n",
       "        9.91274540e-01, 9.91274540e-01, 9.91586164e-01, 9.91586164e-01,\n",
       "        9.91897787e-01, 9.91897787e-01, 9.92209411e-01, 9.92209411e-01,\n",
       "        9.92832658e-01, 9.92832658e-01, 9.93144282e-01, 9.93144282e-01,\n",
       "        9.93455905e-01, 9.93455905e-01, 9.93767529e-01, 9.93767529e-01,\n",
       "        9.94079152e-01, 9.94079152e-01, 9.94390776e-01, 9.94390776e-01,\n",
       "        9.94702400e-01, 9.94702400e-01, 9.95014023e-01, 9.95014023e-01,\n",
       "        9.95325647e-01, 9.95325647e-01, 9.95637270e-01, 9.95637270e-01,\n",
       "        9.95948894e-01, 9.95948894e-01, 9.96260517e-01, 9.96260517e-01,\n",
       "        9.96572141e-01, 9.96572141e-01, 9.96883764e-01, 9.96883764e-01,\n",
       "        9.97195388e-01, 9.97195388e-01, 9.97507012e-01, 9.97507012e-01,\n",
       "        9.98130259e-01, 9.98130259e-01, 9.98441882e-01, 9.98441882e-01,\n",
       "        9.98753506e-01, 9.98753506e-01, 9.99065129e-01, 9.99065129e-01,\n",
       "        9.99376753e-01, 9.99376753e-01, 9.99688376e-01, 9.99688376e-01,\n",
       "        1.00000000e+00, 1.00000000e+00]))"
      ]
     },
     "execution_count": 74,
     "metadata": {},
     "output_type": "execute_result"
    }
   ],
   "source": [
    "# Plot AUC - ROC Curve\n",
    "from sklearn.metrics import roc_curve, auc\n",
    "import matplotlib.pyplot as plt\n",
    "\n",
    "y_pred_proba2 = best_lr_model.predict_proba(X_test)[:, 1]\n",
    "plot_roc_curve(y_test, y_pred_proba2)"
   ]
  },
  {
   "cell_type": "markdown",
   "id": "c1f21c03",
   "metadata": {},
   "source": [
    "O modelo apresentou excelente separação entre as classes."
   ]
  },
  {
   "cell_type": "code",
   "execution_count": 71,
   "id": "2d543d7b",
   "metadata": {},
   "outputs": [
    {
     "data": {
      "image/png": "[encoded data removed]",
      "text/plain": [
       "<Figure size 800x600 with 1 Axes>"
      ]
     },
     "metadata": {},
     "output_type": "display_data"
    }
   ],
   "source": [
    "# plot confusion matrix\n",
    "y_lr_pred, y_lr_pred_proba = y_test, best_lr_model.predict(X_test)\n",
    "cm2 = plot_confusion_matrix(y_lr_pred, y_lr_pred_proba)"
   ]
  },
  {
   "cell_type": "markdown",
   "id": "f9eeb71b",
   "metadata": {},
   "source": [
    "### **Saving Models**"
   ]
  },
  {
   "cell_type": "code",
   "execution_count": 77,
   "id": "10d74d2d",
   "metadata": {},
   "outputs": [],
   "source": [
    "# Saving regression model\n",
    "import pickle\n",
    "\n",
    "model_name = 'logit_model.pkl'\n",
    "model_path = os.path.join(root_path, src_dir, models_dir, ml_dir, 'files', model_name)\n",
    "\n",
    "with open(model_path, 'wb') as file:\n",
    "    pickle.dump(best_lr_model, file)"
   ]
  },
  {
   "cell_type": "markdown",
   "id": "be0f9c85",
   "metadata": {},
   "source": [
    "#### **Saving Metrics**"
   ]
  },
  {
   "cell_type": "code",
   "execution_count": 88,
   "id": "23916022",
   "metadata": {},
   "outputs": [],
   "source": [
    "y_pred_new_logreg = best_lr_model.predict(X_test)\n",
    "\n",
    "logit2_metrics = {\n",
    "    'accuracy': accuracy_score(y_test, y_pred_new_logreg),\n",
    "    'precision': precision_score(y_test, y_pred_new_logreg, average='binary'),\n",
    "    'recall': recall_score(y_test, y_pred_new_logreg, average='binary'),\n",
    "    'f1_score': f1_score(y_test, y_pred_new_logreg, average='binary'),\n",
    "}\n",
    "\n",
    "logit_metrics_path = os.path.join(root_path, src_dir, models_dir, ml_dir, 'metrics', 'logit_metrics.json')\n",
    "\n",
    "# Saving JSON\n",
    "with open(logit_metrics_path, 'w') as f:\n",
    "    json.dump(logit2_metrics, f, indent=4)"
   ]
  },
  {
   "cell_type": "markdown",
   "id": "fb5edbf1",
   "metadata": {},
   "source": [
    "---"
   ]
  }
 ],
 "metadata": {
  "kernelspec": {
   "display_name": "Python 3",
   "language": "python",
   "name": "python3"
  },
  "language_info": {
   "codemirror_mode": {
    "name": "ipython",
    "version": 3
   },
   "file_extension": ".py",
   "mimetype": "text/x-python",
   "name": "python",
   "nbconvert_exporter": "python",
   "pygments_lexer": "ipython3",
   "version": "3.11.9"
  }
 },
 "nbformat": 4,
 "nbformat_minor": 5
}
