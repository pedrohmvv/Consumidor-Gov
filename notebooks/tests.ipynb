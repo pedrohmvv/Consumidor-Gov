{
 "cells": [
  {
   "cell_type": "code",
   "execution_count": 1,
   "metadata": {},
   "outputs": [],
   "source": [
    "import sys\n",
    "import os\n",
    "\n",
    "# Adiciona o diretório raiz do projeto ao sys.path\n",
    "sys.path.append(os.path.abspath(os.path.join(os.getcwd(), '..')))"
   ]
  },
  {
   "cell_type": "code",
   "execution_count": 2,
   "metadata": {},
   "outputs": [],
   "source": [
    "from src.backend.consumer import Consumer\n",
    "from src.backend.report import Report"
   ]
  },
  {
   "cell_type": "code",
   "execution_count": 16,
   "metadata": {},
   "outputs": [],
   "source": [
    "from tinydb import TinyDB\n",
    "from pandas import DataFrame\n",
    "\n",
    "db = TinyDB(r'C:\\Users\\user\\Desktop\\UFPB\\5-Periodo\\ML\\Projeto\\consumidor_gov\\src\\backend\\database\\consumidor_gov_brasil.db')\n",
    "reports = db.table('reports')\n",
    "predictions = db.table('predicitons')\n",
    "companies = db.table('companies')\n",
    "users = db.table('users')"
   ]
  },
  {
   "cell_type": "code",
   "execution_count": 23,
   "metadata": {},
   "outputs": [
    {
     "name": "stdout",
     "output_type": "stream",
     "text": [
      "Tabela:  users\n",
      "Colunas:  dict_keys(['id_user', 'name', 'user_type', 'id_company', 'email', 'cpf_user', 'password'])\n",
      "\n",
      "Tabela:  reports\n",
      "Colunas:  dict_keys(['status', 'date', 'report', 'company_response', 'response_date', 'rating_score', 'consumer_written_evaluation', 'id_company', 'id_user', 'id_report'])\n",
      "\n",
      "Tabela:  companies\n",
      "Colunas:  dict_keys(['id_company', 'company_name'])\n",
      "\n",
      "Tabela:  predicitons\n",
      "Colunas:  dict_keys(['id_report', 'prediction', 'predicted_label', 'true_label'])\n",
      "\n"
     ]
    }
   ],
   "source": [
    "for table in db.tables():\n",
    "    print('Tabela: ', table)\n",
    "    print('Colunas: ', db.table(table).all()[0].keys())\n",
    "    print('')\n"
   ]
  },
  {
   "cell_type": "code",
   "execution_count": 17,
   "metadata": {},
   "outputs": [],
   "source": [
    "from tinydb import Query\n",
    "query = Query()\n",
    "\n",
    "my_user = users.search(query.name == 'Usuário de Teste')"
   ]
  },
  {
   "cell_type": "code",
   "execution_count": 18,
   "metadata": {},
   "outputs": [
    {
     "data": {
      "text/plain": [
       "[{'id_user': 2000,\n",
       "  'name': 'Usuário de Teste',\n",
       "  'user_type': 'cidadao',\n",
       "  'id_company': None,\n",
       "  'cpf_user': '99999999999',\n",
       "  'email': 'usuario-teste@gmail.com',\n",
       "  'password': '$2b$12$b8H8yrsok03aPsCy9IOGaumKjaDTwqF0HrC6qaSiFzOZfLPhnDa3K'}]"
      ]
     },
     "execution_count": 18,
     "metadata": {},
     "output_type": "execute_result"
    }
   ],
   "source": [
    "my_user"
   ]
  },
  {
   "cell_type": "code",
   "execution_count": 13,
   "metadata": {},
   "outputs": [],
   "source": [
    "df_reports = DataFrame(reports)\n",
    "df_predictions = DataFrame(predictions)\n",
    "df_companies = DataFrame(companies)"
   ]
  },
  {
   "cell_type": "code",
   "execution_count": 14,
   "metadata": {},
   "outputs": [],
   "source": [
    "df = (\n",
    "    df_reports\n",
    "    .merge(df_predictions, on='id_report', how='left')\n",
    "    .merge(df_companies, on='id_company', how='left')\n",
    "    .assign(non_resolution_prob=lambda x: 1 - x.prediction)\n",
    "    .sort_values('prediction', ascending=False)\n",
    ")"
   ]
  },
  {
   "cell_type": "code",
   "execution_count": 32,
   "metadata": {},
   "outputs": [],
   "source": [
    "from pandas import DataFrame\n",
    "reports_df = DataFrame(reports.all())\n"
   ]
  },
  {
   "cell_type": "code",
   "execution_count": 33,
   "metadata": {},
   "outputs": [
    {
     "data": {
      "text/plain": [
       "status\n",
       "Não avaliado pelo consumidor    18325\n",
       "Resolvido                       16045\n",
       "Não Resolvido                   15634\n",
       "Name: count, dtype: int64"
      ]
     },
     "execution_count": 33,
     "metadata": {},
     "output_type": "execute_result"
    }
   ],
   "source": [
    "reports_df['status'].value_counts()"
   ]
  },
  {
   "cell_type": "code",
   "execution_count": 31,
   "metadata": {},
   "outputs": [
    {
     "name": "stdout",
     "output_type": "stream",
     "text": [
      "<class 'pandas.core.frame.DataFrame'>\n",
      "Index: 31675 entries, 0 to 49989\n",
      "Data columns (total 4 columns):\n",
      " #   Column        Non-Null Count  Dtype         \n",
      "---  ------        --------------  -----         \n",
      " 0   date          31675 non-null  object        \n",
      " 1   rating_score  31675 non-null  object        \n",
      " 2   date_format   31675 non-null  datetime64[ns]\n",
      " 3   rating        31675 non-null  int32         \n",
      "dtypes: datetime64[ns](1), int32(1), object(2)\n",
      "memory usage: 1.1+ MB\n"
     ]
    }
   ],
   "source": [
    "from pandas import to_datetime\n",
    "from numpy import nan\n",
    "\n",
    "reports_df.assign(\n",
    "    date_format=lambda x: to_datetime(x.date.str.slice(0, 10), dayfirst=True),\n",
    "    rating = lambda x: x.rating_score.str.extract('(\\d+)').astype('Int64')\n",
    " \n",
    ").query('rating != @nan').assign(\n",
    "    rating = lambda x: x.rating.astype(int)\n",
    ").info()\n"
   ]
  },
  {
   "cell_type": "code",
   "execution_count": 6,
   "metadata": {},
   "outputs": [
    {
     "data": {
      "text/plain": [
       "[{'id_company': 736, 'company_name': 'Serasa Experian'}]"
      ]
     },
     "execution_count": 6,
     "metadata": {},
     "output_type": "execute_result"
    }
   ],
   "source": [
    "from tinydb import Query\n",
    "reports.search(Query().id_company == 736)"
   ]
  },
  {
   "cell_type": "code",
   "execution_count": 33,
   "metadata": {},
   "outputs": [
    {
     "data": {
      "text/plain": [
       "{'id_report': 1,\n",
       " 'prediction': 0.22852706909179688,\n",
       " 'predicted_label': 0,\n",
       " 'true_label': 0}"
      ]
     },
     "execution_count": 33,
     "metadata": {},
     "output_type": "execute_result"
    }
   ],
   "source": [
    "sample"
   ]
  },
  {
   "cell_type": "code",
   "execution_count": 21,
   "metadata": {},
   "outputs": [],
   "source": [
    "report = Report(\n",
    "    status=sample[\"status\"],\n",
    "    date=sample[\"date\"],\n",
    "    report=sample[\"report\"],\n",
    "    company_response=sample[\"company_response\"],\n",
    "    response_date=sample[\"response_date\"],\n",
    "    rating_score=sample[\"rating_score\"],\n",
    "    consumer_written_evaluation=sample[\"consumer_written_evaluation\"],\n",
    "    id_company=sample[\"id_company\"],\n",
    "    id_user=sample[\"id_user\"],\n",
    "    id_report=sample[\"id_report\"],\n",
    "    \n",
    ")\n"
   ]
  },
  {
   "cell_type": "code",
   "execution_count": 22,
   "metadata": {},
   "outputs": [
    {
     "data": {
      "text/plain": [
       "{'status': 'Não Resolvido',\n",
       " 'date': '25/04/2025, Santa Maria - RS',\n",
       " 'report': 'Solicito a imediata retirada da negativação indevida referente a dívida prescrita, com mais de 5 anos, registrada de forma ilegal no Serasa. Caso não seja retirada, tomarei as medidas judiciais cabíveis, inclusive pedido de indenização por danos morais.',\n",
       " 'company_response': 'Oi, FLAVIA. Tudo bem?\\n\\n\\nAcabamos de responder a sua solicitação. Por favor, acesse o campo \"Complemento da Reclamação\" e confira a resposta.\\n\\n\\nConte com o nosso apoio.\\n\\n\\nEquipe Serasa Experian.',\n",
       " 'response_date': '(no mesmo dia)',\n",
       " 'rating_score': 'Nota 2',\n",
       " 'consumer_written_evaluation': '<não há comentários do consumidor>',\n",
       " 'id_company': 736,\n",
       " 'id_user': 2211,\n",
       " 'id_report': 1}"
      ]
     },
     "execution_count": 22,
     "metadata": {},
     "output_type": "execute_result"
    }
   ],
   "source": [
    "sample"
   ]
  },
  {
   "cell_type": "code",
   "execution_count": 23,
   "metadata": {},
   "outputs": [],
   "source": [
    "consumer = ConsumerPage(None)    "
   ]
  },
  {
   "cell_type": "code",
   "execution_count": 24,
   "metadata": {},
   "outputs": [
    {
     "name": "stdout",
     "output_type": "stream",
     "text": [
      "\u001b[1m1/1\u001b[0m \u001b[32m━━━━━━━━━━━━━━━━━━━━\u001b[0m\u001b[37m\u001b[0m \u001b[1m0s\u001b[0m 50ms/step\n"
     ]
    }
   ],
   "source": [
    "predictions = consumer.predict_report(report)\n"
   ]
  },
  {
   "cell_type": "code",
   "execution_count": 25,
   "metadata": {},
   "outputs": [
    {
     "data": {
      "text/plain": [
       "{'report_id': 1,\n",
       " 'probability': array([[0.22852713]], dtype=float32),\n",
       " 'label': array([0], dtype=int64)}"
      ]
     },
     "execution_count": 25,
     "metadata": {},
     "output_type": "execute_result"
    }
   ],
   "source": [
    "predictions"
   ]
  },
  {
   "cell_type": "code",
   "execution_count": null,
   "metadata": {},
   "outputs": [],
   "source": []
  }
 ],
 "metadata": {
  "kernelspec": {
   "display_name": "Python 3",
   "language": "python",
   "name": "python3"
  },
  "language_info": {
   "codemirror_mode": {
    "name": "ipython",
    "version": 3
   },
   "file_extension": ".py",
   "mimetype": "text/x-python",
   "name": "python",
   "nbconvert_exporter": "python",
   "pygments_lexer": "ipython3",
   "version": "3.11.9"
  }
 },
 "nbformat": 4,
 "nbformat_minor": 2
}
