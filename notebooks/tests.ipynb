{
 "cells": [
  {
   "cell_type": "code",
   "execution_count": 2,
   "metadata": {},
   "outputs": [],
   "source": [
    "import sys\n",
    "import os\n",
    "\n",
    "# Adiciona o diretório raiz do projeto ao sys.path\n",
    "sys.path.append(os.path.abspath(os.path.join(os.getcwd(), '..')))"
   ]
  },
  {
   "cell_type": "code",
   "execution_count": 3,
   "metadata": {},
   "outputs": [
    {
     "ename": "ImportError",
     "evalue": "cannot import name 'ConsumerPage' from 'src.backend.consumer' (c:\\Users\\user\\Desktop\\UFPB\\5-Periodo\\ML\\Projeto\\consumidor_gov\\src\\backend\\consumer.py)",
     "output_type": "error",
     "traceback": [
      "\u001b[1;31m---------------------------------------------------------------------------\u001b[0m",
      "\u001b[1;31mImportError\u001b[0m                               Traceback (most recent call last)",
      "Cell \u001b[1;32mIn[3], line 1\u001b[0m\n\u001b[1;32m----> 1\u001b[0m \u001b[38;5;28;01mfrom\u001b[39;00m \u001b[38;5;21;01msrc\u001b[39;00m\u001b[38;5;21;01m.\u001b[39;00m\u001b[38;5;21;01mbackend\u001b[39;00m\u001b[38;5;21;01m.\u001b[39;00m\u001b[38;5;21;01mconsumer\u001b[39;00m \u001b[38;5;28;01mimport\u001b[39;00m ConsumerPage\n\u001b[0;32m      2\u001b[0m \u001b[38;5;28;01mfrom\u001b[39;00m \u001b[38;5;21;01msrc\u001b[39;00m\u001b[38;5;21;01m.\u001b[39;00m\u001b[38;5;21;01mbackend\u001b[39;00m\u001b[38;5;21;01m.\u001b[39;00m\u001b[38;5;21;01mreport\u001b[39;00m \u001b[38;5;28;01mimport\u001b[39;00m Report\n",
      "\u001b[1;31mImportError\u001b[0m: cannot import name 'ConsumerPage' from 'src.backend.consumer' (c:\\Users\\user\\Desktop\\UFPB\\5-Periodo\\ML\\Projeto\\consumidor_gov\\src\\backend\\consumer.py)"
     ]
    }
   ],
   "source": [
    "from src.backend.consumer import ConsumerPage\n",
    "from src.backend.report import Report"
   ]
  },
  {
   "cell_type": "code",
   "execution_count": 5,
   "metadata": {},
   "outputs": [],
   "source": [
    "from tinydb import TinyDB\n",
    "\n",
    "db = TinyDB(r'C:\\Users\\user\\Desktop\\UFPB\\5-Periodo\\ML\\Projeto\\consumidor_gov\\src\\backend\\database\\consumidor_gov_brasil.db')\n",
    "reports = db.table('companies')\n",
    "sample = reports.all()[0]"
   ]
  },
  {
   "cell_type": "code",
   "execution_count": 6,
   "metadata": {},
   "outputs": [
    {
     "data": {
      "text/plain": [
       "[{'id_company': 736, 'company_name': 'Serasa Experian'}]"
      ]
     },
     "execution_count": 6,
     "metadata": {},
     "output_type": "execute_result"
    }
   ],
   "source": [
    "from tinydb import Query\n",
    "reports.search(Query().id_company == 736)"
   ]
  },
  {
   "cell_type": "code",
   "execution_count": 33,
   "metadata": {},
   "outputs": [
    {
     "data": {
      "text/plain": [
       "{'id_report': 1,\n",
       " 'prediction': 0.22852706909179688,\n",
       " 'predicted_label': 0,\n",
       " 'true_label': 0}"
      ]
     },
     "execution_count": 33,
     "metadata": {},
     "output_type": "execute_result"
    }
   ],
   "source": [
    "sample"
   ]
  },
  {
   "cell_type": "code",
   "execution_count": 21,
   "metadata": {},
   "outputs": [],
   "source": [
    "report = Report(\n",
    "    status=sample[\"status\"],\n",
    "    date=sample[\"date\"],\n",
    "    report=sample[\"report\"],\n",
    "    company_response=sample[\"company_response\"],\n",
    "    response_date=sample[\"response_date\"],\n",
    "    rating_score=sample[\"rating_score\"],\n",
    "    consumer_written_evaluation=sample[\"consumer_written_evaluation\"],\n",
    "    id_company=sample[\"id_company\"],\n",
    "    id_user=sample[\"id_user\"],\n",
    "    id_report=sample[\"id_report\"],\n",
    "    \n",
    ")\n"
   ]
  },
  {
   "cell_type": "code",
   "execution_count": 22,
   "metadata": {},
   "outputs": [
    {
     "data": {
      "text/plain": [
       "{'status': 'Não Resolvido',\n",
       " 'date': '25/04/2025, Santa Maria - RS',\n",
       " 'report': 'Solicito a imediata retirada da negativação indevida referente a dívida prescrita, com mais de 5 anos, registrada de forma ilegal no Serasa. Caso não seja retirada, tomarei as medidas judiciais cabíveis, inclusive pedido de indenização por danos morais.',\n",
       " 'company_response': 'Oi, FLAVIA. Tudo bem?\\n\\n\\nAcabamos de responder a sua solicitação. Por favor, acesse o campo \"Complemento da Reclamação\" e confira a resposta.\\n\\n\\nConte com o nosso apoio.\\n\\n\\nEquipe Serasa Experian.',\n",
       " 'response_date': '(no mesmo dia)',\n",
       " 'rating_score': 'Nota 2',\n",
       " 'consumer_written_evaluation': '<não há comentários do consumidor>',\n",
       " 'id_company': 736,\n",
       " 'id_user': 2211,\n",
       " 'id_report': 1}"
      ]
     },
     "execution_count": 22,
     "metadata": {},
     "output_type": "execute_result"
    }
   ],
   "source": [
    "sample"
   ]
  },
  {
   "cell_type": "code",
   "execution_count": 23,
   "metadata": {},
   "outputs": [],
   "source": [
    "consumer = ConsumerPage(None)    "
   ]
  },
  {
   "cell_type": "code",
   "execution_count": 24,
   "metadata": {},
   "outputs": [
    {
     "name": "stdout",
     "output_type": "stream",
     "text": [
      "\u001b[1m1/1\u001b[0m \u001b[32m━━━━━━━━━━━━━━━━━━━━\u001b[0m\u001b[37m\u001b[0m \u001b[1m0s\u001b[0m 50ms/step\n"
     ]
    }
   ],
   "source": [
    "predictions = consumer.predict_report(report)\n"
   ]
  },
  {
   "cell_type": "code",
   "execution_count": 25,
   "metadata": {},
   "outputs": [
    {
     "data": {
      "text/plain": [
       "{'report_id': 1,\n",
       " 'probability': array([[0.22852713]], dtype=float32),\n",
       " 'label': array([0], dtype=int64)}"
      ]
     },
     "execution_count": 25,
     "metadata": {},
     "output_type": "execute_result"
    }
   ],
   "source": [
    "predictions"
   ]
  },
  {
   "cell_type": "code",
   "execution_count": null,
   "metadata": {},
   "outputs": [],
   "source": []
  }
 ],
 "metadata": {
  "kernelspec": {
   "display_name": "Python 3",
   "language": "python",
   "name": "python3"
  },
  "language_info": {
   "codemirror_mode": {
    "name": "ipython",
    "version": 3
   },
   "file_extension": ".py",
   "mimetype": "text/x-python",
   "name": "python",
   "nbconvert_exporter": "python",
   "pygments_lexer": "ipython3",
   "version": "3.11.9"
  }
 },
 "nbformat": 4,
 "nbformat_minor": 2
}
