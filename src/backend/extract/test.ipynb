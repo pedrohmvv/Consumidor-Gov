{
 "cells": [
  {
   "cell_type": "code",
   "execution_count": 1,
   "id": "cad4f38e",
   "metadata": {},
   "outputs": [],
   "source": [
    "from pandas import read_csv\n",
    "path = r'C:\\Users\\user\\Desktop\\UFPB\\5-Periodo\\ML\\Projeto\\consumidor_gov\\data\\staging_area\\consumidor_gov_brasil.csv'\n",
    "df = read_csv(path, sep='|')"
   ]
  },
  {
   "cell_type": "code",
   "execution_count": 2,
   "id": "8d82e760",
   "metadata": {},
   "outputs": [
    {
     "data": {
      "text/plain": [
       "Index(['company_name', 'status', 'date', 'report', 'company_response',\n",
       "       'response_date', 'rating_score', 'consumer_written_evaluation'],\n",
       "      dtype='object')"
      ]
     },
     "execution_count": 2,
     "metadata": {},
     "output_type": "execute_result"
    }
   ],
   "source": [
    "df.columns"
   ]
  },
  {
   "cell_type": "code",
   "execution_count": null,
   "id": "509a86bd",
   "metadata": {},
   "outputs": [],
   "source": []
  }
 ],
 "metadata": {
  "kernelspec": {
   "display_name": "Python 3",
   "language": "python",
   "name": "python3"
  },
  "language_info": {
   "codemirror_mode": {
    "name": "ipython",
    "version": 3
   },
   "file_extension": ".py",
   "mimetype": "text/x-python",
   "name": "python",
   "nbconvert_exporter": "python",
   "pygments_lexer": "ipython3",
   "version": "3.11.9"
  }
 },
 "nbformat": 4,
 "nbformat_minor": 5
}
